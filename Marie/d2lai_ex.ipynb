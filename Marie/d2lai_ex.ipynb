{
  "nbformat": 4,
  "nbformat_minor": 0,
  "metadata": {
    "colab": {
      "provenance": [],
      "authorship_tag": "ABX9TyNZ9AV20igqllxZ23bobGYT",
      "include_colab_link": true
    },
    "kernelspec": {
      "name": "python3",
      "display_name": "Python 3"
    },
    "language_info": {
      "name": "python"
    },
    "widgets": {
      "application/vnd.jupyter.widget-state+json": {
        "326647fabe674bcbbee718d18c769b94": {
          "model_module": "@jupyter-widgets/controls",
          "model_name": "HBoxModel",
          "model_module_version": "1.5.0",
          "state": {
            "_dom_classes": [],
            "_model_module": "@jupyter-widgets/controls",
            "_model_module_version": "1.5.0",
            "_model_name": "HBoxModel",
            "_view_count": null,
            "_view_module": "@jupyter-widgets/controls",
            "_view_module_version": "1.5.0",
            "_view_name": "HBoxView",
            "box_style": "",
            "children": [
              "IPY_MODEL_872e5c9c54e749cbbef7ab45139a987c",
              "IPY_MODEL_a94a2371e31c4db88b914d1c924fa3ae",
              "IPY_MODEL_6aaaa02b8db44244aaabfe887b2c000e"
            ],
            "layout": "IPY_MODEL_af949945d5754800ad45d9295e01c1ce"
          }
        },
        "872e5c9c54e749cbbef7ab45139a987c": {
          "model_module": "@jupyter-widgets/controls",
          "model_name": "HTMLModel",
          "model_module_version": "1.5.0",
          "state": {
            "_dom_classes": [],
            "_model_module": "@jupyter-widgets/controls",
            "_model_module_version": "1.5.0",
            "_model_name": "HTMLModel",
            "_view_count": null,
            "_view_module": "@jupyter-widgets/controls",
            "_view_module_version": "1.5.0",
            "_view_name": "HTMLView",
            "description": "",
            "description_tooltip": null,
            "layout": "IPY_MODEL_092b6f7df0d54001aef8e743678987d6",
            "placeholder": "​",
            "style": "IPY_MODEL_16103dc5a2ff4539a3b6f5de027e4d45",
            "value": "100%"
          }
        },
        "a94a2371e31c4db88b914d1c924fa3ae": {
          "model_module": "@jupyter-widgets/controls",
          "model_name": "FloatProgressModel",
          "model_module_version": "1.5.0",
          "state": {
            "_dom_classes": [],
            "_model_module": "@jupyter-widgets/controls",
            "_model_module_version": "1.5.0",
            "_model_name": "FloatProgressModel",
            "_view_count": null,
            "_view_module": "@jupyter-widgets/controls",
            "_view_module_version": "1.5.0",
            "_view_name": "ProgressView",
            "bar_style": "success",
            "description": "",
            "description_tooltip": null,
            "layout": "IPY_MODEL_b1e278cab07245cba22141b4824ab045",
            "max": 100,
            "min": 0,
            "orientation": "horizontal",
            "style": "IPY_MODEL_8bef250c6a99470c89ecd34cca2f6f8e",
            "value": 100
          }
        },
        "6aaaa02b8db44244aaabfe887b2c000e": {
          "model_module": "@jupyter-widgets/controls",
          "model_name": "HTMLModel",
          "model_module_version": "1.5.0",
          "state": {
            "_dom_classes": [],
            "_model_module": "@jupyter-widgets/controls",
            "_model_module_version": "1.5.0",
            "_model_name": "HTMLModel",
            "_view_count": null,
            "_view_module": "@jupyter-widgets/controls",
            "_view_module_version": "1.5.0",
            "_view_name": "HTMLView",
            "description": "",
            "description_tooltip": null,
            "layout": "IPY_MODEL_946b3ef9ef3a474997843b0ec41159fc",
            "placeholder": "​",
            "style": "IPY_MODEL_5234940bfc454dbab598c928adaf49a7",
            "value": " 100/100 [00:03&lt;00:00, 26.50it/s]"
          }
        },
        "af949945d5754800ad45d9295e01c1ce": {
          "model_module": "@jupyter-widgets/base",
          "model_name": "LayoutModel",
          "model_module_version": "1.2.0",
          "state": {
            "_model_module": "@jupyter-widgets/base",
            "_model_module_version": "1.2.0",
            "_model_name": "LayoutModel",
            "_view_count": null,
            "_view_module": "@jupyter-widgets/base",
            "_view_module_version": "1.2.0",
            "_view_name": "LayoutView",
            "align_content": null,
            "align_items": null,
            "align_self": null,
            "border": null,
            "bottom": null,
            "display": null,
            "flex": null,
            "flex_flow": null,
            "grid_area": null,
            "grid_auto_columns": null,
            "grid_auto_flow": null,
            "grid_auto_rows": null,
            "grid_column": null,
            "grid_gap": null,
            "grid_row": null,
            "grid_template_areas": null,
            "grid_template_columns": null,
            "grid_template_rows": null,
            "height": null,
            "justify_content": null,
            "justify_items": null,
            "left": null,
            "margin": null,
            "max_height": null,
            "max_width": null,
            "min_height": null,
            "min_width": null,
            "object_fit": null,
            "object_position": null,
            "order": null,
            "overflow": null,
            "overflow_x": null,
            "overflow_y": null,
            "padding": null,
            "right": null,
            "top": null,
            "visibility": null,
            "width": null
          }
        },
        "092b6f7df0d54001aef8e743678987d6": {
          "model_module": "@jupyter-widgets/base",
          "model_name": "LayoutModel",
          "model_module_version": "1.2.0",
          "state": {
            "_model_module": "@jupyter-widgets/base",
            "_model_module_version": "1.2.0",
            "_model_name": "LayoutModel",
            "_view_count": null,
            "_view_module": "@jupyter-widgets/base",
            "_view_module_version": "1.2.0",
            "_view_name": "LayoutView",
            "align_content": null,
            "align_items": null,
            "align_self": null,
            "border": null,
            "bottom": null,
            "display": null,
            "flex": null,
            "flex_flow": null,
            "grid_area": null,
            "grid_auto_columns": null,
            "grid_auto_flow": null,
            "grid_auto_rows": null,
            "grid_column": null,
            "grid_gap": null,
            "grid_row": null,
            "grid_template_areas": null,
            "grid_template_columns": null,
            "grid_template_rows": null,
            "height": null,
            "justify_content": null,
            "justify_items": null,
            "left": null,
            "margin": null,
            "max_height": null,
            "max_width": null,
            "min_height": null,
            "min_width": null,
            "object_fit": null,
            "object_position": null,
            "order": null,
            "overflow": null,
            "overflow_x": null,
            "overflow_y": null,
            "padding": null,
            "right": null,
            "top": null,
            "visibility": null,
            "width": null
          }
        },
        "16103dc5a2ff4539a3b6f5de027e4d45": {
          "model_module": "@jupyter-widgets/controls",
          "model_name": "DescriptionStyleModel",
          "model_module_version": "1.5.0",
          "state": {
            "_model_module": "@jupyter-widgets/controls",
            "_model_module_version": "1.5.0",
            "_model_name": "DescriptionStyleModel",
            "_view_count": null,
            "_view_module": "@jupyter-widgets/base",
            "_view_module_version": "1.2.0",
            "_view_name": "StyleView",
            "description_width": ""
          }
        },
        "b1e278cab07245cba22141b4824ab045": {
          "model_module": "@jupyter-widgets/base",
          "model_name": "LayoutModel",
          "model_module_version": "1.2.0",
          "state": {
            "_model_module": "@jupyter-widgets/base",
            "_model_module_version": "1.2.0",
            "_model_name": "LayoutModel",
            "_view_count": null,
            "_view_module": "@jupyter-widgets/base",
            "_view_module_version": "1.2.0",
            "_view_name": "LayoutView",
            "align_content": null,
            "align_items": null,
            "align_self": null,
            "border": null,
            "bottom": null,
            "display": null,
            "flex": null,
            "flex_flow": null,
            "grid_area": null,
            "grid_auto_columns": null,
            "grid_auto_flow": null,
            "grid_auto_rows": null,
            "grid_column": null,
            "grid_gap": null,
            "grid_row": null,
            "grid_template_areas": null,
            "grid_template_columns": null,
            "grid_template_rows": null,
            "height": null,
            "justify_content": null,
            "justify_items": null,
            "left": null,
            "margin": null,
            "max_height": null,
            "max_width": null,
            "min_height": null,
            "min_width": null,
            "object_fit": null,
            "object_position": null,
            "order": null,
            "overflow": null,
            "overflow_x": null,
            "overflow_y": null,
            "padding": null,
            "right": null,
            "top": null,
            "visibility": null,
            "width": null
          }
        },
        "8bef250c6a99470c89ecd34cca2f6f8e": {
          "model_module": "@jupyter-widgets/controls",
          "model_name": "ProgressStyleModel",
          "model_module_version": "1.5.0",
          "state": {
            "_model_module": "@jupyter-widgets/controls",
            "_model_module_version": "1.5.0",
            "_model_name": "ProgressStyleModel",
            "_view_count": null,
            "_view_module": "@jupyter-widgets/base",
            "_view_module_version": "1.2.0",
            "_view_name": "StyleView",
            "bar_color": null,
            "description_width": ""
          }
        },
        "946b3ef9ef3a474997843b0ec41159fc": {
          "model_module": "@jupyter-widgets/base",
          "model_name": "LayoutModel",
          "model_module_version": "1.2.0",
          "state": {
            "_model_module": "@jupyter-widgets/base",
            "_model_module_version": "1.2.0",
            "_model_name": "LayoutModel",
            "_view_count": null,
            "_view_module": "@jupyter-widgets/base",
            "_view_module_version": "1.2.0",
            "_view_name": "LayoutView",
            "align_content": null,
            "align_items": null,
            "align_self": null,
            "border": null,
            "bottom": null,
            "display": null,
            "flex": null,
            "flex_flow": null,
            "grid_area": null,
            "grid_auto_columns": null,
            "grid_auto_flow": null,
            "grid_auto_rows": null,
            "grid_column": null,
            "grid_gap": null,
            "grid_row": null,
            "grid_template_areas": null,
            "grid_template_columns": null,
            "grid_template_rows": null,
            "height": null,
            "justify_content": null,
            "justify_items": null,
            "left": null,
            "margin": null,
            "max_height": null,
            "max_width": null,
            "min_height": null,
            "min_width": null,
            "object_fit": null,
            "object_position": null,
            "order": null,
            "overflow": null,
            "overflow_x": null,
            "overflow_y": null,
            "padding": null,
            "right": null,
            "top": null,
            "visibility": null,
            "width": null
          }
        },
        "5234940bfc454dbab598c928adaf49a7": {
          "model_module": "@jupyter-widgets/controls",
          "model_name": "DescriptionStyleModel",
          "model_module_version": "1.5.0",
          "state": {
            "_model_module": "@jupyter-widgets/controls",
            "_model_module_version": "1.5.0",
            "_model_name": "DescriptionStyleModel",
            "_view_count": null,
            "_view_module": "@jupyter-widgets/base",
            "_view_module_version": "1.2.0",
            "_view_name": "StyleView",
            "description_width": ""
          }
        },
        "5d4a9991eba8443098bf204b1996043c": {
          "model_module": "@jupyter-widgets/controls",
          "model_name": "HBoxModel",
          "model_module_version": "1.5.0",
          "state": {
            "_dom_classes": [],
            "_model_module": "@jupyter-widgets/controls",
            "_model_module_version": "1.5.0",
            "_model_name": "HBoxModel",
            "_view_count": null,
            "_view_module": "@jupyter-widgets/controls",
            "_view_module_version": "1.5.0",
            "_view_name": "HBoxView",
            "box_style": "",
            "children": [
              "IPY_MODEL_fe5e3f0e0c284b92a8885668a16ae829",
              "IPY_MODEL_ef64ecce042543c69c79392647e3a0ac",
              "IPY_MODEL_255f3910c0864775816844a98c030aa4"
            ],
            "layout": "IPY_MODEL_cb8e050ba105429e88973f0d7b272afc"
          }
        },
        "fe5e3f0e0c284b92a8885668a16ae829": {
          "model_module": "@jupyter-widgets/controls",
          "model_name": "HTMLModel",
          "model_module_version": "1.5.0",
          "state": {
            "_dom_classes": [],
            "_model_module": "@jupyter-widgets/controls",
            "_model_module_version": "1.5.0",
            "_model_name": "HTMLModel",
            "_view_count": null,
            "_view_module": "@jupyter-widgets/controls",
            "_view_module_version": "1.5.0",
            "_view_name": "HTMLView",
            "description": "",
            "description_tooltip": null,
            "layout": "IPY_MODEL_de41723bef364631bd81805e27a66f28",
            "placeholder": "​",
            "style": "IPY_MODEL_1258d426de2d4377b674625370e618e5",
            "value": "100%"
          }
        },
        "ef64ecce042543c69c79392647e3a0ac": {
          "model_module": "@jupyter-widgets/controls",
          "model_name": "FloatProgressModel",
          "model_module_version": "1.5.0",
          "state": {
            "_dom_classes": [],
            "_model_module": "@jupyter-widgets/controls",
            "_model_module_version": "1.5.0",
            "_model_name": "FloatProgressModel",
            "_view_count": null,
            "_view_module": "@jupyter-widgets/controls",
            "_view_module_version": "1.5.0",
            "_view_name": "ProgressView",
            "bar_style": "success",
            "description": "",
            "description_tooltip": null,
            "layout": "IPY_MODEL_879e2c0aa451495baf4d47e28d9e9992",
            "max": 100,
            "min": 0,
            "orientation": "horizontal",
            "style": "IPY_MODEL_c85f417c9af2441fa45f2720be7b3c29",
            "value": 100
          }
        },
        "255f3910c0864775816844a98c030aa4": {
          "model_module": "@jupyter-widgets/controls",
          "model_name": "HTMLModel",
          "model_module_version": "1.5.0",
          "state": {
            "_dom_classes": [],
            "_model_module": "@jupyter-widgets/controls",
            "_model_module_version": "1.5.0",
            "_model_name": "HTMLModel",
            "_view_count": null,
            "_view_module": "@jupyter-widgets/controls",
            "_view_module_version": "1.5.0",
            "_view_name": "HTMLView",
            "description": "",
            "description_tooltip": null,
            "layout": "IPY_MODEL_60b17e109e994713a436eadff7302e30",
            "placeholder": "​",
            "style": "IPY_MODEL_f278d5f5c76d46d09ab2aa8e53c19320",
            "value": " 100/100 [00:05&lt;00:00, 18.82it/s]"
          }
        },
        "cb8e050ba105429e88973f0d7b272afc": {
          "model_module": "@jupyter-widgets/base",
          "model_name": "LayoutModel",
          "model_module_version": "1.2.0",
          "state": {
            "_model_module": "@jupyter-widgets/base",
            "_model_module_version": "1.2.0",
            "_model_name": "LayoutModel",
            "_view_count": null,
            "_view_module": "@jupyter-widgets/base",
            "_view_module_version": "1.2.0",
            "_view_name": "LayoutView",
            "align_content": null,
            "align_items": null,
            "align_self": null,
            "border": null,
            "bottom": null,
            "display": null,
            "flex": null,
            "flex_flow": null,
            "grid_area": null,
            "grid_auto_columns": null,
            "grid_auto_flow": null,
            "grid_auto_rows": null,
            "grid_column": null,
            "grid_gap": null,
            "grid_row": null,
            "grid_template_areas": null,
            "grid_template_columns": null,
            "grid_template_rows": null,
            "height": null,
            "justify_content": null,
            "justify_items": null,
            "left": null,
            "margin": null,
            "max_height": null,
            "max_width": null,
            "min_height": null,
            "min_width": null,
            "object_fit": null,
            "object_position": null,
            "order": null,
            "overflow": null,
            "overflow_x": null,
            "overflow_y": null,
            "padding": null,
            "right": null,
            "top": null,
            "visibility": null,
            "width": null
          }
        },
        "de41723bef364631bd81805e27a66f28": {
          "model_module": "@jupyter-widgets/base",
          "model_name": "LayoutModel",
          "model_module_version": "1.2.0",
          "state": {
            "_model_module": "@jupyter-widgets/base",
            "_model_module_version": "1.2.0",
            "_model_name": "LayoutModel",
            "_view_count": null,
            "_view_module": "@jupyter-widgets/base",
            "_view_module_version": "1.2.0",
            "_view_name": "LayoutView",
            "align_content": null,
            "align_items": null,
            "align_self": null,
            "border": null,
            "bottom": null,
            "display": null,
            "flex": null,
            "flex_flow": null,
            "grid_area": null,
            "grid_auto_columns": null,
            "grid_auto_flow": null,
            "grid_auto_rows": null,
            "grid_column": null,
            "grid_gap": null,
            "grid_row": null,
            "grid_template_areas": null,
            "grid_template_columns": null,
            "grid_template_rows": null,
            "height": null,
            "justify_content": null,
            "justify_items": null,
            "left": null,
            "margin": null,
            "max_height": null,
            "max_width": null,
            "min_height": null,
            "min_width": null,
            "object_fit": null,
            "object_position": null,
            "order": null,
            "overflow": null,
            "overflow_x": null,
            "overflow_y": null,
            "padding": null,
            "right": null,
            "top": null,
            "visibility": null,
            "width": null
          }
        },
        "1258d426de2d4377b674625370e618e5": {
          "model_module": "@jupyter-widgets/controls",
          "model_name": "DescriptionStyleModel",
          "model_module_version": "1.5.0",
          "state": {
            "_model_module": "@jupyter-widgets/controls",
            "_model_module_version": "1.5.0",
            "_model_name": "DescriptionStyleModel",
            "_view_count": null,
            "_view_module": "@jupyter-widgets/base",
            "_view_module_version": "1.2.0",
            "_view_name": "StyleView",
            "description_width": ""
          }
        },
        "879e2c0aa451495baf4d47e28d9e9992": {
          "model_module": "@jupyter-widgets/base",
          "model_name": "LayoutModel",
          "model_module_version": "1.2.0",
          "state": {
            "_model_module": "@jupyter-widgets/base",
            "_model_module_version": "1.2.0",
            "_model_name": "LayoutModel",
            "_view_count": null,
            "_view_module": "@jupyter-widgets/base",
            "_view_module_version": "1.2.0",
            "_view_name": "LayoutView",
            "align_content": null,
            "align_items": null,
            "align_self": null,
            "border": null,
            "bottom": null,
            "display": null,
            "flex": null,
            "flex_flow": null,
            "grid_area": null,
            "grid_auto_columns": null,
            "grid_auto_flow": null,
            "grid_auto_rows": null,
            "grid_column": null,
            "grid_gap": null,
            "grid_row": null,
            "grid_template_areas": null,
            "grid_template_columns": null,
            "grid_template_rows": null,
            "height": null,
            "justify_content": null,
            "justify_items": null,
            "left": null,
            "margin": null,
            "max_height": null,
            "max_width": null,
            "min_height": null,
            "min_width": null,
            "object_fit": null,
            "object_position": null,
            "order": null,
            "overflow": null,
            "overflow_x": null,
            "overflow_y": null,
            "padding": null,
            "right": null,
            "top": null,
            "visibility": null,
            "width": null
          }
        },
        "c85f417c9af2441fa45f2720be7b3c29": {
          "model_module": "@jupyter-widgets/controls",
          "model_name": "ProgressStyleModel",
          "model_module_version": "1.5.0",
          "state": {
            "_model_module": "@jupyter-widgets/controls",
            "_model_module_version": "1.5.0",
            "_model_name": "ProgressStyleModel",
            "_view_count": null,
            "_view_module": "@jupyter-widgets/base",
            "_view_module_version": "1.2.0",
            "_view_name": "StyleView",
            "bar_color": null,
            "description_width": ""
          }
        },
        "60b17e109e994713a436eadff7302e30": {
          "model_module": "@jupyter-widgets/base",
          "model_name": "LayoutModel",
          "model_module_version": "1.2.0",
          "state": {
            "_model_module": "@jupyter-widgets/base",
            "_model_module_version": "1.2.0",
            "_model_name": "LayoutModel",
            "_view_count": null,
            "_view_module": "@jupyter-widgets/base",
            "_view_module_version": "1.2.0",
            "_view_name": "LayoutView",
            "align_content": null,
            "align_items": null,
            "align_self": null,
            "border": null,
            "bottom": null,
            "display": null,
            "flex": null,
            "flex_flow": null,
            "grid_area": null,
            "grid_auto_columns": null,
            "grid_auto_flow": null,
            "grid_auto_rows": null,
            "grid_column": null,
            "grid_gap": null,
            "grid_row": null,
            "grid_template_areas": null,
            "grid_template_columns": null,
            "grid_template_rows": null,
            "height": null,
            "justify_content": null,
            "justify_items": null,
            "left": null,
            "margin": null,
            "max_height": null,
            "max_width": null,
            "min_height": null,
            "min_width": null,
            "object_fit": null,
            "object_position": null,
            "order": null,
            "overflow": null,
            "overflow_x": null,
            "overflow_y": null,
            "padding": null,
            "right": null,
            "top": null,
            "visibility": null,
            "width": null
          }
        },
        "f278d5f5c76d46d09ab2aa8e53c19320": {
          "model_module": "@jupyter-widgets/controls",
          "model_name": "DescriptionStyleModel",
          "model_module_version": "1.5.0",
          "state": {
            "_model_module": "@jupyter-widgets/controls",
            "_model_module_version": "1.5.0",
            "_model_name": "DescriptionStyleModel",
            "_view_count": null,
            "_view_module": "@jupyter-widgets/base",
            "_view_module_version": "1.2.0",
            "_view_name": "StyleView",
            "description_width": ""
          }
        }
      }
    }
  },
  "cells": [
    {
      "cell_type": "markdown",
      "metadata": {
        "id": "view-in-github",
        "colab_type": "text"
      },
      "source": [
        "<a href=\"https://colab.research.google.com/github/kchl5/deep_learning_tutorial/blob/main/Marie/d2lai_ex.ipynb\" target=\"_parent\"><img src=\"https://colab.research.google.com/assets/colab-badge.svg\" alt=\"Open In Colab\"/></a>"
      ]
    },
    {
      "cell_type": "markdown",
      "source": [
        "\n",
        "# Dive into deep learning : linear regression \n",
        "\n",
        "\n",
        "Exercises based on linear regression \n",
        "* [3.4](http://d2l.ai/chapter_linear-regression/linear-regression-scratch.html) implementation from scratch \n",
        "* [3.5](http://d2l.ai/chapter_linear-regression/linear-regression-concise.html) concise implementation \n",
        "* UvA tutorials 1 and 2"
      ],
      "metadata": {
        "id": "IHpcGHcTWcQY"
      }
    },
    {
      "cell_type": "code",
      "execution_count": 24,
      "metadata": {
        "id": "Xfsf6su7WYTQ"
      },
      "outputs": [],
      "source": [
        "import torch \n",
        "import torch.nn as nn\n",
        "import math \n",
        "import numpy as np\n",
        "import time\n",
        "\n",
        "## Imports for plotting\n",
        "import matplotlib.pyplot as plt\n",
        "%matplotlib inline\n",
        "import seaborn as sns\n",
        "import pandas as pd \n",
        "\n",
        "## Progress bar\n",
        "from tqdm.notebook import tqdm"
      ]
    },
    {
      "cell_type": "markdown",
      "source": [
        "*What would happen if we were to initialize the weights to zero. Would the algorithm still work? What if we initialized the parameters with variance 1000 rather than 0.01?*\n",
        "\n",
        "If we initialize the weights to 0, the output depends only on the bias b : can't backpropagate anything to w? \n",
        "Also issues if initialize all of the weights to excatly the same thing can never break symmetry?\n",
        "\n",
        "if initial variance is very high : very unbalanced contribution of different features > issues for convergence? "
      ],
      "metadata": {
        "id": "XuJug2avbrak"
      }
    },
    {
      "cell_type": "markdown",
      "source": [
        "Experiment using different learning rates to find out how quickly the loss function value drops. Can you reduce the error by increasing the number of epochs of training?\n",
        "\n"
      ],
      "metadata": {
        "id": "XtHfohtVcLvh"
      }
    },
    {
      "cell_type": "markdown",
      "source": [
        "## Set up classifier and data \n",
        "\n",
        "based on \n",
        "* UvA [tutorial](https://uvadlc-notebooks.readthedocs.io/en/latest/tutorial_notebooks/tutorial2/Introduction_to_PyTorch.html) \n",
        "* 3.3 synthetic regression [data](http://d2l.ai/chapter_linear-regression/synthetic-regression-data.html)\n",
        "* pytorch tutorial on datasets and [dataloaders](https://pytorch.org/tutorials/beginner/data_loading_tutorial.html)\n",
        "* [Stanford](https://stanford.edu/~shervine/blog/pytorch-how-to-generate-data-parallel) data generator\n",
        "\n",
        "In example here, linear regression task where have 10 features and output is a continuous value "
      ],
      "metadata": {
        "id": "M92vqHMTee2H"
      }
    },
    {
      "cell_type": "code",
      "source": [
        "from torch.utils.data import Dataset, DataLoader"
      ],
      "metadata": {
        "id": "_AM9NFmEedsr"
      },
      "execution_count": 2,
      "outputs": []
    },
    {
      "cell_type": "code",
      "source": [
        "from sklearn.datasets import make_regression "
      ],
      "metadata": {
        "id": "wMNmkYe4ibdk"
      },
      "execution_count": 3,
      "outputs": []
    },
    {
      "cell_type": "code",
      "source": [
        "# Function for setting the seed\n",
        "def set_seed(seed):\n",
        "    np.random.seed(seed)\n",
        "    torch.manual_seed(seed)\n",
        "    if torch.cuda.is_available(): # GPU operation have separate seed\n",
        "        torch.cuda.manual_seed(seed)\n",
        "        torch.cuda.manual_seed_all(seed)\n",
        "set_seed(0)\n",
        "\n",
        "# Additionally, some operations on a GPU are implemented stochastic for efficiency\n",
        "# We want to ensure that all operations are deterministic on GPU (if used) for reproducibility\n",
        "torch.backends.cudnn.deterministic = True\n",
        "torch.backends.cudnn.benchmark = False"
      ],
      "metadata": {
        "id": "kZYHWevukNoa"
      },
      "execution_count": 4,
      "outputs": []
    },
    {
      "cell_type": "markdown",
      "source": [
        "`scikitlearn.datasets.make_regression` \n",
        "\n",
        "syntax is \n",
        "X, y = make_regression(n_samples, noise, random_state) \n",
        "\n",
        "returns:\n",
        "* X: ndarray of shape (n_samples, n_features)\n",
        "* y: yndarray of shape (n_samples,) or (n_samples, n_targets) the output value\n"
      ],
      "metadata": {
        "id": "xFLvQd4pjq15"
      }
    },
    {
      "cell_type": "code",
      "source": [],
      "metadata": {
        "id": "KUrTv6nr0qZ4"
      },
      "execution_count": 4,
      "outputs": []
    },
    {
      "cell_type": "code",
      "source": [
        "class SyntheticData(Dataset):\n",
        "  def __init__(self, n_samples, n_features):\n",
        "    \"\"\"\n",
        "    Inputs: \n",
        "      - n_samples \n",
        "      - n_features\n",
        "    \"\"\"\n",
        "    # Initialization \n",
        "    super().__init__()\n",
        "    self.n_samples = n_samples\n",
        "    self.n_features = n_features\n",
        "    self.generate_reg_data()\n",
        "\n",
        "  def generate_reg_data(self, SEED = 0):\n",
        "    X, y = make_regression(self.n_samples, self.n_features, random_state = SEED)\n",
        "    self.data = torch.tensor(np.float32(X)) # convert to float32 because pytorch weights are float32\n",
        "    self.label = torch.tensor(np.float32(y))\n",
        "\n",
        "  def __len__(self):\n",
        "    # total number of samples\n",
        "    return self.n_samples\n",
        "\n",
        "  def __getitem__(self, index):\n",
        "    # Return the idx-th data point of the dataset\n",
        "    # If we have multiple things to return (data point and label), we can return them as tuple\n",
        "    data_point = self.data[index]\n",
        "    data_label = self.label[index]\n",
        "\n",
        "    return data_point, data_label\n",
        "\n",
        "\n"
      ],
      "metadata": {
        "id": "LNAf4iVxfDLB"
      },
      "execution_count": 5,
      "outputs": []
    },
    {
      "cell_type": "code",
      "source": [
        "# Create a dataset and inspect it: \n",
        "dataset = SyntheticData(n_samples = 1000, n_features = 10)\n",
        "print(\"Size of dataset:\", len(dataset))\n",
        "print(\"Datapoint 0\", dataset[0])"
      ],
      "metadata": {
        "colab": {
          "base_uri": "https://localhost:8080/"
        },
        "id": "-EC-W1qyuGHr",
        "outputId": "32050c45-393f-4152-d5c6-54192b9bb5d0"
      },
      "execution_count": 6,
      "outputs": [
        {
          "output_type": "stream",
          "name": "stdout",
          "text": [
            "Size of dataset: 1000\n",
            "Datapoint 0 (tensor([ 1.6090,  0.5277,  1.6492, -0.4915, -1.0984,  1.0651,  0.6897, -0.2226,\n",
            "        -0.0026,  0.1430]), tensor(224.7676))\n"
          ]
        }
      ]
    },
    {
      "cell_type": "code",
      "source": [
        "sns.histplot(dataset.label)"
      ],
      "metadata": {
        "colab": {
          "base_uri": "https://localhost:8080/",
          "height": 283
        },
        "id": "_bU9GZ-6uzki",
        "outputId": "6957caf2-8cb0-4764-e9a1-a8138e89a109"
      },
      "execution_count": 7,
      "outputs": [
        {
          "output_type": "execute_result",
          "data": {
            "text/plain": [
              "<matplotlib.axes._subplots.AxesSubplot at 0x7f0b95966100>"
            ]
          },
          "metadata": {},
          "execution_count": 7
        },
        {
          "output_type": "display_data",
          "data": {
            "text/plain": [
              "<Figure size 432x288 with 1 Axes>"
            ],
            "image/png": "[encoded data removed]"
          },
          "metadata": {
            "needs_background": "light"
          }
        }
      ]
    },
    {
      "cell_type": "code",
      "source": [
        "# Now create simple linear regression model\n",
        "\n",
        "class Net(nn.Module):\n",
        "  def __init__(self, num_inputs, num_outputs):\n",
        "    super().__init__()\n",
        "\n",
        "    # Initialize modules for simple linear regression\n",
        "    ## when call nn.Linear(), pytorch does default weight and bias initialization \n",
        "    self.linear1 = nn.Linear(in_features = num_inputs, \n",
        "                             out_features = num_outputs)\n",
        "    \n",
        "  def forward(self, x):\n",
        "    # Perform calculation of the model \n",
        "    return self.linear1(x)\n",
        "\n",
        "  \n",
        "\n",
        "  "
      ],
      "metadata": {
        "id": "Tyl6ZZHebn9C"
      },
      "execution_count": 8,
      "outputs": []
    },
    {
      "cell_type": "code",
      "source": [
        "model = Net(num_inputs = 10,\n",
        "            num_outputs = 1)"
      ],
      "metadata": {
        "id": "nO55zrYndwZi"
      },
      "execution_count": 9,
      "outputs": []
    },
    {
      "cell_type": "code",
      "source": [
        "print(model)"
      ],
      "metadata": {
        "colab": {
          "base_uri": "https://localhost:8080/"
        },
        "id": "4cueLwW1d3wW",
        "outputId": "7b6802e3-a582-4525-ca91-e883eca8dc15"
      },
      "execution_count": 10,
      "outputs": [
        {
          "output_type": "stream",
          "name": "stdout",
          "text": [
            "Net(\n",
            "  (linear1): Linear(in_features=10, out_features=1, bias=True)\n",
            ")\n"
          ]
        }
      ]
    },
    {
      "cell_type": "code",
      "source": [
        "for name, param in model.named_parameters():\n",
        "    print(f\"Parameter {name}, shape {param.shape}, dtype {param.dtype}\")\n"
      ],
      "metadata": {
        "colab": {
          "base_uri": "https://localhost:8080/"
        },
        "id": "dZD4JZCqeD3Y",
        "outputId": "d90e2a97-8580-4391-e6ce-45e9789338f1"
      },
      "execution_count": 11,
      "outputs": [
        {
          "output_type": "stream",
          "name": "stdout",
          "text": [
            "Parameter linear1.weight, shape torch.Size([1, 10]), dtype torch.float32\n",
            "Parameter linear1.bias, shape torch.Size([1]), dtype torch.float32\n"
          ]
        }
      ]
    },
    {
      "cell_type": "code",
      "source": [
        "# Loss module\n",
        "loss_module = nn.MSELoss()\n",
        "# Stochastic gradient descent \n",
        "optimizer = torch.optim.SGD(model.parameters(), lr=0.1)"
      ],
      "metadata": {
        "id": "KdrsFBt4eHS1"
      },
      "execution_count": 12,
      "outputs": []
    },
    {
      "cell_type": "code",
      "source": [
        "# Split data for training and testing : \n",
        "train_size = int(0.8 * len(dataset))\n",
        "test_size = len(dataset) - train_size\n",
        "train_data, test_data = torch.utils.data.random_split(dataset, [train_size, test_size])"
      ],
      "metadata": {
        "id": "WpF8roG-yyu9"
      },
      "execution_count": 13,
      "outputs": []
    },
    {
      "cell_type": "code",
      "source": [
        "print(len(dataset))"
      ],
      "metadata": {
        "colab": {
          "base_uri": "https://localhost:8080/"
        },
        "id": "Rb05r6ue-pAQ",
        "outputId": "23c28c54-c574-4111-c698-1433a49cd177"
      },
      "execution_count": 61,
      "outputs": [
        {
          "output_type": "stream",
          "name": "stdout",
          "text": [
            "1000\n"
          ]
        }
      ]
    },
    {
      "cell_type": "code",
      "source": [
        "# Create dataloader objects\n",
        "train_loader = torch.utils.data.DataLoader(train_data, batch_size = 10, shuffle = True)\n",
        "test_loader = torch.utils.data.DataLoader(test_data, batch_size = 10, shuffle = True)"
      ],
      "metadata": {
        "id": "RUTV32BYxHdC"
      },
      "execution_count": 14,
      "outputs": []
    },
    {
      "cell_type": "code",
      "source": [
        "print(len(train_loader)) # 80 batches of 10 samples?"
      ],
      "metadata": {
        "colab": {
          "base_uri": "https://localhost:8080/"
        },
        "id": "404HpFzd-wLo",
        "outputId": "beba6fca-0b24-4524-fa84-00839db04921"
      },
      "execution_count": 62,
      "outputs": [
        {
          "output_type": "stream",
          "name": "stdout",
          "text": [
            "80\n"
          ]
        }
      ]
    },
    {
      "cell_type": "code",
      "source": [
        "# next(iter(...)) catches the first batch of the data loader\n",
        "# If shuffle is True, this will return a different batch every time we run this cell\n",
        "# For iterating over the whole dataset, we can simple use \"for batch in data_loader: ...\"\n",
        "train_inputs, train_labels = next(iter(train_loader))"
      ],
      "metadata": {
        "id": "F0U5yIOmxihF"
      },
      "execution_count": 15,
      "outputs": []
    },
    {
      "cell_type": "code",
      "source": [
        "train_labels"
      ],
      "metadata": {
        "colab": {
          "base_uri": "https://localhost:8080/"
        },
        "id": "KfFmuOb2yZ88",
        "outputId": "c2a8e12b-dab8-467a-9986-f19700a9ab73"
      },
      "execution_count": 16,
      "outputs": [
        {
          "output_type": "execute_result",
          "data": {
            "text/plain": [
              "tensor([-209.7723,  -15.1545, -118.1693,  -31.1929,   82.0161, -111.6834,\n",
              "         -99.4355, -117.7682, -124.7946, -308.0148])"
            ]
          },
          "metadata": {},
          "execution_count": 16
        }
      ]
    },
    {
      "cell_type": "code",
      "source": [],
      "metadata": {
        "id": "FriaOpPFz8oK"
      },
      "execution_count": 16,
      "outputs": []
    },
    {
      "cell_type": "code",
      "source": [
        "def train_model(model, optimizer, data_loader, loss_module, num_epochs=100):\n",
        "    # Set model to train mode\n",
        "    model.train()\n",
        "\n",
        "    # set up loss list \n",
        "    loss_values = []\n",
        "    epochs_list = []\n",
        "\n",
        "    # Training loop\n",
        "    for epoch in tqdm(range(num_epochs)):      \n",
        "      epoch_loss = 0.0\n",
        "\n",
        "      for data_inputs, data_labels in data_loader:\n",
        "        ## Step 1: Run the model on the input data\n",
        "        preds = model(data_inputs)\n",
        "        preds = preds.squeeze(dim=1) # Output is [Batch size, 1], but we want [Batch size]\n",
        "        \n",
        "        ## Step 2: Calculate the loss\n",
        "        loss = loss_module(preds, data_labels)\n",
        "        \n",
        "        ## Step 3: Perform backpropagation\n",
        "        # Before calculating the gradients, we need to ensure that they are all zero.\n",
        "        # The gradients would not be overwritten, but actually added to the existing ones.\n",
        "        optimizer.zero_grad()\n",
        "\n",
        "        # Perform backpropagation\n",
        "        loss.backward()\n",
        "        \n",
        "        ## Step 4: Update the parameters\n",
        "        optimizer.step()\n",
        "        \n",
        "        ## Step 5: take the running average of the loss \n",
        "        epoch_loss += loss.item()\n",
        "\n",
        "      # Compute average loss \n",
        "      epoch_loss /= len(data_inputs)\n",
        "      loss_values.append(epoch_loss)\n",
        "      epochs_list.append(epoch)\n",
        "\n",
        "    # Output plot\n",
        "    loss_df = pd.DataFrame({\"epoch\" : epochs_list, \n",
        "                            \"loss\" : loss_values})\n",
        "    \n",
        "    sns.lineplot(x = loss_df.epoch, \n",
        "             y = loss_df.loss).set(title = \"Training loss\");\n",
        "\n",
        "    plt.show()\n",
        "\n",
        "\n"
      ],
      "metadata": {
        "id": "2FOv91ZnePQz"
      },
      "execution_count": 57,
      "outputs": []
    },
    {
      "cell_type": "code",
      "source": [
        "train_model(model, optimizer, train_loader, loss_module, num_epochs = 100)"
      ],
      "metadata": {
        "colab": {
          "base_uri": "https://localhost:8080/",
          "height": 327,
          "referenced_widgets": [
            "326647fabe674bcbbee718d18c769b94",
            "872e5c9c54e749cbbef7ab45139a987c",
            "a94a2371e31c4db88b914d1c924fa3ae",
            "6aaaa02b8db44244aaabfe887b2c000e",
            "af949945d5754800ad45d9295e01c1ce",
            "092b6f7df0d54001aef8e743678987d6",
            "16103dc5a2ff4539a3b6f5de027e4d45",
            "b1e278cab07245cba22141b4824ab045",
            "8bef250c6a99470c89ecd34cca2f6f8e",
            "946b3ef9ef3a474997843b0ec41159fc",
            "5234940bfc454dbab598c928adaf49a7"
          ]
        },
        "id": "n7k8qhWBw_y6",
        "outputId": "b648f62a-c839-4b66-bcfe-5510d59c00d4"
      },
      "execution_count": 58,
      "outputs": [
        {
          "output_type": "display_data",
          "data": {
            "text/plain": [
              "  0%|          | 0/100 [00:00<?, ?it/s]"
            ],
            "application/vnd.jupyter.widget-view+json": {
              "version_major": 2,
              "version_minor": 0,
              "model_id": "326647fabe674bcbbee718d18c769b94"
            }
          },
          "metadata": {}
        },
        {
          "output_type": "display_data",
          "data": {
            "text/plain": [
              "<Figure size 432x288 with 1 Axes>"
            ],
            "image/png": "[encoded data removed]"
          },
          "metadata": {
            "needs_background": "light"
          }
        }
      ]
    },
    {
      "cell_type": "code",
      "source": [
        "# Evaluate accuracy on test set:\n",
        "\n",
        "def eval_model(model, data_loader, loss_module):\n",
        "    model.eval() # Set model to eval mode\n",
        "    true_preds, num_preds = 0., 0.\n",
        "\n",
        "    with torch.no_grad(): # Deactivate gradients for the following code\n",
        "        for data_inputs, data_labels in data_loader:\n",
        "\n",
        "            # Determine prediction of model on dev set\n",
        "            preds = model(data_inputs)\n",
        "            preds = preds.squeeze(dim=1)\n",
        "\n",
        "            # Keep records of predictions \n",
        "            loss_value = loss_module(preds, data_labels)\n",
        "\n",
        "    loss_value /= len(data_loader)\n",
        "\n",
        "    print(\"MSE:\", loss_value.item())\n",
        "\n",
        "\n"
      ],
      "metadata": {
        "id": "5z02Qqqe8E3W"
      },
      "execution_count": 69,
      "outputs": []
    },
    {
      "cell_type": "code",
      "source": [
        "eval_model(model, test_loader, loss_module)"
      ],
      "metadata": {
        "colab": {
          "base_uri": "https://localhost:8080/"
        },
        "id": "AeGh5y8V_w0l",
        "outputId": "dbbf2710-8c23-426f-c512-37a69a44dbd2"
      },
      "execution_count": 70,
      "outputs": [
        {
          "output_type": "stream",
          "name": "stdout",
          "text": [
            "MSE: 0.005211567971855402\n"
          ]
        }
      ]
    },
    {
      "cell_type": "code",
      "source": [
        "## Introduce non-linearity \n",
        "\n",
        "class Net2(nn.Module):\n",
        "  def __init__(self, num_input, num_hidden, num_outputs):\n",
        "    super().__init__()\n",
        "    \n",
        "    self.linear1 = nn.Linear(num_input, num_hidden)\n",
        "    self.actv = nn.LeakyReLU()\n",
        "    self.linear2 = nn.Linear(num_hidden, num_outputs)\n",
        "\n",
        "  def forward(self, x):\n",
        "    x = self.linear1(x)\n",
        "    x = self.actv(x)\n",
        "    x = self.linear2(x)\n",
        "    return x "
      ],
      "metadata": {
        "id": "wyfm_0Zw81NG"
      },
      "execution_count": 52,
      "outputs": []
    },
    {
      "cell_type": "code",
      "source": [
        "model2 = Net2(num_input = 10, \n",
        "              num_hidden = 4, \n",
        "              num_outputs = 1)"
      ],
      "metadata": {
        "id": "maxo-GoI9WNQ"
      },
      "execution_count": 53,
      "outputs": []
    },
    {
      "cell_type": "code",
      "source": [
        "train_model(model2, optimizer, train_loader, loss_module, num_epochs = 100)"
      ],
      "metadata": {
        "colab": {
          "base_uri": "https://localhost:8080/",
          "height": 327,
          "referenced_widgets": [
            "5d4a9991eba8443098bf204b1996043c",
            "fe5e3f0e0c284b92a8885668a16ae829",
            "ef64ecce042543c69c79392647e3a0ac",
            "255f3910c0864775816844a98c030aa4",
            "cb8e050ba105429e88973f0d7b272afc",
            "de41723bef364631bd81805e27a66f28",
            "1258d426de2d4377b674625370e618e5",
            "879e2c0aa451495baf4d47e28d9e9992",
            "c85f417c9af2441fa45f2720be7b3c29",
            "60b17e109e994713a436eadff7302e30",
            "f278d5f5c76d46d09ab2aa8e53c19320"
          ]
        },
        "id": "cWvQJ61V9bqu",
        "outputId": "f9a9e5dd-9d3e-4169-b4ff-be29151a3a67"
      },
      "execution_count": 54,
      "outputs": [
        {
          "output_type": "display_data",
          "data": {
            "text/plain": [
              "  0%|          | 0/100 [00:00<?, ?it/s]"
            ],
            "application/vnd.jupyter.widget-view+json": {
              "version_major": 2,
              "version_minor": 0,
              "model_id": "5d4a9991eba8443098bf204b1996043c"
            }
          },
          "metadata": {}
        },
        {
          "output_type": "display_data",
          "data": {
            "text/plain": [
              "<Figure size 432x288 with 1 Axes>"
            ],
            "image/png": "[encoded data removed]"
          },
          "metadata": {
            "needs_background": "light"
          }
        }
      ]
    },
    {
      "cell_type": "code",
      "source": [
        "eval_model(model2, test_loader, loss_module)"
      ],
      "metadata": {
        "colab": {
          "base_uri": "https://localhost:8080/"
        },
        "id": "MWdeOUQZ9ig7",
        "outputId": "8ed876de-7b54-4cc2-815a-29dc4000e04a"
      },
      "execution_count": 71,
      "outputs": [
        {
          "output_type": "stream",
          "name": "stdout",
          "text": [
            "MSE: 5.6700263023376465\n"
          ]
        }
      ]
    },
    {
      "cell_type": "code",
      "source": [],
      "metadata": {
        "id": "deHwvjlkAQjh"
      },
      "execution_count": null,
      "outputs": []
    }
  ]
}