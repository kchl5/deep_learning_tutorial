{
  "cells": [
    {
      "cell_type": "markdown",
      "metadata": {
        "id": "view-in-github",
        "colab_type": "text"
      },
      "source": [
        "<a href=\"https://colab.research.google.com/github/kchl5/deep_learning_tutorial/blob/main/MM_Introduction_to_PyTorch_empty.ipynb\" target=\"_parent\"><img src=\"https://colab.research.google.com/assets/colab-badge.svg\" alt=\"Open In Colab\"/></a>"
      ]
    },
    {
      "cell_type": "markdown",
      "metadata": {
        "id": "Avj5rjD14kwi"
      },
      "source": [
        "# Tutorial 2: Introduction to PyTorch\n",
        "\n",
        "![Status](https://img.shields.io/static/v1.svg?label=Status&message=Finished&color=green)\n",
        "\n",
        "**Filled notebook:** \n",
        "[![View on Github](https://img.shields.io/static/v1.svg?logo=github&label=Repo&message=View%20On%20Github&color=lightgrey)](https://github.com/phlippe/uvadlc_notebooks/blob/master/docs/tutorial_notebooks/tutorial2/Introduction_to_PyTorch.ipynb)\n",
        "[![Open In Collab](https://colab.research.google.com/assets/colab-badge.svg)](https://colab.research.google.com/github/phlippe/uvadlc_notebooks/blob/master/docs/tutorial_notebooks/tutorial2/Introduction_to_PyTorch.ipynb)  \n",
        "**Empty notebook:** \n",
        "[![View on Github](https://img.shields.io/static/v1.svg?logo=github&label=Repo&message=View%20On%20Github&color=lightgrey)](https://github.com/phlippe/uvadlc_notebooks/blob/master/docs/tutorial_notebooks/tutorial2/Introduction_to_PyTorch_empty.ipynb)\n",
        "[![Open In Collab](https://colab.research.google.com/assets/colab-badge.svg)](https://colab.research.google.com/github/phlippe/uvadlc_notebooks/blob/master/docs/tutorial_notebooks/tutorial2/Introduction_to_PyTorch_empty.ipynb)\n",
        "\n",
        "*This is an empty version of the notebook. Try to fill in the blanks indicated by `## TODO` comments and `...` parts in the code*"
      ]
    },
    {
      "cell_type": "markdown",
      "metadata": {
        "id": "ygiGqQtx4kwk"
      },
      "source": [
        "Welcome to our PyTorch tutorial for the Deep Learning course 2020 at the University of Amsterdam! The following notebook is meant to give a short introduction to PyTorch basics, and get you setup for writing your own neural networks. PyTorch is an open source machine learning framework that allows you to write your own neural networks and optimize them efficiently. However, PyTorch is not the only framework of its kind. Alternatives to PyTorch include [TensorFlow](https://www.tensorflow.org/), [JAX](https://github.com/google/jax#quickstart-colab-in-the-cloud) and [Caffe](http://caffe.berkeleyvision.org/). We choose to teach PyTorch at the University of Amsterdam because it is well established, has a huge developer community (originally developed by Facebook), is very flexible and especially used in research. Many current papers publish their code in PyTorch, and thus it is good to be familiar with PyTorch as well. \n",
        "Meanwhile, TensorFlow (developed by Google) is usually known for being a production-grade deep learning library. Still, if you know one machine learning framework in depth, it is very easy to learn another one because many of them use the same concepts and ideas. For instance, TensorFlow's version 2 was heavily inspired by the most popular features of PyTorch, making the frameworks even more similar. \n",
        "If you are already familiar with PyTorch and have created your own neural network projects, feel free to just skim this notebook.\n",
        "\n",
        "We are of course not the first ones to create a PyTorch tutorial. There are many great tutorials online, including the [\"60-min blitz\"](https://pytorch.org/tutorials/beginner/deep_learning_60min_blitz.html) on the official [PyTorch website](https://pytorch.org/tutorials/). Yet, we choose to create our own tutorial which is designed to give you the basics particularly necessary for the practicals, but still understand how PyTorch works under the hood. Over the next few weeks, we will also keep exploring new PyTorch features in the series of Jupyter notebook tutorials about deep learning. \n",
        "\n",
        "We will use a set of standard libraries that are often used in machine learning projects. If you are running this notebook on Google Colab, all libraries should be pre-installed. If you are running this notebook locally, make sure you have installed our `dl2020` environment and have activated it."
      ]
    },
    {
      "cell_type": "code",
      "execution_count": 1,
      "metadata": {
        "id": "8ZmrNcaF4kwl"
      },
      "outputs": [],
      "source": [
        "## Standard libraries\n",
        "import os\n",
        "import math\n",
        "import numpy as np \n",
        "import time\n",
        "\n",
        "## Imports for plotting\n",
        "import matplotlib.pyplot as plt\n",
        "%matplotlib inline \n",
        "from IPython.display import set_matplotlib_formats\n",
        "set_matplotlib_formats('svg', 'pdf') # For export\n",
        "from matplotlib.colors import to_rgba\n",
        "import seaborn as sns\n",
        "sns.set()\n",
        "\n",
        "## Progress bar\n",
        "from tqdm.notebook import tqdm"
      ]
    },
    {
      "cell_type": "markdown",
      "metadata": {
        "id": "H7N3Ot1V4kwl"
      },
      "source": [
        "## The Basics of PyTorch\n",
        "\n",
        "We will start with reviewing the very basic concepts of PyTorch. As a prerequisite, we recommend to be familiar with the `numpy` package as most machine learning frameworks are based on very similar concepts. If you are not familiar with numpy yet, don't worry: here is a [tutorial](https://numpy.org/devdocs/user/quickstart.html) to go through. \n",
        "\n",
        "So, let's start with importing PyTorch. The package is called `torch`, based on its original framework [Torch](http://torch.ch/). As a first step, we can check its version:"
      ]
    },
    {
      "cell_type": "code",
      "execution_count": 2,
      "metadata": {
        "id": "rgqpl6zT4kwm",
        "colab": {
          "base_uri": "https://localhost:8080/"
        },
        "outputId": "412a40aa-57b6-4646-fc75-b6aa357ce529"
      },
      "outputs": [
        {
          "output_type": "stream",
          "name": "stdout",
          "text": [
            "Using torch 1.13.1+cu116\n"
          ]
        }
      ],
      "source": [
        "import torch\n",
        "print(\"Using torch\", torch.__version__)"
      ]
    },
    {
      "cell_type": "markdown",
      "metadata": {
        "id": "UHXTFOV94kwm"
      },
      "source": [
        "At the time of writing this tutorial (mid of October 2020), the current stable version is 1.6. You should therefore see the output `Using torch 1.6.0`. If you see a lower version number, make sure you have installed the correct the environment, or ask one of your TAs. In case PyTorch 1.7 or newer will be published during the time of the course, don't worry. The interface between PyTorch versions doesn't change too much, and hence all code should also be runnable with newer versions.\n",
        "\n",
        "As in every machine learning framework, PyTorch provides functions that are stochastic like generating random numbers. However, a very good practice is to setup your code to be reproducible with the exact same random numbers. This is why we set a seed below. "
      ]
    },
    {
      "cell_type": "code",
      "execution_count": 3,
      "metadata": {
        "id": "rgImpwAJ4kwm",
        "colab": {
          "base_uri": "https://localhost:8080/"
        },
        "outputId": "4216b789-89e2-422a-b05e-f8318c8e7c06"
      },
      "outputs": [
        {
          "output_type": "execute_result",
          "data": {
            "text/plain": [
              "<torch._C.Generator at 0x7f45edd7df30>"
            ]
          },
          "metadata": {},
          "execution_count": 3
        }
      ],
      "source": [
        "torch.manual_seed(42) # Setting the seed"
      ]
    },
    {
      "cell_type": "markdown",
      "metadata": {
        "id": "HJAexO4u4kwm"
      },
      "source": [
        "### Tensors\n",
        "\n",
        "Tensors are the PyTorch equivalent to Numpy arrays, with the addition to also have support for GPU acceleration (more on that later).\n",
        "The name \"tensor\" is a generalization of concepts you already know. For instance, a vector is a 1-D tensor, and a matrix a 2-D tensor. When working with neural networks, we will use tensors of various shapes and number of dimensions.\n",
        "\n",
        "Most common functions you know from numpy can be used on tensors as well. Actually, since numpy arrays are so similar to tensors, we can convert most tensors to numpy arrays (and back) but we don't need it too often.\n",
        "\n",
        "#### Initialization\n",
        "\n",
        "Let's first start by looking at different ways of creating a tensor. There are many possible options, the most simple one is to call `torch.Tensor` passing the desired shape as input argument:"
      ]
    },
    {
      "cell_type": "code",
      "execution_count": 4,
      "metadata": {
        "id": "rv3cDDvv4kwm",
        "colab": {
          "base_uri": "https://localhost:8080/"
        },
        "outputId": "329a9a04-c218-412e-996d-0efdf77379c3"
      },
      "outputs": [
        {
          "output_type": "stream",
          "name": "stdout",
          "text": [
            "tensor([[[2.3483e-33, 0.0000e+00, 0.0000e+00, 0.0000e+00],\n",
            "         [0.0000e+00, 0.0000e+00, 0.0000e+00, 0.0000e+00],\n",
            "         [0.0000e+00, 0.0000e+00, 0.0000e+00, 0.0000e+00]],\n",
            "\n",
            "        [[0.0000e+00, 0.0000e+00, 0.0000e+00, 0.0000e+00],\n",
            "         [0.0000e+00, 0.0000e+00, 0.0000e+00, 0.0000e+00],\n",
            "         [0.0000e+00, 0.0000e+00, 0.0000e+00, 0.0000e+00]]])\n"
          ]
        }
      ],
      "source": [
        "x = torch.Tensor(2, 3, 4)\n",
        "print(x)"
      ]
    },
    {
      "cell_type": "markdown",
      "metadata": {
        "id": "2FeNlCTc4kwn"
      },
      "source": [
        "The function `torch.Tensor` allocates memory for the desired tensor, but reuses any values that have already been in the memory. To directly assign values to the tensor during initialization, there are many alternatives including:\n",
        "\n",
        "* `torch.zeros`: Creates a tensor filled with zeros\n",
        "* `torch.ones`: Creates a tensor filled with ones\n",
        "* `torch.rand`: Creates a tensor with random values uniformly sampled between 0 and 1\n",
        "* `torch.randn`: Creates a tensor with random values sampled from a normal distribution with mean 0 and variance 1\n",
        "* `torch.arange`: Creates a tensor containing the values $N,N+1,N+2,...,M$\n",
        "* `torch.Tensor` (input list): Creates a tensor from the list elements you provide\n",
        "* `torch.from_numpy`: Converts a numpy array into a PyTorch tensor"
      ]
    },
    {
      "cell_type": "code",
      "execution_count": 5,
      "metadata": {
        "id": "EP6XD0QM4kwn",
        "colab": {
          "base_uri": "https://localhost:8080/"
        },
        "outputId": "5974067e-e094-48e9-c879-ae97400e7d43"
      },
      "outputs": [
        {
          "output_type": "stream",
          "name": "stdout",
          "text": [
            "tensor([[1, 2],\n",
            "        [3, 4]])\n"
          ]
        }
      ],
      "source": [
        "## TODO: Create a tensor from the list [[1, 2], [3, 4]]\n",
        "x = torch.tensor([[1, 2], [3, 4]])\n",
        "print(x)"
      ]
    },
    {
      "cell_type": "code",
      "execution_count": 6,
      "metadata": {
        "id": "fjQ0dOHN4kwn",
        "colab": {
          "base_uri": "https://localhost:8080/"
        },
        "outputId": "170734cc-16df-4141-a2aa-b771f5098f0a"
      },
      "outputs": [
        {
          "output_type": "stream",
          "name": "stdout",
          "text": [
            "tensor([[[ 1.9269,  1.4873,  0.9007, -2.1055],\n",
            "         [ 0.6784, -1.2345, -0.0431, -1.6047],\n",
            "         [ 0.3559, -0.6866, -0.4934,  0.2415]],\n",
            "\n",
            "        [[-1.1109,  0.0915, -2.3169, -0.2168],\n",
            "         [-0.3097, -0.3957,  0.8034, -0.6216],\n",
            "         [-0.5920, -0.0631, -0.8286,  0.3309]]])\n"
          ]
        }
      ],
      "source": [
        "## TODO: Create a tensor with random values between 0 and 1 with the shape [2, 3, 4]\n",
        "x = torch.randn([2, 3, 4])\n",
        "print(x)"
      ]
    },
    {
      "cell_type": "markdown",
      "metadata": {
        "id": "3o3tejJ54kwn"
      },
      "source": [
        "You can obtain the shape of a tensor in the same way as in numpy (`x.shape`), or using the `.size` method:"
      ]
    },
    {
      "cell_type": "code",
      "execution_count": 7,
      "metadata": {
        "id": "jJIr3CO-4kwn",
        "colab": {
          "base_uri": "https://localhost:8080/"
        },
        "outputId": "84a18769-1c5c-4b5d-e427-2348fc294f41"
      },
      "outputs": [
        {
          "output_type": "stream",
          "name": "stdout",
          "text": [
            "Shape: torch.Size([2, 3, 4])\n",
            "Size: torch.Size([2, 3, 4])\n",
            "Size: 2 3 4\n"
          ]
        }
      ],
      "source": [
        "shape = x.shape\n",
        "print(\"Shape:\", x.shape)\n",
        "\n",
        "size = x.size()\n",
        "print(\"Size:\", size)\n",
        "\n",
        "dim1, dim2, dim3 = x.size()\n",
        "print(\"Size:\", dim1, dim2, dim3)"
      ]
    },
    {
      "cell_type": "markdown",
      "metadata": {
        "id": "KMGVxPKs4kwn"
      },
      "source": [
        "#### Operations\n",
        "\n",
        "Most operations that exist in numpy, also exist in PyTorch. A full list of operations can be found in the [PyTorch documentation](https://pytorch.org/docs/stable/tensors.html#), but we will review the most important ones here.\n",
        "\n",
        "The simplest operation is to add two tensors:"
      ]
    },
    {
      "cell_type": "code",
      "execution_count": 8,
      "metadata": {
        "id": "F1Hp-afN4kwn",
        "colab": {
          "base_uri": "https://localhost:8080/"
        },
        "outputId": "9c2c74ff-f49c-4930-faf1-ee4f5429473e"
      },
      "outputs": [
        {
          "output_type": "stream",
          "name": "stdout",
          "text": [
            "X1 tensor([[0.6343, 0.3644, 0.7104],\n",
            "        [0.9464, 0.7890, 0.2814]])\n",
            "X2 tensor([[0.7886, 0.5895, 0.7539],\n",
            "        [0.1952, 0.0050, 0.3068]])\n",
            "Y tensor([[1.4230, 0.9539, 1.4643],\n",
            "        [1.1417, 0.7941, 0.5882]])\n"
          ]
        }
      ],
      "source": [
        "x1 = torch.rand(2, 3)\n",
        "x2 = torch.rand(2, 3)\n",
        "\n",
        "## TODO: Sum up the tensors x1 and x2, and store the result in y\n",
        "y = x1 + x2\n",
        "\n",
        "print(\"X1\", x1)\n",
        "print(\"X2\", x2)\n",
        "print(\"Y\", y)"
      ]
    },
    {
      "cell_type": "markdown",
      "metadata": {
        "id": "HhqfzS054kwn"
      },
      "source": [
        "Calling `x1 + x2` creates a new tensor containing the sum of the two inputs. However, we can also use in-place operations that are applied directly on the memory of a tensor. We therefore change the values of `x2` without the chance to re-accessing the values of `x2` before the operation. An example is shown below:"
      ]
    },
    {
      "cell_type": "code",
      "execution_count": 9,
      "metadata": {
        "id": "ymdr1zI74kwo",
        "colab": {
          "base_uri": "https://localhost:8080/"
        },
        "outputId": "ec36f520-5122-44a6-915c-1cdcb11b4288"
      },
      "outputs": [
        {
          "output_type": "stream",
          "name": "stdout",
          "text": [
            "X1 (before) tensor([[0.1165, 0.9103, 0.6440],\n",
            "        [0.7071, 0.6581, 0.4913]])\n",
            "X2 (before) tensor([[0.8913, 0.1447, 0.5315],\n",
            "        [0.1587, 0.6542, 0.3278]])\n",
            "X1 (after) tensor([[0.1165, 0.9103, 0.6440],\n",
            "        [0.7071, 0.6581, 0.4913]])\n",
            "X2 (after) tensor([[1.0078, 1.0550, 1.1755],\n",
            "        [0.8658, 1.3123, 0.8191]])\n"
          ]
        }
      ],
      "source": [
        "x1 = torch.rand(2, 3)\n",
        "x2 = torch.rand(2, 3)\n",
        "print(\"X1 (before)\", x1)\n",
        "print(\"X2 (before)\", x2)\n",
        "\n",
        "x2.add_(x1)\n",
        "print(\"X1 (after)\", x1)\n",
        "print(\"X2 (after)\", x2)"
      ]
    },
    {
      "cell_type": "markdown",
      "metadata": {
        "id": "0o2L7CCG4kwo"
      },
      "source": [
        "In-place operations are usually marked with a underscore postfix (e.g. \"add_\" instead of \"add\").\n",
        "\n",
        "Another common operation aims at changing the shape of a tensor. A tensor of size (2,3) can be re-organized to any other shape with the same number of elements (e.g. a tensor of size (6), or (3,2), ...). In PyTorch, this operation is called `view`:"
      ]
    },
    {
      "cell_type": "code",
      "execution_count": 10,
      "metadata": {
        "id": "-c-sq2Hu4kwo",
        "colab": {
          "base_uri": "https://localhost:8080/"
        },
        "outputId": "8a377179-0760-4145-d5ec-925ddbf82ff3"
      },
      "outputs": [
        {
          "output_type": "stream",
          "name": "stdout",
          "text": [
            "X tensor([0, 1, 2, 3, 4, 5])\n"
          ]
        }
      ],
      "source": [
        "## TODO: Create a tensor with the input values [0, .., 5] (i.e. a range to 6)\n",
        "x = torch.arange(0,6)\n",
        "print(\"X\", x)"
      ]
    },
    {
      "cell_type": "code",
      "execution_count": 11,
      "metadata": {
        "id": "DmWs_Fwd4kwo",
        "colab": {
          "base_uri": "https://localhost:8080/"
        },
        "outputId": "f7c6cb71-3b0b-4d6b-e9fc-ecb744fd1aa3"
      },
      "outputs": [
        {
          "output_type": "stream",
          "name": "stdout",
          "text": [
            "X tensor([[0, 1, 2],\n",
            "        [3, 4, 5]])\n"
          ]
        }
      ],
      "source": [
        "x = x.view(2, 3)\n",
        "print(\"X\", x)"
      ]
    },
    {
      "cell_type": "code",
      "execution_count": 12,
      "metadata": {
        "id": "QcM5eNmw4kwo",
        "colab": {
          "base_uri": "https://localhost:8080/"
        },
        "outputId": "4b68eb30-ce36-469c-9674-ce453622ef13"
      },
      "outputs": [
        {
          "output_type": "stream",
          "name": "stdout",
          "text": [
            "X tensor([[0, 3],\n",
            "        [1, 4],\n",
            "        [2, 5]])\n"
          ]
        }
      ],
      "source": [
        "x = x.permute(1, 0) # Swapping dimension 0 and 1\n",
        "print(\"X\", x)"
      ]
    },
    {
      "cell_type": "markdown",
      "metadata": {
        "id": "8E5JMLKy4kwo"
      },
      "source": [
        "Other commonly used operations include matrix multiplications, which are essential for neural networks. Quite often, we have an input vector $\\mathbf{x}$, which is transformed using a learned weight matrix $\\mathbf{W}$. There are multiple ways and functions to perform matrix multiplication, some of which we list below:\n",
        "\n",
        "* `torch.matmul`: Performs the matrix product over two tensors, where the specific behavior depends on the dimensions. If both inputs are matrices (2-dimensional tensors), it performs the standard matrix product. For higher dimensional inputs, the function supports broadcasting (for details see the [documentation](https://pytorch.org/docs/stable/generated/torch.matmul.html?highlight=matmul#torch.matmul)). Can also be written as `a @ b`, similar to numpy. \n",
        "* `torch.mm`: Performs the matrix product over two matrices, but doesn't support broadcasting (see [documentation](https://pytorch.org/docs/stable/generated/torch.mm.html?highlight=torch%20mm#torch.mm))\n",
        "* `torch.bmm`: Performs the matrix product with a support batch dimension. If the first tensor $T$ is of shape ($b\\times n\\times m$), and the second tensor $R$ ($b\\times m\\times p$), the output $O$ is of shape ($b\\times n\\times p$), and has been calculated by performing $b$ matrix multiplications of the submatrices of $T$ and $R$: $O_i = T_i @ R_i$\n",
        "* `torch.einsum`: Performs matrix multiplications and more (i.e. sums of products) using the Einstein summation convention. Explanation of the Einstein sum can be found in assignment 1.\n",
        "\n",
        "Usually, we use `torch.matmul` or `torch.bmm`. We can try a matrix multiplication with `torch.matmul` below."
      ]
    },
    {
      "cell_type": "code",
      "execution_count": 13,
      "metadata": {
        "id": "rbClTG394kwo",
        "colab": {
          "base_uri": "https://localhost:8080/"
        },
        "outputId": "4e0cb494-1a89-438a-e523-4e79d51ec92c"
      },
      "outputs": [
        {
          "output_type": "stream",
          "name": "stdout",
          "text": [
            "X tensor([[0, 1, 2],\n",
            "        [3, 4, 5]])\n"
          ]
        }
      ],
      "source": [
        "x = torch.arange(6)\n",
        "x = x.view(2, 3)\n",
        "print(\"X\", x)"
      ]
    },
    {
      "cell_type": "code",
      "execution_count": 14,
      "metadata": {
        "id": "8FUhTWKF4kwo",
        "colab": {
          "base_uri": "https://localhost:8080/"
        },
        "outputId": "929f7d70-f63c-4c7c-d2e2-e5dffde7994a"
      },
      "outputs": [
        {
          "output_type": "stream",
          "name": "stdout",
          "text": [
            "W tensor([[0, 1, 2],\n",
            "        [3, 4, 5],\n",
            "        [6, 7, 8]])\n"
          ]
        }
      ],
      "source": [
        "W = torch.arange(9).view(3, 3) # We can also stack multiple operations in a single line\n",
        "print(\"W\", W)"
      ]
    },
    {
      "cell_type": "code",
      "execution_count": 15,
      "metadata": {
        "id": "A9_ufWE44kwo",
        "colab": {
          "base_uri": "https://localhost:8080/"
        },
        "outputId": "0647e406-6fa3-4df8-dd04-80d3547da3f0"
      },
      "outputs": [
        {
          "output_type": "stream",
          "name": "stdout",
          "text": [
            "h tensor([[15, 18, 21],\n",
            "        [42, 54, 66]])\n"
          ]
        }
      ],
      "source": [
        "## TODO: Perform a matrix multiplication between x and W\n",
        "h = torch.mm(x, W) \n",
        "print(\"h\", h)\n",
        "# Verify the result by calculating it by hand too!"
      ]
    },
    {
      "cell_type": "markdown",
      "metadata": {
        "id": "J49BkoRp4kwo"
      },
      "source": [
        "#### Indexing\n",
        "\n",
        "We often have the situation where we need to select a part of a tensor. Indexing works just like in numpy, so let's try it:"
      ]
    },
    {
      "cell_type": "code",
      "execution_count": 16,
      "metadata": {
        "id": "zm5isFj54kwo",
        "colab": {
          "base_uri": "https://localhost:8080/"
        },
        "outputId": "19252eda-882d-4165-c6b6-cc28aea40410"
      },
      "outputs": [
        {
          "output_type": "stream",
          "name": "stdout",
          "text": [
            "X tensor([[ 0,  1,  2,  3],\n",
            "        [ 4,  5,  6,  7],\n",
            "        [ 8,  9, 10, 11]])\n"
          ]
        }
      ],
      "source": [
        "x = torch.arange(12).view(3, 4)\n",
        "print(\"X\", x)"
      ]
    },
    {
      "cell_type": "code",
      "execution_count": 17,
      "metadata": {
        "id": "yPPzWugx4kwo",
        "colab": {
          "base_uri": "https://localhost:8080/"
        },
        "outputId": "c1f583bb-05f1-43ef-f85b-f0f6a55b7b6a"
      },
      "outputs": [
        {
          "output_type": "stream",
          "name": "stdout",
          "text": [
            "tensor([1, 5, 9])\n"
          ]
        }
      ],
      "source": [
        "## TODO: Print the second column of the tensor x\n",
        "print(x[:,1]) "
      ]
    },
    {
      "cell_type": "code",
      "execution_count": 18,
      "metadata": {
        "id": "Di5r_M6c4kwo",
        "colab": {
          "base_uri": "https://localhost:8080/"
        },
        "outputId": "3fc57a4e-6b4c-4b01-a105-38a3ca37a783"
      },
      "outputs": [
        {
          "output_type": "stream",
          "name": "stdout",
          "text": [
            "tensor([0, 1, 2, 3])\n"
          ]
        }
      ],
      "source": [
        "## TODO: Print the first row of the tensor x\n",
        "print(x[0,:])"
      ]
    },
    {
      "cell_type": "code",
      "execution_count": 19,
      "metadata": {
        "id": "29OxrbrK4kwp",
        "colab": {
          "base_uri": "https://localhost:8080/"
        },
        "outputId": "f499bcac-d19c-408c-9ca9-c1820603880a"
      },
      "outputs": [
        {
          "output_type": "stream",
          "name": "stdout",
          "text": [
            "tensor([3, 7])\n"
          ]
        }
      ],
      "source": [
        "## TODO: Print the elements of the tensor x that are both in first two rows and the last column \n",
        "print(x[:2, -1])"
      ]
    },
    {
      "cell_type": "code",
      "execution_count": 20,
      "metadata": {
        "id": "nhx5MeY84kwp",
        "colab": {
          "base_uri": "https://localhost:8080/"
        },
        "outputId": "0941d28d-2af3-4121-c5bb-f87a9bbd9956"
      },
      "outputs": [
        {
          "output_type": "stream",
          "name": "stdout",
          "text": [
            "tensor([4, 5, 6, 7])\n"
          ]
        }
      ],
      "source": [
        "## TODO: Print the middle two rows of tensor x ######### three rows has no middle?\n",
        "print(x[1,:])"
      ]
    },
    {
      "cell_type": "markdown",
      "metadata": {
        "id": "VEVZ2Rzb4kwp"
      },
      "source": [
        "### Dynamic Computation Graph and Backpropagation\n",
        "\n",
        "One of the main reasons for using PyTorch in Deep Learning projects is that we can automatically get **gradients/derivatives** of functions that we define. We will mainly use PyTorch for implementing neural networks, and they are just fancy functions. If we use weight matrices in our function that we want to learn, then those are called the **parameters** or simply the **weights**.\n",
        "\n",
        "If our neural network would output a single scalar value, we would talk about taking the **derivative**, but you will see that quite often we will have **multiple** output variables (\"values\"); in that case we talk about **gradients**. It's a more general term.\n",
        "\n",
        "Given an input $\\mathbf{x}$, we define our function by **manipulating** that input, usually by matrix-multiplications with weight matrices and additions with so-called bias vectors. As we manipulate our input, we are automatically creating a **computational graph**. This graph shows how to arrive at our output from our input. \n",
        "PyTorch is a **define-by-run** framework; this means that we can just do our manipulations, and PyTorch will keep track of that graph for us. Thus, we create a dynamic computation graph along the way.\n",
        "\n",
        "So, to recap: the only thing we have to do is to compute the **output**, and then we can ask PyTorch to automatically get the **gradients**. \n",
        "\n",
        "> **Note:  Why do we want gradients?** Consider that we have defined a function, a neural net, that is supposed to compute a certain output $y$ for an input vector $\\mathbf{x}$. We then define an **error measure** that tells us how wrong our network is; how bad it is in predicting output $y$ from input $\\mathbf{x}$. Based on this error measure, we can use the gradients to **update** the weights $\\mathbf{W}$ that were responsible for the output, so that the next time we present input $\\mathbf{x}$ to our network, the output will be closer to what we want.\n",
        "\n",
        "The first thing we have to do is to specify which tensors require gradients. By default, when we create a tensor, it does not require gradients."
      ]
    },
    {
      "cell_type": "code",
      "execution_count": 21,
      "metadata": {
        "id": "mKJj70w64kwp",
        "colab": {
          "base_uri": "https://localhost:8080/"
        },
        "outputId": "b997b23d-3b0d-4f2a-bc74-70ddb694c509"
      },
      "outputs": [
        {
          "output_type": "stream",
          "name": "stdout",
          "text": [
            "False\n"
          ]
        }
      ],
      "source": [
        "x = torch.ones((3,))\n",
        "print(x.requires_grad)"
      ]
    },
    {
      "cell_type": "markdown",
      "metadata": {
        "id": "Zwg-Xpt74kwp"
      },
      "source": [
        "We can change this for an existing tensor using the function `requires_grad_()` (underscore indicating that this is a in-place operation). Alternatively, when creating a tensor, you can pass the argument `requires_grad=True` to most initializers we have seen above."
      ]
    },
    {
      "cell_type": "code",
      "execution_count": 22,
      "metadata": {
        "id": "Ummjfin34kwp",
        "colab": {
          "base_uri": "https://localhost:8080/"
        },
        "outputId": "b6704436-2098-4e8e-83d5-7b3f4d4325ca"
      },
      "outputs": [
        {
          "output_type": "stream",
          "name": "stdout",
          "text": [
            "True\n"
          ]
        }
      ],
      "source": [
        "x.requires_grad_(True)\n",
        "print(x.requires_grad)"
      ]
    },
    {
      "cell_type": "markdown",
      "metadata": {
        "id": "UOTs1HGX4kwp"
      },
      "source": [
        "In order to get familiar with the concept of a computation graph, we will create one for the following function:\n",
        "\n",
        "$$y = \\frac{1}{|x|}\\sum_i \\left[(x_i + 2)^2 + 3\\right]$$\n",
        "\n",
        "You could imagine that $x$ are our parameters, and we want to optimize (either maximize or minimize) the output $y$. For this, we want to obtain the gradients $\\partial y / \\partial \\mathbf{x}$. For our example, we'll use $\\mathbf{x}=[0,1,2]$ as our input."
      ]
    },
    {
      "cell_type": "code",
      "execution_count": 23,
      "metadata": {
        "id": "RG5MEf-M4kwp",
        "colab": {
          "base_uri": "https://localhost:8080/"
        },
        "outputId": "6838057c-6eb5-4c58-a504-26bf1ea18206"
      },
      "outputs": [
        {
          "output_type": "stream",
          "name": "stdout",
          "text": [
            "X tensor([0., 1., 2.], requires_grad=True)\n"
          ]
        }
      ],
      "source": [
        "## TODO: Create a tensor with values [0.0, 1.0, 2.0] which is requires gradients\n",
        "# Note that only float tensors can have gradients\n",
        "x = torch.tensor([0.0, 1.0, 2.0])\n",
        "x.requires_grad_(True)\n",
        "\n",
        "print(\"X\", x)"
      ]
    },
    {
      "cell_type": "markdown",
      "metadata": {
        "id": "5eQqlzw44kwp"
      },
      "source": [
        "Now let's build the computation graph step by step. You can combine multiple operations in a single line, but we will separate them here to get a better understanding of how each operation is added to the computation graph."
      ]
    },
    {
      "cell_type": "code",
      "execution_count": 24,
      "metadata": {
        "id": "yPKVRZ4P4kwp",
        "colab": {
          "base_uri": "https://localhost:8080/"
        },
        "outputId": "d0a44580-1b05-4191-8d79-5623fae76aa3"
      },
      "outputs": [
        {
          "output_type": "stream",
          "name": "stdout",
          "text": [
            "Y tensor(12.6667, grad_fn=<MeanBackward0>)\n"
          ]
        }
      ],
      "source": [
        "## TODO: Implement the function above in four steps, each representing one single operation (add -> a, square -> b, add -> c, mean -> y)\n",
        "a = x + 2\n",
        "b = a ** 2\n",
        "c = b + 3\n",
        "y = c.mean()\n",
        "print(\"Y\", y)"
      ]
    },
    {
      "cell_type": "markdown",
      "metadata": {
        "id": "ELss_MS04kwp"
      },
      "source": [
        "Using the statements above, we have created a computation graph that looks similar to the figure below:\n",
        "\n",
        "<center style=\"width: 100%\"><img src=\"https://github.com/phlippe/uvadlc_notebooks/blob/master/docs/tutorial_notebooks/tutorial2/pytorch_computation_graph.svg?raw=1\" width=\"200px\"></center>\n",
        "\n",
        "We calculate $a$ based on the inputs $x$ and the constant $2$, $b$ is $a$ squared, and so on. The visualization is an abstraction of the dependencies between inputs and outputs of the operations we have applied.\n",
        "Each node of the computation graph has automatically defined a function for calculating the gradients with respect to its inputs, `grad_fn`. You can see this when we printed the output tensor $y$. This is why the computation graph is usually visualized in the reverse direction (arrows point from the result to the inputs). We can perform backpropagation on the computation graph by calling the function `backward()` on the last output, which effectively calculates the gradients for each tensor that has the property `requires_grad=True`:"
      ]
    },
    {
      "cell_type": "code",
      "execution_count": 25,
      "metadata": {
        "id": "iL8x9u9c4kwp"
      },
      "outputs": [],
      "source": [
        "y.backward()"
      ]
    },
    {
      "cell_type": "markdown",
      "metadata": {
        "id": "s5AOfyij4kwp"
      },
      "source": [
        "`x.grad` will now contain the gradient $\\partial y/ \\partial \\mathcal{x}$, and this gradient indicates how a change in $\\mathbf{x}$ will affect output $y$ given the current input $\\mathbf{x}=[0,1,2]$:"
      ]
    },
    {
      "cell_type": "code",
      "execution_count": 26,
      "metadata": {
        "id": "ZoVAZEnQ4kwq",
        "colab": {
          "base_uri": "https://localhost:8080/"
        },
        "outputId": "bf552b3c-a01f-4126-e4b5-cc4ae8d22711"
      },
      "outputs": [
        {
          "output_type": "stream",
          "name": "stdout",
          "text": [
            "tensor([1.3333, 2.0000, 2.6667])\n"
          ]
        }
      ],
      "source": [
        "print(x.grad)"
      ]
    },
    {
      "cell_type": "markdown",
      "metadata": {
        "id": "g3fOY9jc4kwq"
      },
      "source": [
        "We can also verify these gradients by hand. We will calculate the gradients using the chain rule, in the same way as PyTorch did it:\n",
        "\n",
        "$$\\frac{\\partial y}{\\partial x_i} = \\frac{\\partial y}{\\partial c_i}\\frac{\\partial c_i}{\\partial b_i}\\frac{\\partial b_i}{\\partial a_i}\\frac{\\partial a_i}{\\partial x_i}$$\n",
        "\n",
        "Note that we have simplified this equation to index notation, and by using the fact that all operation besides the mean do not combine the elements in the tensor. The partial derivatives are:\n",
        "\n",
        "$$\n",
        "\\frac{\\partial a_i}{\\partial x_i} = 1,\\hspace{1cm}\n",
        "\\frac{\\partial b_i}{\\partial a_i} = 2\\cdot a_i\\hspace{1cm}\n",
        "\\frac{\\partial c_i}{\\partial b_i} = 1\\hspace{1cm}\n",
        "\\frac{\\partial y}{\\partial c_i} = \\frac{1}{3}\n",
        "$$\n",
        "\n",
        "Hence, with the input being $\\mathbf{x}=[0,1,2]$, our gradients are $\\partial y/\\partial \\mathbf{x}=[4/3,2,8/3]$. The previous code cell should have printed the same result."
      ]
    },
    {
      "cell_type": "markdown",
      "metadata": {
        "id": "CuUGjoc14kwq"
      },
      "source": [
        "### GPU support\n",
        "\n",
        "A crucial feature of PyTorch is the support of GPUs, short for Graphics Processing Unit. A GPU can perform many thousands of small operations in parallel, making it very well suitable for performing large matrix operations in neural networks. When comparing GPUs to CPUs, we can list the following main differences (credit: [Kevin Krewell, 2009](https://blogs.nvidia.com/blog/2009/12/16/whats-the-difference-between-a-cpu-and-a-gpu/)) \n",
        "\n",
        "<center style=\"width: 100%\"><img src=\"https://github.com/phlippe/uvadlc_notebooks/blob/master/docs/tutorial_notebooks/tutorial2/comparison_CPU_GPU.png?raw=1\" width=\"700px\"></center>\n",
        "\n",
        "CPUs and GPUs have both different advantages and disadvantages, which is why many computers contain both components and use them for different tasks. In case you are not familiar with GPUs, you can read up more details in this [NVIDIA blog post](https://blogs.nvidia.com/blog/2009/12/16/whats-the-difference-between-a-cpu-and-a-gpu/) or [here](https://www.intel.com/content/www/us/en/products/docs/processors/what-is-a-gpu.html). \n",
        "\n",
        "GPUs can accelerate the training of your network up to a factor of $100$ which is essential for large neural networks. PyTorch implements a lot of functionality for supporting GPUs (mostly those of NVIDIA due to the libraries [CUDA](https://developer.nvidia.com/cuda-zone) and [cuDNN](https://developer.nvidia.com/cudnn)). First, let's check whether you have a GPU available:"
      ]
    },
    {
      "cell_type": "code",
      "execution_count": 27,
      "metadata": {
        "id": "kNK_zKgP4kwq",
        "colab": {
          "base_uri": "https://localhost:8080/"
        },
        "outputId": "65a5f7d2-594a-4a6f-e4e7-c82e9aee322d"
      },
      "outputs": [
        {
          "output_type": "stream",
          "name": "stdout",
          "text": [
            "Is the GPU available? True\n"
          ]
        }
      ],
      "source": [
        "gpu_avail = torch.cuda.is_available()\n",
        "print(\"Is the GPU available? %s\" % str(gpu_avail))"
      ]
    },
    {
      "cell_type": "markdown",
      "metadata": {
        "id": "ORu6cUhm4kwq"
      },
      "source": [
        "If you have a GPU on your computer but the command above returns False, make sure you have the correct CUDA-version installed. The `dl2020` environment comes with the CUDA-toolkit 10.1, which is selected for the Lisa supercomputer. Please change it if necessary (CUDA 10.2 is currently common). On Google Colab, make sure that you have selected a GPU in your runtime setup (in the menu, check under `Runtime -> Change runtime type`). \n",
        "\n",
        "By default, all tensors you create are stored on the CPU. We can push a tensor to the GPU by using the function `.to(...)`, or `.cuda()`. However, it is often a good practice to define a `device` object in your code which points to the GPU if you have one, and otherwise to the CPU. Then, you can write your code with respect to this device object, and it allows you to run the same code on both a CPU-only system, and one with a GPU. Let's try it below. We can specify the device as follows: "
      ]
    },
    {
      "cell_type": "code",
      "execution_count": 28,
      "metadata": {
        "id": "0jBMeT7c4kwq",
        "colab": {
          "base_uri": "https://localhost:8080/"
        },
        "outputId": "90323d88-3a73-4b2e-e6a7-ed21e7db7855"
      },
      "outputs": [
        {
          "output_type": "stream",
          "name": "stdout",
          "text": [
            "Device cuda\n"
          ]
        }
      ],
      "source": [
        "device = torch.device(\"cuda\") if torch.cuda.is_available() else torch.device(\"cpu\")\n",
        "print(\"Device\", device)"
      ]
    },
    {
      "cell_type": "markdown",
      "metadata": {
        "id": "9zmN8TDS4kwq"
      },
      "source": [
        "Now let's create a tensor and push it to the device:"
      ]
    },
    {
      "cell_type": "code",
      "execution_count": 29,
      "metadata": {
        "id": "dLCDuIRY4kwq",
        "colab": {
          "base_uri": "https://localhost:8080/"
        },
        "outputId": "ae360709-bc13-4307-9bb0-971fdfc9db83"
      },
      "outputs": [
        {
          "output_type": "stream",
          "name": "stdout",
          "text": [
            "X tensor([[0., 0., 0.],\n",
            "        [0., 0., 0.]])\n"
          ]
        }
      ],
      "source": [
        "x = torch.zeros(2, 3)\n",
        "\n",
        "## TODO: Push the tensor to \"device\"\n",
        "x.to(device)\n",
        "print(\"X\", x)"
      ]
    },
    {
      "cell_type": "markdown",
      "metadata": {
        "id": "iK3lfEae4kwq"
      },
      "source": [
        "In case you have a GPU, you should now see the attribute `device='cuda:0'` being printed next to your tensor. The zero next to cuda indicates that this is the zero-th GPU device on your computer. PyTorch also supports multi-GPU systems, but this you will only need once you have very big networks to train (if interested, see the [PyTorch documentation](https://pytorch.org/docs/stable/distributed.html#distributed-basics)). We can also compare the runtime of a large matrix multiplication on the CPU with a operation on the GPU:"
      ]
    },
    {
      "cell_type": "code",
      "execution_count": 30,
      "metadata": {
        "id": "8alevA3O4kwq",
        "colab": {
          "base_uri": "https://localhost:8080/"
        },
        "outputId": "501feee5-c869-44d2-c4e3-5ebc82000003"
      },
      "outputs": [
        {
          "output_type": "stream",
          "name": "stdout",
          "text": [
            "CPU time: 2.00909s\n",
            "GPU time: 0.00016s\n"
          ]
        }
      ],
      "source": [
        "x = torch.randn(5000, 5000)\n",
        "\n",
        "## CPU version\n",
        "start_time = time.time()\n",
        "_ = torch.matmul(x, x)\n",
        "end_time = time.time()\n",
        "print(\"CPU time: %6.5fs\" % (end_time - start_time))\n",
        "\n",
        "## GPU version\n",
        "x = x.to(device)\n",
        "# The first operation on a CUDA device can be slow as it has to establish a CPU-GPU communication first. \n",
        "# Hence, we run an arbitrary command first without timing it for a fair comparison.\n",
        "if torch.cuda.is_available():\n",
        "    _ = torch.matmul(x*0.0, x)\n",
        "start_time = time.time()\n",
        "_ = torch.matmul(x, x)\n",
        "end_time = time.time()\n",
        "print(\"GPU time: %6.5fs\" % (end_time - start_time))"
      ]
    },
    {
      "cell_type": "markdown",
      "metadata": {
        "id": "mKg-09Fn4kwq"
      },
      "source": [
        "Depending on the size of the operation and the CPU/GPU in your system, the speedup of this operation can be >500x. As `matmul` operations are very common in neural networks, we can already see the great benefit of training a NN on a GPU. The time estimate can be relatively noisy here because we haven't run it for multiple times. Feel free to extend this, but it also takes longer to run.\n",
        "\n",
        "When generating random numbers, the seed between CPU and GPU is not synchronized. Hence, we need to set the seed on the GPU separately to ensure a reproducible code. Note that due to different GPU architectures, running the same code on different GPUs does not guarantee the same random numbers. Still, we don't want that our code gives us a different output every time we run it on the exact same hardware. Hence, we also set the seed on the GPU:"
      ]
    },
    {
      "cell_type": "code",
      "execution_count": 31,
      "metadata": {
        "id": "acbCu1go4kwq"
      },
      "outputs": [],
      "source": [
        "# GPU operations have a separate seed we also want to set\n",
        "if torch.cuda.is_available(): \n",
        "    torch.cuda.manual_seed(42)\n",
        "    torch.cuda.manual_seed_all(42)\n",
        "    \n",
        "# Additionally, some operations on a GPU are implemented stochastic for efficiency\n",
        "# We want to ensure that all operations are deterministic on GPU (if used) for reproducibility\n",
        "torch.backends.cudnn.deterministic = True\n",
        "torch.backends.cudnn.benchmark = False"
      ]
    },
    {
      "cell_type": "markdown",
      "metadata": {
        "id": "HMx37T194kwq"
      },
      "source": [
        "## Learning by example: Continuous XOR\n",
        "\n",
        "If we want to build a neural network in PyTorch, we could specify all our parameters (weight matrices, bias vectors) using `Tensors` (with `requires_grad=True`), ask PyTorch to calculate the gradients and then adjust the parameters. But things can quickly get cumbersome if we have a lot of parameters. In PyTorch, there is a package called `torch.nn` that makes building neural networks more convenient. \n",
        "\n",
        "We will introduce the libraries and all additional parts you might need to train a neural network in PyTorch, using a simple example classifier on a simple yet well known example: XOR. Given two binary inputs $x_1$ and $x_2$, the label to predict is $1$ if either $x_1$ or $x_2$ is $1$ while the other is $0$, or the label is $0$ in all other cases. The example became famous by the fact that a single neuron, i.e. a linear classifier, cannot learn this simple function.\n",
        "Hence, we will learn how to build a small neural network that can learn this function. \n",
        "To make it a little bit more interesting, we move the XOR into continuous space and introduce some gaussian noise on the binary inputs. Our desired separation of an XOR dataset could look as follows:\n",
        "\n",
        "<center style=\"width: 100%\"><img src=\"https://github.com/phlippe/uvadlc_notebooks/blob/master/docs/tutorial_notebooks/tutorial2/continuous_xor.svg?raw=1\" width=\"350px\"></center>"
      ]
    },
    {
      "cell_type": "markdown",
      "metadata": {
        "id": "Vxpu_YWu4kwq"
      },
      "source": [
        "### The model\n",
        "\n",
        "The package `torch.nn` defines a series of useful classes like linear networks layers, activation functions, loss functions etc. A full list can be found [here](https://pytorch.org/docs/stable/nn.html). In case you need a certain network layer, check the documentation of the package first before writing the layer yourself as the package likely contains the code for it already. We import it below:"
      ]
    },
    {
      "cell_type": "code",
      "execution_count": 32,
      "metadata": {
        "id": "rCj21x554kwq"
      },
      "outputs": [],
      "source": [
        "import torch.nn as nn"
      ]
    },
    {
      "cell_type": "markdown",
      "metadata": {
        "id": "el8YgooH4kwq"
      },
      "source": [
        "Additionally to `torch.nn`, there is also `torch.nn.functional`. It contains functions that are used in network layers. This is in contrast to `torch.nn` which defines them as `nn.Modules` (more on it below), and `torch.nn` actually uses a lot of functionalities from `torch.nn.functional`. Hence, the functional package is useful in many situations, and so we import it as well here."
      ]
    },
    {
      "cell_type": "code",
      "execution_count": 33,
      "metadata": {
        "id": "KSW_-j1P4kwr"
      },
      "outputs": [],
      "source": [
        "import torch.nn.functional as F"
      ]
    },
    {
      "cell_type": "markdown",
      "metadata": {
        "id": "W38Twupx4kwr"
      },
      "source": [
        "#### nn.Module\n",
        "\n",
        "In PyTorch, a neural network is build up out of modules. Modules can contain other modules, and a neural network is considered to be a module itself as well. The basic template of a module is as follows:"
      ]
    },
    {
      "cell_type": "code",
      "execution_count": 34,
      "metadata": {
        "id": "n3tb0ABR4kwr"
      },
      "outputs": [],
      "source": [
        "class MyModule(nn.Module):\n",
        "    \n",
        "    def __init__(self):\n",
        "        super().__init__()\n",
        "        # Some init for my module\n",
        "        \n",
        "    def forward(self, x):\n",
        "        # Function for performing the calculation of the module.\n",
        "        pass"
      ]
    },
    {
      "cell_type": "markdown",
      "metadata": {
        "id": "4Rw8XYZr4kwr"
      },
      "source": [
        "The forward function is where the computation of the module is taken place, and is executed when you call the module (`nn = MyModule(); nn(x)`). In the init function, we usually create the parameters of the module, using `nn.Parameter`, or defining other modules that are used in the forward function. The backward calculation is done automatically, but could be overwritten as well if wanted.\n",
        "\n",
        "#### Simple classifier\n",
        "We can now make use of the pre-defined modules in the `torch.nn` package, and define our own small neural network. We will use a minimal network with a input layer, one hidden layer with tanh as activation function, and a output layer. In other words, our networks should look something like this:\n",
        "\n",
        "<center width=\"100%\"><img src=\"https://github.com/phlippe/uvadlc_notebooks/blob/master/docs/tutorial_notebooks/tutorial2/small_neural_network.svg?raw=1\" width=\"300px\"></center>\n",
        "\n",
        "The input neurons are shown in blue, which represent the coordinates $x_1$ and $x_2$ of a data point. The hidden neurons including a tanh activation are shown in white, and the output neuron in red.\n",
        "In PyTorch, we can define this as follows:"
      ]
    },
    {
      "cell_type": "code",
      "execution_count": 35,
      "metadata": {
        "id": "AQygezrG4kwr"
      },
      "outputs": [],
      "source": [
        "class SimpleClassifier(nn.Module):\n",
        "    \n",
        "    def __init__(self, num_inputs, num_hidden, num_outputs):\n",
        "        super().__init__()\n",
        "        # Initialize the modules we need to build the network\n",
        "        ## TODO: Implement the linear layers using nn.Linear(input_neurons, output_neurons)\n",
        "        self.linear1 = nn.Linear(num_inputs, num_hidden)\n",
        "        self.linear2 = nn.Linear(num_hidden, num_outputs)\n",
        "        ## TODO: Implement the activation function using nn.Tanh\n",
        "        self.act_fn = nn.Tanh()\n",
        "        \n",
        "        \n",
        "    def forward(self, x):\n",
        "        # Perform the calculation of the model to determine the prediction\n",
        "        ## TODO: Execute the NN modules in sequence to build the neural network computation graph\n",
        "        x = self.linear1(x)\n",
        "        x = self.act_fn(x)\n",
        "        x = self.linear2(x)\n",
        "\n",
        "        return x"
      ]
    },
    {
      "cell_type": "markdown",
      "metadata": {
        "id": "8OyfH9Fo4kwr"
      },
      "source": [
        "For the examples in this notebook, we will use a tiny neural network with two input neurons and four hidden neurons. As we perform binary classification, we will use a single output neuron. Note that we do not apply a sigmoid on the output yet. This is because other functions, especially the loss, are more efficient and precise to calculate on the original outputs instead of the sigmoid output. We will discuss the detailed reason later."
      ]
    },
    {
      "cell_type": "code",
      "execution_count": 36,
      "metadata": {
        "id": "rzm66rb44kwr",
        "colab": {
          "base_uri": "https://localhost:8080/"
        },
        "outputId": "6e66d657-ffc7-4d3b-ff2a-badb1805ba95"
      },
      "outputs": [
        {
          "output_type": "stream",
          "name": "stdout",
          "text": [
            "SimpleClassifier(\n",
            "  (linear1): Linear(in_features=2, out_features=4, bias=True)\n",
            "  (linear2): Linear(in_features=4, out_features=1, bias=True)\n",
            "  (act_fn): Tanh()\n",
            ")\n"
          ]
        }
      ],
      "source": [
        "model = SimpleClassifier(num_inputs=2, num_hidden=4, num_outputs=1)\n",
        "# Printing a module shows all its submodules\n",
        "print(model)"
      ]
    },
    {
      "cell_type": "markdown",
      "metadata": {
        "id": "QwI39wHw4kwr"
      },
      "source": [
        "Printing the model lists all submodules it contains. The parameters of a module can be obtained by using its `parameters()` functions, or `named_parameters()` to get a name to each parameter object. For our small neural network, we have the following parameters:"
      ]
    },
    {
      "cell_type": "code",
      "execution_count": 37,
      "metadata": {
        "id": "1H2M4UbF4kwr",
        "colab": {
          "base_uri": "https://localhost:8080/"
        },
        "outputId": "6f032c41-4d70-4fd0-d923-5c8f98a5d97b"
      },
      "outputs": [
        {
          "output_type": "stream",
          "name": "stdout",
          "text": [
            "Parameter linear1.weight, shape torch.Size([4, 2])\n",
            "Parameter linear1.bias, shape torch.Size([4])\n",
            "Parameter linear2.weight, shape torch.Size([1, 4])\n",
            "Parameter linear2.bias, shape torch.Size([1])\n"
          ]
        }
      ],
      "source": [
        "for name, param in model.named_parameters():\n",
        "    print(\"Parameter %s, shape %s\" % (name, str(param.shape)))"
      ]
    },
    {
      "cell_type": "markdown",
      "metadata": {
        "id": "ir8ySFMb4kwr"
      },
      "source": [
        "Each linear layer has a weight matrix of the shape `[output, input]`, and a bias of the shape `[output]`. The tanh activation function does not have any parameters. Note that parameters are only registered for `nn.Module` objects that are direct object attributes, i.e. `self.a = ...`. If you define a list of modules, the parameters of those are not registered for the outer module and can cause some issues when you try to optimize your module. There are alternatives, like `nn.ModuleList`, `nn.ModuleDict` and `nn.Sequential`, that allow you to have different data structures of modules. We will use them in a few later tutorials and explain them there. "
      ]
    },
    {
      "cell_type": "markdown",
      "metadata": {
        "id": "0GxYpRVa4kwr"
      },
      "source": [
        "### The data\n",
        "\n",
        "PyTorch also provides a few functionalities to load the training and test data efficiently, summarized in the package `torch.utils.data`."
      ]
    },
    {
      "cell_type": "code",
      "execution_count": 38,
      "metadata": {
        "id": "RCXBrXJR4kwr"
      },
      "outputs": [],
      "source": [
        "import torch.utils.data as data"
      ]
    },
    {
      "cell_type": "markdown",
      "metadata": {
        "id": "HKEnp9cK4kwr"
      },
      "source": [
        "The data package defines two classes which are the standard interface for handling data in PyTorch: `data.Dataset`, and `data.DataLoader`. The dataset class provides an uniform interface to access the training/test data, while the data loader makes sure to efficiently load and stack the data points from the dataset into batches during training."
      ]
    },
    {
      "cell_type": "markdown",
      "metadata": {
        "id": "MamjZIp34kwr"
      },
      "source": [
        "#### The dataset class\n",
        "\n",
        "The dataset class summarizes the basic functionality of a dataset in a natural way. To define a dataset in PyTorch, we simply specify two functions: `__getitem__`, and `__len__`. The get-item function has to return the $i$-th data point in the dataset, while the len function returns the size of the dataset. For the XOR dataset, we can define the dataset class as follows:"
      ]
    },
    {
      "cell_type": "code",
      "execution_count": 39,
      "metadata": {
        "id": "tr1mzL514kwr"
      },
      "outputs": [],
      "source": [
        "class XORDataset(data.Dataset):\n",
        "    \n",
        "    def __init__(self, size, std=0.1):\n",
        "        \"\"\"\n",
        "        Inputs:\n",
        "            size - Number of data points we want to generate\n",
        "            std - Standard deviation of the noise (see generate_continuous_xor function)\n",
        "        \"\"\"\n",
        "        super().__init__()\n",
        "        self.size = size\n",
        "        self.std = std\n",
        "        self.generate_continuous_xor()\n",
        "        \n",
        "    \n",
        "    def generate_continuous_xor(self):\n",
        "        # Each data point in the XOR dataset has two variables, x and y, that can be either 0 or 1\n",
        "        # The label is their XOR combination, i.e. 1 if only x or only y is 1 while the other is 0.\n",
        "        # If x=y, the label is 0.\n",
        "        data = torch.randint(low=0, high=2, size=(self.size, 2), dtype=torch.float32)\n",
        "        label = (data.sum(dim=1) == 1).to(torch.long)\n",
        "        # To make it slightly more challenging, we add a bit of gaussian noise to the data points.\n",
        "        data += self.std * torch.randn(data.shape)\n",
        "        \n",
        "        self.data = data\n",
        "        self.label = label\n",
        "        \n",
        "    \n",
        "    def __len__(self):\n",
        "        ## TODO: Return the number of data points the data has\n",
        "        return self.data.shape[0]\n",
        "    \n",
        "    \n",
        "    def __getitem__(self, idx):\n",
        "        ## TODO: Return the idx-th data point and label of the dataset\n",
        "        data_point = self.data[idx]\n",
        "        data_label = self.label[idx]\n",
        "        return data_point, data_label"
      ]
    },
    {
      "cell_type": "markdown",
      "metadata": {
        "id": "BCmxKeya4kws"
      },
      "source": [
        "Let's try to create such a dataset and inspect it:"
      ]
    },
    {
      "cell_type": "code",
      "execution_count": 40,
      "metadata": {
        "id": "1XSzMNvU4kws",
        "colab": {
          "base_uri": "https://localhost:8080/"
        },
        "outputId": "3989138d-88fb-47d3-b71a-c45660b598f6"
      },
      "outputs": [
        {
          "output_type": "stream",
          "name": "stdout",
          "text": [
            "Size of dataset: 200\n",
            "Data point 0: (tensor([1.1658, 0.9603]), tensor(0))\n"
          ]
        }
      ],
      "source": [
        "dataset = XORDataset(size=200)\n",
        "print(\"Size of dataset:\", len(dataset))\n",
        "print(\"Data point 0:\", dataset[0])"
      ]
    },
    {
      "cell_type": "markdown",
      "metadata": {
        "id": "YRaTpNOJ4kws"
      },
      "source": [
        "To better relate to the dataset, we visualize the samples below. "
      ]
    },
    {
      "cell_type": "code",
      "execution_count": 41,
      "metadata": {
        "id": "eten7izA4kws"
      },
      "outputs": [],
      "source": [
        "def visualize_samples(data, label):\n",
        "    if isinstance(data, torch.Tensor):\n",
        "        data = data.cpu().numpy()\n",
        "    if isinstance(label, torch.Tensor):\n",
        "        label = label.cpu().numpy()\n",
        "    data_0 = data[label == 0]\n",
        "    data_1 = data[label == 1]\n",
        "    \n",
        "    plt.figure(figsize=(4,4))\n",
        "    plt.scatter(data_0[:,0], data_0[:,1], edgecolor=\"#333\", label=\"Class 0\")\n",
        "    plt.scatter(data_1[:,0], data_1[:,1], edgecolor=\"#333\", label=\"Class 1\")\n",
        "    plt.title(\"Dataset samples\")\n",
        "    plt.ylabel(r\"$x_2$\")\n",
        "    plt.xlabel(r\"$x_1$\")\n",
        "    plt.legend()"
      ]
    },
    {
      "cell_type": "code",
      "execution_count": 42,
      "metadata": {
        "id": "7PrN-R0N4kws",
        "colab": {
          "base_uri": "https://localhost:8080/",
          "height": 398
        },
        "outputId": "1d7bdf91-e148-4e4a-ed27-318956a0b347"
      },
      "outputs": [
        {
          "output_type": "display_data",
          "data": {
            "text/plain": [
              "<Figure size 288x288 with 1 Axes>"
            ],
            "image/svg+xml": "<?xml version=\"1.0\" encoding=\"utf-8\" standalone=\"no\"?>\n<!DOCTYPE svg PUBLIC \"-//W3C//DTD SVG 1.1//EN\"\n  \"http://www.w3.org/Graphics/SVG/1.1/DTD/svg11.dtd\">\n<!-- Created with matplotlib (https://matplotlib.org/) -->\n<svg height=\"282.717813pt\" version=\"1.1\" viewBox=\"0 0 289.424844 282.717813\" width=\"289.424844pt\" xmlns=\"http://www.w3.org/2000/svg\" xmlns:xlink=\"http://www.w3.org/1999/xlink\">\n <defs>\n  <style type=\"text/css\">\n*{stroke-linecap:butt;stroke-linejoin:round;}\n  </style>\n </defs>\n <g id=\"figure_1\">\n  <g id=\"patch_1\">\n   <path d=\"M 0 282.717813 \nL 289.424844 282.717813 \nL 289.424844 0 \nL 0 0 \nz\n\" style=\"fill:#ffffff;\"/>\n  </g>\n  <g id=\"axes_1\">\n   <g id=\"patch_2\">\n    <path d=\"M 59.024844 239.758125 \nL 282.224844 239.758125 \nL 282.224844 22.318125 \nL 59.024844 22.318125 \nz\n\" style=\"fill:#eaeaf2;\"/>\n   </g>\n   <g id=\"matplotlib.axis_1\">\n    <g id=\"xtick_1\">\n     <g id=\"line2d_1\">\n      <path clip-path=\"url(#pbe26521939)\" d=\"M 104.136211 239.758125 \nL 104.136211 22.318125 \n\" style=\"fill:none;stroke:#ffffff;stroke-linecap:round;\"/>\n     </g>\n     <g id=\"text_1\">\n      <!-- 0.0 -->\n      <defs>\n       <path d=\"M 31.78125 66.40625 \nQ 24.171875 66.40625 20.328125 58.90625 \nQ 16.5 51.421875 16.5 36.375 \nQ 16.5 21.390625 20.328125 13.890625 \nQ 24.171875 6.390625 31.78125 6.390625 \nQ 39.453125 6.390625 43.28125 13.890625 \nQ 47.125 21.390625 47.125 36.375 \nQ 47.125 51.421875 43.28125 58.90625 \nQ 39.453125 66.40625 31.78125 66.40625 \nz\nM 31.78125 74.21875 \nQ 44.046875 74.21875 50.515625 64.515625 \nQ 56.984375 54.828125 56.984375 36.375 \nQ 56.984375 17.96875 50.515625 8.265625 \nQ 44.046875 -1.421875 31.78125 -1.421875 \nQ 19.53125 -1.421875 13.0625 8.265625 \nQ 6.59375 17.96875 6.59375 36.375 \nQ 6.59375 54.828125 13.0625 64.515625 \nQ 19.53125 74.21875 31.78125 74.21875 \nz\n\" id=\"DejaVuSans-48\"/>\n       <path d=\"M 10.6875 12.40625 \nL 21 12.40625 \nL 21 0 \nL 10.6875 0 \nz\n\" id=\"DejaVuSans-46\"/>\n      </defs>\n      <g style=\"fill:#262626;\" transform=\"translate(95.389492 257.616406)scale(0.11 -0.11)\">\n       <use xlink:href=\"#DejaVuSans-48\"/>\n       <use x=\"63.623047\" xlink:href=\"#DejaVuSans-46\"/>\n       <use x=\"95.410156\" xlink:href=\"#DejaVuSans-48\"/>\n      </g>\n     </g>\n    </g>\n    <g id=\"xtick_2\">\n     <g id=\"line2d_2\">\n      <path clip-path=\"url(#pbe26521939)\" d=\"M 173.488267 239.758125 \nL 173.488267 22.318125 \n\" style=\"fill:none;stroke:#ffffff;stroke-linecap:round;\"/>\n     </g>\n     <g id=\"text_2\">\n      <!-- 0.5 -->\n      <defs>\n       <path d=\"M 10.796875 72.90625 \nL 49.515625 72.90625 \nL 49.515625 64.59375 \nL 19.828125 64.59375 \nL 19.828125 46.734375 \nQ 21.96875 47.46875 24.109375 47.828125 \nQ 26.265625 48.1875 28.421875 48.1875 \nQ 40.625 48.1875 47.75 41.5 \nQ 54.890625 34.8125 54.890625 23.390625 \nQ 54.890625 11.625 47.5625 5.09375 \nQ 40.234375 -1.421875 26.90625 -1.421875 \nQ 22.3125 -1.421875 17.546875 -0.640625 \nQ 12.796875 0.140625 7.71875 1.703125 \nL 7.71875 11.625 \nQ 12.109375 9.234375 16.796875 8.0625 \nQ 21.484375 6.890625 26.703125 6.890625 \nQ 35.15625 6.890625 40.078125 11.328125 \nQ 45.015625 15.765625 45.015625 23.390625 \nQ 45.015625 31 40.078125 35.4375 \nQ 35.15625 39.890625 26.703125 39.890625 \nQ 22.75 39.890625 18.8125 39.015625 \nQ 14.890625 38.140625 10.796875 36.28125 \nz\n\" id=\"DejaVuSans-53\"/>\n      </defs>\n      <g style=\"fill:#262626;\" transform=\"translate(164.741548 257.616406)scale(0.11 -0.11)\">\n       <use xlink:href=\"#DejaVuSans-48\"/>\n       <use x=\"63.623047\" xlink:href=\"#DejaVuSans-46\"/>\n       <use x=\"95.410156\" xlink:href=\"#DejaVuSans-53\"/>\n      </g>\n     </g>\n    </g>\n    <g id=\"xtick_3\">\n     <g id=\"line2d_3\">\n      <path clip-path=\"url(#pbe26521939)\" d=\"M 242.840324 239.758125 \nL 242.840324 22.318125 \n\" style=\"fill:none;stroke:#ffffff;stroke-linecap:round;\"/>\n     </g>\n     <g id=\"text_3\">\n      <!-- 1.0 -->\n      <defs>\n       <path d=\"M 12.40625 8.296875 \nL 28.515625 8.296875 \nL 28.515625 63.921875 \nL 10.984375 60.40625 \nL 10.984375 69.390625 \nL 28.421875 72.90625 \nL 38.28125 72.90625 \nL 38.28125 8.296875 \nL 54.390625 8.296875 \nL 54.390625 0 \nL 12.40625 0 \nz\n\" id=\"DejaVuSans-49\"/>\n      </defs>\n      <g style=\"fill:#262626;\" transform=\"translate(234.093605 257.616406)scale(0.11 -0.11)\">\n       <use xlink:href=\"#DejaVuSans-49\"/>\n       <use x=\"63.623047\" xlink:href=\"#DejaVuSans-46\"/>\n       <use x=\"95.410156\" xlink:href=\"#DejaVuSans-48\"/>\n      </g>\n     </g>\n    </g>\n    <g id=\"text_4\">\n     <!-- $x_1$ -->\n     <defs>\n      <path d=\"M 60.015625 54.6875 \nL 34.90625 27.875 \nL 50.296875 0 \nL 39.984375 0 \nL 28.421875 21.6875 \nL 8.296875 0 \nL -2.59375 0 \nL 24.3125 28.8125 \nL 10.015625 54.6875 \nL 20.3125 54.6875 \nL 30.8125 34.90625 \nL 49.125 54.6875 \nz\n\" id=\"DejaVuSans-Oblique-120\"/>\n     </defs>\n     <g style=\"fill:#262626;\" transform=\"translate(164.204844 273.022188)scale(0.12 -0.12)\">\n      <use transform=\"translate(0 0.3125)\" xlink:href=\"#DejaVuSans-Oblique-120\"/>\n      <use transform=\"translate(59.179688 -16.09375)scale(0.7)\" xlink:href=\"#DejaVuSans-49\"/>\n     </g>\n    </g>\n   </g>\n   <g id=\"matplotlib.axis_2\">\n    <g id=\"ytick_1\">\n     <g id=\"line2d_4\">\n      <path clip-path=\"url(#pbe26521939)\" d=\"M 59.024844 223.94267 \nL 282.224844 223.94267 \n\" style=\"fill:none;stroke:#ffffff;stroke-linecap:round;\"/>\n     </g>\n     <g id=\"text_5\">\n      <!-- −0.2 -->\n      <defs>\n       <path d=\"M 10.59375 35.5 \nL 73.1875 35.5 \nL 73.1875 27.203125 \nL 10.59375 27.203125 \nz\n\" id=\"DejaVuSans-8722\"/>\n       <path d=\"M 19.1875 8.296875 \nL 53.609375 8.296875 \nL 53.609375 0 \nL 7.328125 0 \nL 7.328125 8.296875 \nQ 12.9375 14.109375 22.625 23.890625 \nQ 32.328125 33.6875 34.8125 36.53125 \nQ 39.546875 41.84375 41.421875 45.53125 \nQ 43.3125 49.21875 43.3125 52.78125 \nQ 43.3125 58.59375 39.234375 62.25 \nQ 35.15625 65.921875 28.609375 65.921875 \nQ 23.96875 65.921875 18.8125 64.3125 \nQ 13.671875 62.703125 7.8125 59.421875 \nL 7.8125 69.390625 \nQ 13.765625 71.78125 18.9375 73 \nQ 24.125 74.21875 28.421875 74.21875 \nQ 39.75 74.21875 46.484375 68.546875 \nQ 53.21875 62.890625 53.21875 53.421875 \nQ 53.21875 48.921875 51.53125 44.890625 \nQ 49.859375 40.875 45.40625 35.40625 \nQ 44.1875 33.984375 37.640625 27.21875 \nQ 31.109375 20.453125 19.1875 8.296875 \nz\n\" id=\"DejaVuSans-50\"/>\n      </defs>\n      <g style=\"fill:#262626;\" transform=\"translate(22.81375 228.121811)scale(0.11 -0.11)\">\n       <use xlink:href=\"#DejaVuSans-8722\"/>\n       <use x=\"83.789062\" xlink:href=\"#DejaVuSans-48\"/>\n       <use x=\"147.412109\" xlink:href=\"#DejaVuSans-46\"/>\n       <use x=\"179.199219\" xlink:href=\"#DejaVuSans-50\"/>\n      </g>\n     </g>\n    </g>\n    <g id=\"ytick_2\">\n     <g id=\"line2d_5\">\n      <path clip-path=\"url(#pbe26521939)\" d=\"M 59.024844 196.335617 \nL 282.224844 196.335617 \n\" style=\"fill:none;stroke:#ffffff;stroke-linecap:round;\"/>\n     </g>\n     <g id=\"text_6\">\n      <!-- 0.0 -->\n      <g style=\"fill:#262626;\" transform=\"translate(32.031406 200.514758)scale(0.11 -0.11)\">\n       <use xlink:href=\"#DejaVuSans-48\"/>\n       <use x=\"63.623047\" xlink:href=\"#DejaVuSans-46\"/>\n       <use x=\"95.410156\" xlink:href=\"#DejaVuSans-48\"/>\n      </g>\n     </g>\n    </g>\n    <g id=\"ytick_3\">\n     <g id=\"line2d_6\">\n      <path clip-path=\"url(#pbe26521939)\" d=\"M 59.024844 168.728564 \nL 282.224844 168.728564 \n\" style=\"fill:none;stroke:#ffffff;stroke-linecap:round;\"/>\n     </g>\n     <g id=\"text_7\">\n      <!-- 0.2 -->\n      <g style=\"fill:#262626;\" transform=\"translate(32.031406 172.907704)scale(0.11 -0.11)\">\n       <use xlink:href=\"#DejaVuSans-48\"/>\n       <use x=\"63.623047\" xlink:href=\"#DejaVuSans-46\"/>\n       <use x=\"95.410156\" xlink:href=\"#DejaVuSans-50\"/>\n      </g>\n     </g>\n    </g>\n    <g id=\"ytick_4\">\n     <g id=\"line2d_7\">\n      <path clip-path=\"url(#pbe26521939)\" d=\"M 59.024844 141.12151 \nL 282.224844 141.12151 \n\" style=\"fill:none;stroke:#ffffff;stroke-linecap:round;\"/>\n     </g>\n     <g id=\"text_8\">\n      <!-- 0.4 -->\n      <defs>\n       <path d=\"M 37.796875 64.3125 \nL 12.890625 25.390625 \nL 37.796875 25.390625 \nz\nM 35.203125 72.90625 \nL 47.609375 72.90625 \nL 47.609375 25.390625 \nL 58.015625 25.390625 \nL 58.015625 17.1875 \nL 47.609375 17.1875 \nL 47.609375 0 \nL 37.796875 0 \nL 37.796875 17.1875 \nL 4.890625 17.1875 \nL 4.890625 26.703125 \nz\n\" id=\"DejaVuSans-52\"/>\n      </defs>\n      <g style=\"fill:#262626;\" transform=\"translate(32.031406 145.300651)scale(0.11 -0.11)\">\n       <use xlink:href=\"#DejaVuSans-48\"/>\n       <use x=\"63.623047\" xlink:href=\"#DejaVuSans-46\"/>\n       <use x=\"95.410156\" xlink:href=\"#DejaVuSans-52\"/>\n      </g>\n     </g>\n    </g>\n    <g id=\"ytick_5\">\n     <g id=\"line2d_8\">\n      <path clip-path=\"url(#pbe26521939)\" d=\"M 59.024844 113.514457 \nL 282.224844 113.514457 \n\" style=\"fill:none;stroke:#ffffff;stroke-linecap:round;\"/>\n     </g>\n     <g id=\"text_9\">\n      <!-- 0.6 -->\n      <defs>\n       <path d=\"M 33.015625 40.375 \nQ 26.375 40.375 22.484375 35.828125 \nQ 18.609375 31.296875 18.609375 23.390625 \nQ 18.609375 15.53125 22.484375 10.953125 \nQ 26.375 6.390625 33.015625 6.390625 \nQ 39.65625 6.390625 43.53125 10.953125 \nQ 47.40625 15.53125 47.40625 23.390625 \nQ 47.40625 31.296875 43.53125 35.828125 \nQ 39.65625 40.375 33.015625 40.375 \nz\nM 52.59375 71.296875 \nL 52.59375 62.3125 \nQ 48.875 64.0625 45.09375 64.984375 \nQ 41.3125 65.921875 37.59375 65.921875 \nQ 27.828125 65.921875 22.671875 59.328125 \nQ 17.53125 52.734375 16.796875 39.40625 \nQ 19.671875 43.65625 24.015625 45.921875 \nQ 28.375 48.1875 33.59375 48.1875 \nQ 44.578125 48.1875 50.953125 41.515625 \nQ 57.328125 34.859375 57.328125 23.390625 \nQ 57.328125 12.15625 50.6875 5.359375 \nQ 44.046875 -1.421875 33.015625 -1.421875 \nQ 20.359375 -1.421875 13.671875 8.265625 \nQ 6.984375 17.96875 6.984375 36.375 \nQ 6.984375 53.65625 15.1875 63.9375 \nQ 23.390625 74.21875 37.203125 74.21875 \nQ 40.921875 74.21875 44.703125 73.484375 \nQ 48.484375 72.75 52.59375 71.296875 \nz\n\" id=\"DejaVuSans-54\"/>\n      </defs>\n      <g style=\"fill:#262626;\" transform=\"translate(32.031406 117.693598)scale(0.11 -0.11)\">\n       <use xlink:href=\"#DejaVuSans-48\"/>\n       <use x=\"63.623047\" xlink:href=\"#DejaVuSans-46\"/>\n       <use x=\"95.410156\" xlink:href=\"#DejaVuSans-54\"/>\n      </g>\n     </g>\n    </g>\n    <g id=\"ytick_6\">\n     <g id=\"line2d_9\">\n      <path clip-path=\"url(#pbe26521939)\" d=\"M 59.024844 85.907404 \nL 282.224844 85.907404 \n\" style=\"fill:none;stroke:#ffffff;stroke-linecap:round;\"/>\n     </g>\n     <g id=\"text_10\">\n      <!-- 0.8 -->\n      <defs>\n       <path d=\"M 31.78125 34.625 \nQ 24.75 34.625 20.71875 30.859375 \nQ 16.703125 27.09375 16.703125 20.515625 \nQ 16.703125 13.921875 20.71875 10.15625 \nQ 24.75 6.390625 31.78125 6.390625 \nQ 38.8125 6.390625 42.859375 10.171875 \nQ 46.921875 13.96875 46.921875 20.515625 \nQ 46.921875 27.09375 42.890625 30.859375 \nQ 38.875 34.625 31.78125 34.625 \nz\nM 21.921875 38.8125 \nQ 15.578125 40.375 12.03125 44.71875 \nQ 8.5 49.078125 8.5 55.328125 \nQ 8.5 64.0625 14.71875 69.140625 \nQ 20.953125 74.21875 31.78125 74.21875 \nQ 42.671875 74.21875 48.875 69.140625 \nQ 55.078125 64.0625 55.078125 55.328125 \nQ 55.078125 49.078125 51.53125 44.71875 \nQ 48 40.375 41.703125 38.8125 \nQ 48.828125 37.15625 52.796875 32.3125 \nQ 56.78125 27.484375 56.78125 20.515625 \nQ 56.78125 9.90625 50.3125 4.234375 \nQ 43.84375 -1.421875 31.78125 -1.421875 \nQ 19.734375 -1.421875 13.25 4.234375 \nQ 6.78125 9.90625 6.78125 20.515625 \nQ 6.78125 27.484375 10.78125 32.3125 \nQ 14.796875 37.15625 21.921875 38.8125 \nz\nM 18.3125 54.390625 \nQ 18.3125 48.734375 21.84375 45.5625 \nQ 25.390625 42.390625 31.78125 42.390625 \nQ 38.140625 42.390625 41.71875 45.5625 \nQ 45.3125 48.734375 45.3125 54.390625 \nQ 45.3125 60.0625 41.71875 63.234375 \nQ 38.140625 66.40625 31.78125 66.40625 \nQ 25.390625 66.40625 21.84375 63.234375 \nQ 18.3125 60.0625 18.3125 54.390625 \nz\n\" id=\"DejaVuSans-56\"/>\n      </defs>\n      <g style=\"fill:#262626;\" transform=\"translate(32.031406 90.086545)scale(0.11 -0.11)\">\n       <use xlink:href=\"#DejaVuSans-48\"/>\n       <use x=\"63.623047\" xlink:href=\"#DejaVuSans-46\"/>\n       <use x=\"95.410156\" xlink:href=\"#DejaVuSans-56\"/>\n      </g>\n     </g>\n    </g>\n    <g id=\"ytick_7\">\n     <g id=\"line2d_10\">\n      <path clip-path=\"url(#pbe26521939)\" d=\"M 59.024844 58.300351 \nL 282.224844 58.300351 \n\" style=\"fill:none;stroke:#ffffff;stroke-linecap:round;\"/>\n     </g>\n     <g id=\"text_11\">\n      <!-- 1.0 -->\n      <g style=\"fill:#262626;\" transform=\"translate(32.031406 62.479491)scale(0.11 -0.11)\">\n       <use xlink:href=\"#DejaVuSans-49\"/>\n       <use x=\"63.623047\" xlink:href=\"#DejaVuSans-46\"/>\n       <use x=\"95.410156\" xlink:href=\"#DejaVuSans-48\"/>\n      </g>\n     </g>\n    </g>\n    <g id=\"ytick_8\">\n     <g id=\"line2d_11\">\n      <path clip-path=\"url(#pbe26521939)\" d=\"M 59.024844 30.693297 \nL 282.224844 30.693297 \n\" style=\"fill:none;stroke:#ffffff;stroke-linecap:round;\"/>\n     </g>\n     <g id=\"text_12\">\n      <!-- 1.2 -->\n      <g style=\"fill:#262626;\" transform=\"translate(32.031406 34.872438)scale(0.11 -0.11)\">\n       <use xlink:href=\"#DejaVuSans-49\"/>\n       <use x=\"63.623047\" xlink:href=\"#DejaVuSans-46\"/>\n       <use x=\"95.410156\" xlink:href=\"#DejaVuSans-50\"/>\n      </g>\n     </g>\n    </g>\n    <g id=\"text_13\">\n     <!-- $x_2$ -->\n     <g style=\"fill:#262626;\" transform=\"translate(16.318125 137.458125)rotate(-90)scale(0.12 -0.12)\">\n      <use transform=\"translate(0 0.3125)\" xlink:href=\"#DejaVuSans-Oblique-120\"/>\n      <use transform=\"translate(59.179688 -16.09375)scale(0.7)\" xlink:href=\"#DejaVuSans-50\"/>\n     </g>\n    </g>\n   </g>\n   <g id=\"PathCollection_1\">\n    <defs>\n     <path d=\"M 0 3 \nC 0.795609 3 1.55874 2.683901 2.12132 2.12132 \nC 2.683901 1.55874 3 0.795609 3 0 \nC 3 -0.795609 2.683901 -1.55874 2.12132 -2.12132 \nC 1.55874 -2.683901 0.795609 -3 0 -3 \nC -0.795609 -3 -1.55874 -2.683901 -2.12132 -2.12132 \nC -2.683901 -1.55874 -3 -0.795609 -3 0 \nC -3 0.795609 -2.683901 1.55874 -2.12132 2.12132 \nC -1.55874 2.683901 -0.795609 3 0 3 \nz\n\" id=\"m3f20e1e04e\" style=\"stroke:#333333;\"/>\n    </defs>\n    <g clip-path=\"url(#pbe26521939)\">\n     <use style=\"fill:#4c72b0;stroke:#333333;\" x=\"265.843348\" xlink:href=\"#m3f20e1e04e\" y=\"63.780462\"/>\n     <use style=\"fill:#4c72b0;stroke:#333333;\" x=\"115.777274\" xlink:href=\"#m3f20e1e04e\" y=\"204.409578\"/>\n     <use style=\"fill:#4c72b0;stroke:#333333;\" x=\"108.189714\" xlink:href=\"#m3f20e1e04e\" y=\"205.043015\"/>\n     <use style=\"fill:#4c72b0;stroke:#333333;\" x=\"77.84736\" xlink:href=\"#m3f20e1e04e\" y=\"189.560429\"/>\n     <use style=\"fill:#4c72b0;stroke:#333333;\" x=\"249.749447\" xlink:href=\"#m3f20e1e04e\" y=\"58.566133\"/>\n     <use style=\"fill:#4c72b0;stroke:#333333;\" x=\"238.880615\" xlink:href=\"#m3f20e1e04e\" y=\"51.440521\"/>\n     <use style=\"fill:#4c72b0;stroke:#333333;\" x=\"100.84285\" xlink:href=\"#m3f20e1e04e\" y=\"204.550687\"/>\n     <use style=\"fill:#4c72b0;stroke:#333333;\" x=\"244.40288\" xlink:href=\"#m3f20e1e04e\" y=\"53.572047\"/>\n     <use style=\"fill:#4c72b0;stroke:#333333;\" x=\"110.407015\" xlink:href=\"#m3f20e1e04e\" y=\"200.309835\"/>\n     <use style=\"fill:#4c72b0;stroke:#333333;\" x=\"262.419004\" xlink:href=\"#m3f20e1e04e\" y=\"32.201761\"/>\n     <use style=\"fill:#4c72b0;stroke:#333333;\" x=\"244.921908\" xlink:href=\"#m3f20e1e04e\" y=\"62.589723\"/>\n     <use style=\"fill:#4c72b0;stroke:#333333;\" x=\"239.033967\" xlink:href=\"#m3f20e1e04e\" y=\"57.754453\"/>\n     <use style=\"fill:#4c72b0;stroke:#333333;\" x=\"101.128083\" xlink:href=\"#m3f20e1e04e\" y=\"212.626168\"/>\n     <use style=\"fill:#4c72b0;stroke:#333333;\" x=\"96.095741\" xlink:href=\"#m3f20e1e04e\" y=\"185.037671\"/>\n     <use style=\"fill:#4c72b0;stroke:#333333;\" x=\"258.131327\" xlink:href=\"#m3f20e1e04e\" y=\"90.813692\"/>\n     <use style=\"fill:#4c72b0;stroke:#333333;\" x=\"261.679385\" xlink:href=\"#m3f20e1e04e\" y=\"83.753102\"/>\n     <use style=\"fill:#4c72b0;stroke:#333333;\" x=\"232.969243\" xlink:href=\"#m3f20e1e04e\" y=\"59.138235\"/>\n     <use style=\"fill:#4c72b0;stroke:#333333;\" x=\"88.886799\" xlink:href=\"#m3f20e1e04e\" y=\"209.202243\"/>\n     <use style=\"fill:#4c72b0;stroke:#333333;\" x=\"260.837035\" xlink:href=\"#m3f20e1e04e\" y=\"32.62492\"/>\n     <use style=\"fill:#4c72b0;stroke:#333333;\" x=\"252.014817\" xlink:href=\"#m3f20e1e04e\" y=\"59.955798\"/>\n     <use style=\"fill:#4c72b0;stroke:#333333;\" x=\"121.285893\" xlink:href=\"#m3f20e1e04e\" y=\"175.83743\"/>\n     <use style=\"fill:#4c72b0;stroke:#333333;\" x=\"235.52169\" xlink:href=\"#m3f20e1e04e\" y=\"32.336249\"/>\n     <use style=\"fill:#4c72b0;stroke:#333333;\" x=\"106.644921\" xlink:href=\"#m3f20e1e04e\" y=\"194.777215\"/>\n     <use style=\"fill:#4c72b0;stroke:#333333;\" x=\"234.671081\" xlink:href=\"#m3f20e1e04e\" y=\"51.50491\"/>\n     <use style=\"fill:#4c72b0;stroke:#333333;\" x=\"93.74526\" xlink:href=\"#m3f20e1e04e\" y=\"179.492748\"/>\n     <use style=\"fill:#4c72b0;stroke:#333333;\" x=\"257.590969\" xlink:href=\"#m3f20e1e04e\" y=\"48.77409\"/>\n     <use style=\"fill:#4c72b0;stroke:#333333;\" x=\"253.260186\" xlink:href=\"#m3f20e1e04e\" y=\"61.512745\"/>\n     <use style=\"fill:#4c72b0;stroke:#333333;\" x=\"247.043425\" xlink:href=\"#m3f20e1e04e\" y=\"43.69401\"/>\n     <use style=\"fill:#4c72b0;stroke:#333333;\" x=\"99.204887\" xlink:href=\"#m3f20e1e04e\" y=\"184.373252\"/>\n     <use style=\"fill:#4c72b0;stroke:#333333;\" x=\"111.370021\" xlink:href=\"#m3f20e1e04e\" y=\"209.709719\"/>\n     <use style=\"fill:#4c72b0;stroke:#333333;\" x=\"94.224345\" xlink:href=\"#m3f20e1e04e\" y=\"169.625602\"/>\n     <use style=\"fill:#4c72b0;stroke:#333333;\" x=\"104.609392\" xlink:href=\"#m3f20e1e04e\" y=\"201.318829\"/>\n     <use style=\"fill:#4c72b0;stroke:#333333;\" x=\"119.066364\" xlink:href=\"#m3f20e1e04e\" y=\"200.867622\"/>\n     <use style=\"fill:#4c72b0;stroke:#333333;\" x=\"100.250642\" xlink:href=\"#m3f20e1e04e\" y=\"195.701852\"/>\n     <use style=\"fill:#4c72b0;stroke:#333333;\" x=\"119.826314\" xlink:href=\"#m3f20e1e04e\" y=\"212.211753\"/>\n     <use style=\"fill:#4c72b0;stroke:#333333;\" x=\"220.787431\" xlink:href=\"#m3f20e1e04e\" y=\"39.620323\"/>\n     <use style=\"fill:#4c72b0;stroke:#333333;\" x=\"260.272851\" xlink:href=\"#m3f20e1e04e\" y=\"64.604829\"/>\n     <use style=\"fill:#4c72b0;stroke:#333333;\" x=\"245.066505\" xlink:href=\"#m3f20e1e04e\" y=\"63.759786\"/>\n     <use style=\"fill:#4c72b0;stroke:#333333;\" x=\"100.198665\" xlink:href=\"#m3f20e1e04e\" y=\"205.410605\"/>\n     <use style=\"fill:#4c72b0;stroke:#333333;\" x=\"229.560921\" xlink:href=\"#m3f20e1e04e\" y=\"89.092646\"/>\n     <use style=\"fill:#4c72b0;stroke:#333333;\" x=\"252.931424\" xlink:href=\"#m3f20e1e04e\" y=\"56.781365\"/>\n     <use style=\"fill:#4c72b0;stroke:#333333;\" x=\"104.772263\" xlink:href=\"#m3f20e1e04e\" y=\"212.127081\"/>\n     <use style=\"fill:#4c72b0;stroke:#333333;\" x=\"117.472818\" xlink:href=\"#m3f20e1e04e\" y=\"217.677792\"/>\n     <use style=\"fill:#4c72b0;stroke:#333333;\" x=\"126.142513\" xlink:href=\"#m3f20e1e04e\" y=\"177.02797\"/>\n     <use style=\"fill:#4c72b0;stroke:#333333;\" x=\"236.295181\" xlink:href=\"#m3f20e1e04e\" y=\"71.868079\"/>\n     <use style=\"fill:#4c72b0;stroke:#333333;\" x=\"223.971929\" xlink:href=\"#m3f20e1e04e\" y=\"44.358713\"/>\n     <use style=\"fill:#4c72b0;stroke:#333333;\" x=\"97.284907\" xlink:href=\"#m3f20e1e04e\" y=\"205.813556\"/>\n     <use style=\"fill:#4c72b0;stroke:#333333;\" x=\"237.50152\" xlink:href=\"#m3f20e1e04e\" y=\"68.485687\"/>\n     <use style=\"fill:#4c72b0;stroke:#333333;\" x=\"105.506427\" xlink:href=\"#m3f20e1e04e\" y=\"201.033344\"/>\n     <use style=\"fill:#4c72b0;stroke:#333333;\" x=\"249.16046\" xlink:href=\"#m3f20e1e04e\" y=\"33.609264\"/>\n     <use style=\"fill:#4c72b0;stroke:#333333;\" x=\"102.030951\" xlink:href=\"#m3f20e1e04e\" y=\"188.760034\"/>\n     <use style=\"fill:#4c72b0;stroke:#333333;\" x=\"234.523839\" xlink:href=\"#m3f20e1e04e\" y=\"76.575953\"/>\n     <use style=\"fill:#4c72b0;stroke:#333333;\" x=\"246.0265\" xlink:href=\"#m3f20e1e04e\" y=\"47.436505\"/>\n     <use style=\"fill:#4c72b0;stroke:#333333;\" x=\"77.849441\" xlink:href=\"#m3f20e1e04e\" y=\"190.609003\"/>\n     <use style=\"fill:#4c72b0;stroke:#333333;\" x=\"223.848588\" xlink:href=\"#m3f20e1e04e\" y=\"47.197067\"/>\n     <use style=\"fill:#4c72b0;stroke:#333333;\" x=\"254.206341\" xlink:href=\"#m3f20e1e04e\" y=\"65.6149\"/>\n     <use style=\"fill:#4c72b0;stroke:#333333;\" x=\"89.806419\" xlink:href=\"#m3f20e1e04e\" y=\"196.823089\"/>\n     <use style=\"fill:#4c72b0;stroke:#333333;\" x=\"101.474114\" xlink:href=\"#m3f20e1e04e\" y=\"229.874489\"/>\n     <use style=\"fill:#4c72b0;stroke:#333333;\" x=\"100.92905\" xlink:href=\"#m3f20e1e04e\" y=\"199.872245\"/>\n     <use style=\"fill:#4c72b0;stroke:#333333;\" x=\"82.790407\" xlink:href=\"#m3f20e1e04e\" y=\"200.007537\"/>\n     <use style=\"fill:#4c72b0;stroke:#333333;\" x=\"268.426038\" xlink:href=\"#m3f20e1e04e\" y=\"65.752612\"/>\n     <use style=\"fill:#4c72b0;stroke:#333333;\" x=\"234.515365\" xlink:href=\"#m3f20e1e04e\" y=\"73.759575\"/>\n     <use style=\"fill:#4c72b0;stroke:#333333;\" x=\"260.429931\" xlink:href=\"#m3f20e1e04e\" y=\"39.679857\"/>\n     <use style=\"fill:#4c72b0;stroke:#333333;\" x=\"83.354631\" xlink:href=\"#m3f20e1e04e\" y=\"185.321057\"/>\n     <use style=\"fill:#4c72b0;stroke:#333333;\" x=\"245.761431\" xlink:href=\"#m3f20e1e04e\" y=\"82.429587\"/>\n     <use style=\"fill:#4c72b0;stroke:#333333;\" x=\"256.086995\" xlink:href=\"#m3f20e1e04e\" y=\"89.661589\"/>\n     <use style=\"fill:#4c72b0;stroke:#333333;\" x=\"125.251842\" xlink:href=\"#m3f20e1e04e\" y=\"218.303568\"/>\n     <use style=\"fill:#4c72b0;stroke:#333333;\" x=\"115.574613\" xlink:href=\"#m3f20e1e04e\" y=\"207.070547\"/>\n     <use style=\"fill:#4c72b0;stroke:#333333;\" x=\"101.824266\" xlink:href=\"#m3f20e1e04e\" y=\"190.023846\"/>\n     <use style=\"fill:#4c72b0;stroke:#333333;\" x=\"102.668211\" xlink:href=\"#m3f20e1e04e\" y=\"187.711556\"/>\n     <use style=\"fill:#4c72b0;stroke:#333333;\" x=\"246.373252\" xlink:href=\"#m3f20e1e04e\" y=\"53.869424\"/>\n     <use style=\"fill:#4c72b0;stroke:#333333;\" x=\"233.834924\" xlink:href=\"#m3f20e1e04e\" y=\"88.154106\"/>\n     <use style=\"fill:#4c72b0;stroke:#333333;\" x=\"101.780765\" xlink:href=\"#m3f20e1e04e\" y=\"195.521558\"/>\n     <use style=\"fill:#4c72b0;stroke:#333333;\" x=\"113.855176\" xlink:href=\"#m3f20e1e04e\" y=\"186.850471\"/>\n     <use style=\"fill:#4c72b0;stroke:#333333;\" x=\"115.431864\" xlink:href=\"#m3f20e1e04e\" y=\"194.117803\"/>\n     <use style=\"fill:#4c72b0;stroke:#333333;\" x=\"246.091317\" xlink:href=\"#m3f20e1e04e\" y=\"37.590473\"/>\n     <use style=\"fill:#4c72b0;stroke:#333333;\" x=\"245.18129\" xlink:href=\"#m3f20e1e04e\" y=\"35.754283\"/>\n     <use style=\"fill:#4c72b0;stroke:#333333;\" x=\"103.858405\" xlink:href=\"#m3f20e1e04e\" y=\"208.108344\"/>\n     <use style=\"fill:#4c72b0;stroke:#333333;\" x=\"256.895945\" xlink:href=\"#m3f20e1e04e\" y=\"37.701594\"/>\n     <use style=\"fill:#4c72b0;stroke:#333333;\" x=\"239.223307\" xlink:href=\"#m3f20e1e04e\" y=\"72.374698\"/>\n     <use style=\"fill:#4c72b0;stroke:#333333;\" x=\"255.063622\" xlink:href=\"#m3f20e1e04e\" y=\"33.573869\"/>\n     <use style=\"fill:#4c72b0;stroke:#333333;\" x=\"95.292954\" xlink:href=\"#m3f20e1e04e\" y=\"192.95304\"/>\n     <use style=\"fill:#4c72b0;stroke:#333333;\" x=\"241.134476\" xlink:href=\"#m3f20e1e04e\" y=\"47.995435\"/>\n     <use style=\"fill:#4c72b0;stroke:#333333;\" x=\"105.39991\" xlink:href=\"#m3f20e1e04e\" y=\"212.515425\"/>\n     <use style=\"fill:#4c72b0;stroke:#333333;\" x=\"114.664014\" xlink:href=\"#m3f20e1e04e\" y=\"204.310706\"/>\n     <use style=\"fill:#4c72b0;stroke:#333333;\" x=\"94.590702\" xlink:href=\"#m3f20e1e04e\" y=\"191.216589\"/>\n     <use style=\"fill:#4c72b0;stroke:#333333;\" x=\"219.680904\" xlink:href=\"#m3f20e1e04e\" y=\"53.841351\"/>\n     <use style=\"fill:#4c72b0;stroke:#333333;\" x=\"232.032075\" xlink:href=\"#m3f20e1e04e\" y=\"47.841136\"/>\n     <use style=\"fill:#4c72b0;stroke:#333333;\" x=\"209.50665\" xlink:href=\"#m3f20e1e04e\" y=\"44.693113\"/>\n     <use style=\"fill:#4c72b0;stroke:#333333;\" x=\"93.845438\" xlink:href=\"#m3f20e1e04e\" y=\"191.534849\"/>\n     <use style=\"fill:#4c72b0;stroke:#333333;\" x=\"123.551329\" xlink:href=\"#m3f20e1e04e\" y=\"206.975146\"/>\n     <use style=\"fill:#4c72b0;stroke:#333333;\" x=\"98.640687\" xlink:href=\"#m3f20e1e04e\" y=\"209.817871\"/>\n     <use style=\"fill:#4c72b0;stroke:#333333;\" x=\"232.756002\" xlink:href=\"#m3f20e1e04e\" y=\"90.705434\"/>\n     <use style=\"fill:#4c72b0;stroke:#333333;\" x=\"108.951144\" xlink:href=\"#m3f20e1e04e\" y=\"195.303274\"/>\n     <use style=\"fill:#4c72b0;stroke:#333333;\" x=\"101.769149\" xlink:href=\"#m3f20e1e04e\" y=\"189.148117\"/>\n     <use style=\"fill:#4c72b0;stroke:#333333;\" x=\"96.379894\" xlink:href=\"#m3f20e1e04e\" y=\"200.223394\"/>\n     <use style=\"fill:#4c72b0;stroke:#333333;\" x=\"106.03107\" xlink:href=\"#m3f20e1e04e\" y=\"208.206126\"/>\n     <use style=\"fill:#4c72b0;stroke:#333333;\" x=\"218.441851\" xlink:href=\"#m3f20e1e04e\" y=\"57.867977\"/>\n     <use style=\"fill:#4c72b0;stroke:#333333;\" x=\"227.615319\" xlink:href=\"#m3f20e1e04e\" y=\"41.469595\"/>\n     <use style=\"fill:#4c72b0;stroke:#333333;\" x=\"79.001684\" xlink:href=\"#m3f20e1e04e\" y=\"214.445482\"/>\n     <use style=\"fill:#4c72b0;stroke:#333333;\" x=\"242.780269\" xlink:href=\"#m3f20e1e04e\" y=\"80.464924\"/>\n     <use style=\"fill:#4c72b0;stroke:#333333;\" x=\"117.19005\" xlink:href=\"#m3f20e1e04e\" y=\"204.539596\"/>\n     <use style=\"fill:#4c72b0;stroke:#333333;\" x=\"103.486897\" xlink:href=\"#m3f20e1e04e\" y=\"196.149753\"/>\n     <use style=\"fill:#4c72b0;stroke:#333333;\" x=\"221.104825\" xlink:href=\"#m3f20e1e04e\" y=\"55.806961\"/>\n     <use style=\"fill:#4c72b0;stroke:#333333;\" x=\"117.38847\" xlink:href=\"#m3f20e1e04e\" y=\"186.776846\"/>\n    </g>\n   </g>\n   <g id=\"PathCollection_2\">\n    <defs>\n     <path d=\"M 0 3 \nC 0.795609 3 1.55874 2.683901 2.12132 2.12132 \nC 2.683901 1.55874 3 0.795609 3 0 \nC 3 -0.795609 2.683901 -1.55874 2.12132 -2.12132 \nC 1.55874 -2.683901 0.795609 -3 0 -3 \nC -0.795609 -3 -1.55874 -2.683901 -2.12132 -2.12132 \nC -2.683901 -1.55874 -3 -0.795609 -3 0 \nC -3 0.795609 -2.683901 1.55874 -2.12132 2.12132 \nC -1.55874 2.683901 -0.795609 3 0 3 \nz\n\" id=\"m57bc58b30e\" style=\"stroke:#333333;\"/>\n    </defs>\n    <g clip-path=\"url(#pbe26521939)\">\n     <use style=\"fill:#dd8452;stroke:#333333;\" x=\"226.725944\" xlink:href=\"#m57bc58b30e\" y=\"211.350014\"/>\n     <use style=\"fill:#dd8452;stroke:#333333;\" x=\"137.462566\" xlink:href=\"#m57bc58b30e\" y=\"59.599027\"/>\n     <use style=\"fill:#dd8452;stroke:#333333;\" x=\"254.399964\" xlink:href=\"#m57bc58b30e\" y=\"217.196966\"/>\n     <use style=\"fill:#dd8452;stroke:#333333;\" x=\"221.661073\" xlink:href=\"#m57bc58b30e\" y=\"185.557909\"/>\n     <use style=\"fill:#dd8452;stroke:#333333;\" x=\"236.770813\" xlink:href=\"#m57bc58b30e\" y=\"173.017888\"/>\n     <use style=\"fill:#dd8452;stroke:#333333;\" x=\"72.595048\" xlink:href=\"#m57bc58b30e\" y=\"44.566804\"/>\n     <use style=\"fill:#dd8452;stroke:#333333;\" x=\"123.449481\" xlink:href=\"#m57bc58b30e\" y=\"45.533014\"/>\n     <use style=\"fill:#dd8452;stroke:#333333;\" x=\"103.341406\" xlink:href=\"#m57bc58b30e\" y=\"76.495825\"/>\n     <use style=\"fill:#dd8452;stroke:#333333;\" x=\"103.652293\" xlink:href=\"#m57bc58b30e\" y=\"42.091466\"/>\n     <use style=\"fill:#dd8452;stroke:#333333;\" x=\"82.572453\" xlink:href=\"#m57bc58b30e\" y=\"39.030573\"/>\n     <use style=\"fill:#dd8452;stroke:#333333;\" x=\"240.785963\" xlink:href=\"#m57bc58b30e\" y=\"201.757218\"/>\n     <use style=\"fill:#dd8452;stroke:#333333;\" x=\"223.146677\" xlink:href=\"#m57bc58b30e\" y=\"180.766731\"/>\n     <use style=\"fill:#dd8452;stroke:#333333;\" x=\"232.809459\" xlink:href=\"#m57bc58b30e\" y=\"182.832732\"/>\n     <use style=\"fill:#dd8452;stroke:#333333;\" x=\"114.75275\" xlink:href=\"#m57bc58b30e\" y=\"59.25904\"/>\n     <use style=\"fill:#dd8452;stroke:#333333;\" x=\"219.13022\" xlink:href=\"#m57bc58b30e\" y=\"192.147409\"/>\n     <use style=\"fill:#dd8452;stroke:#333333;\" x=\"263.953319\" xlink:href=\"#m57bc58b30e\" y=\"200.542537\"/>\n     <use style=\"fill:#dd8452;stroke:#333333;\" x=\"255.392004\" xlink:href=\"#m57bc58b30e\" y=\"198.107913\"/>\n     <use style=\"fill:#dd8452;stroke:#333333;\" x=\"230.139566\" xlink:href=\"#m57bc58b30e\" y=\"202.11576\"/>\n     <use style=\"fill:#dd8452;stroke:#333333;\" x=\"261.488557\" xlink:href=\"#m57bc58b30e\" y=\"176.456154\"/>\n     <use style=\"fill:#dd8452;stroke:#333333;\" x=\"90.064639\" xlink:href=\"#m57bc58b30e\" y=\"70.175377\"/>\n     <use style=\"fill:#dd8452;stroke:#333333;\" x=\"258.588002\" xlink:href=\"#m57bc58b30e\" y=\"179.390064\"/>\n     <use style=\"fill:#dd8452;stroke:#333333;\" x=\"117.683193\" xlink:href=\"#m57bc58b30e\" y=\"55.123203\"/>\n     <use style=\"fill:#dd8452;stroke:#333333;\" x=\"238.990257\" xlink:href=\"#m57bc58b30e\" y=\"178.669064\"/>\n     <use style=\"fill:#dd8452;stroke:#333333;\" x=\"75.361809\" xlink:href=\"#m57bc58b30e\" y=\"56.973626\"/>\n     <use style=\"fill:#dd8452;stroke:#333333;\" x=\"102.090572\" xlink:href=\"#m57bc58b30e\" y=\"66.120244\"/>\n     <use style=\"fill:#dd8452;stroke:#333333;\" x=\"230.25688\" xlink:href=\"#m57bc58b30e\" y=\"208.672634\"/>\n     <use style=\"fill:#dd8452;stroke:#333333;\" x=\"221.809167\" xlink:href=\"#m57bc58b30e\" y=\"183.133722\"/>\n     <use style=\"fill:#dd8452;stroke:#333333;\" x=\"107.069524\" xlink:href=\"#m57bc58b30e\" y=\"60.661631\"/>\n     <use style=\"fill:#dd8452;stroke:#333333;\" x=\"250.99108\" xlink:href=\"#m57bc58b30e\" y=\"183.85959\"/>\n     <use style=\"fill:#dd8452;stroke:#333333;\" x=\"107.646006\" xlink:href=\"#m57bc58b30e\" y=\"68.534007\"/>\n     <use style=\"fill:#dd8452;stroke:#333333;\" x=\"104.549879\" xlink:href=\"#m57bc58b30e\" y=\"71.284393\"/>\n     <use style=\"fill:#dd8452;stroke:#333333;\" x=\"268.105097\" xlink:href=\"#m57bc58b30e\" y=\"209.357586\"/>\n     <use style=\"fill:#dd8452;stroke:#333333;\" x=\"238.400187\" xlink:href=\"#m57bc58b30e\" y=\"180.074569\"/>\n     <use style=\"fill:#dd8452;stroke:#333333;\" x=\"91.295948\" xlink:href=\"#m57bc58b30e\" y=\"55.826098\"/>\n     <use style=\"fill:#dd8452;stroke:#333333;\" x=\"121.568333\" xlink:href=\"#m57bc58b30e\" y=\"57.881371\"/>\n     <use style=\"fill:#dd8452;stroke:#333333;\" x=\"125.003489\" xlink:href=\"#m57bc58b30e\" y=\"40.282525\"/>\n     <use style=\"fill:#dd8452;stroke:#333333;\" x=\"251.195219\" xlink:href=\"#m57bc58b30e\" y=\"206.328325\"/>\n     <use style=\"fill:#dd8452;stroke:#333333;\" x=\"91.801361\" xlink:href=\"#m57bc58b30e\" y=\"59.985039\"/>\n     <use style=\"fill:#dd8452;stroke:#333333;\" x=\"235.974935\" xlink:href=\"#m57bc58b30e\" y=\"185.254639\"/>\n     <use style=\"fill:#dd8452;stroke:#333333;\" x=\"106.729752\" xlink:href=\"#m57bc58b30e\" y=\"73.50443\"/>\n     <use style=\"fill:#dd8452;stroke:#333333;\" x=\"114.638428\" xlink:href=\"#m57bc58b30e\" y=\"50.128195\"/>\n     <use style=\"fill:#dd8452;stroke:#333333;\" x=\"113.545439\" xlink:href=\"#m57bc58b30e\" y=\"53.57626\"/>\n     <use style=\"fill:#dd8452;stroke:#333333;\" x=\"227.164001\" xlink:href=\"#m57bc58b30e\" y=\"186.154142\"/>\n     <use style=\"fill:#dd8452;stroke:#333333;\" x=\"91.795046\" xlink:href=\"#m57bc58b30e\" y=\"77.508109\"/>\n     <use style=\"fill:#dd8452;stroke:#333333;\" x=\"112.355405\" xlink:href=\"#m57bc58b30e\" y=\"48.161599\"/>\n     <use style=\"fill:#dd8452;stroke:#333333;\" x=\"218.881785\" xlink:href=\"#m57bc58b30e\" y=\"182.204423\"/>\n     <use style=\"fill:#dd8452;stroke:#333333;\" x=\"245.64443\" xlink:href=\"#m57bc58b30e\" y=\"210.592034\"/>\n     <use style=\"fill:#dd8452;stroke:#333333;\" x=\"109.784851\" xlink:href=\"#m57bc58b30e\" y=\"48.671279\"/>\n     <use style=\"fill:#dd8452;stroke:#333333;\" x=\"116.091024\" xlink:href=\"#m57bc58b30e\" y=\"67.791241\"/>\n     <use style=\"fill:#dd8452;stroke:#333333;\" x=\"225.780417\" xlink:href=\"#m57bc58b30e\" y=\"195.110735\"/>\n     <use style=\"fill:#dd8452;stroke:#333333;\" x=\"217.276378\" xlink:href=\"#m57bc58b30e\" y=\"197.807546\"/>\n     <use style=\"fill:#dd8452;stroke:#333333;\" x=\"113.27314\" xlink:href=\"#m57bc58b30e\" y=\"62.370039\"/>\n     <use style=\"fill:#dd8452;stroke:#333333;\" x=\"69.170298\" xlink:href=\"#m57bc58b30e\" y=\"69.539331\"/>\n     <use style=\"fill:#dd8452;stroke:#333333;\" x=\"98.698359\" xlink:href=\"#m57bc58b30e\" y=\"77.469177\"/>\n     <use style=\"fill:#dd8452;stroke:#333333;\" x=\"116.347165\" xlink:href=\"#m57bc58b30e\" y=\"52.116365\"/>\n     <use style=\"fill:#dd8452;stroke:#333333;\" x=\"94.391267\" xlink:href=\"#m57bc58b30e\" y=\"63.223243\"/>\n     <use style=\"fill:#dd8452;stroke:#333333;\" x=\"100.898505\" xlink:href=\"#m57bc58b30e\" y=\"55.768785\"/>\n     <use style=\"fill:#dd8452;stroke:#333333;\" x=\"116.977273\" xlink:href=\"#m57bc58b30e\" y=\"68.261083\"/>\n     <use style=\"fill:#dd8452;stroke:#333333;\" x=\"264.182211\" xlink:href=\"#m57bc58b30e\" y=\"202.317721\"/>\n     <use style=\"fill:#dd8452;stroke:#333333;\" x=\"86.626022\" xlink:href=\"#m57bc58b30e\" y=\"39.847979\"/>\n     <use style=\"fill:#dd8452;stroke:#333333;\" x=\"264.912405\" xlink:href=\"#m57bc58b30e\" y=\"185.012766\"/>\n     <use style=\"fill:#dd8452;stroke:#333333;\" x=\"251.653068\" xlink:href=\"#m57bc58b30e\" y=\"171.865302\"/>\n     <use style=\"fill:#dd8452;stroke:#333333;\" x=\"221.338296\" xlink:href=\"#m57bc58b30e\" y=\"211.299351\"/>\n     <use style=\"fill:#dd8452;stroke:#333333;\" x=\"225.251741\" xlink:href=\"#m57bc58b30e\" y=\"227.253664\"/>\n     <use style=\"fill:#dd8452;stroke:#333333;\" x=\"105.110938\" xlink:href=\"#m57bc58b30e\" y=\"41.347367\"/>\n     <use style=\"fill:#dd8452;stroke:#333333;\" x=\"227.955126\" xlink:href=\"#m57bc58b30e\" y=\"178.959826\"/>\n     <use style=\"fill:#dd8452;stroke:#333333;\" x=\"214.647143\" xlink:href=\"#m57bc58b30e\" y=\"165.02484\"/>\n     <use style=\"fill:#dd8452;stroke:#333333;\" x=\"91.350295\" xlink:href=\"#m57bc58b30e\" y=\"47.120304\"/>\n     <use style=\"fill:#dd8452;stroke:#333333;\" x=\"115.184403\" xlink:href=\"#m57bc58b30e\" y=\"59.847104\"/>\n     <use style=\"fill:#dd8452;stroke:#333333;\" x=\"253.888856\" xlink:href=\"#m57bc58b30e\" y=\"184.293941\"/>\n     <use style=\"fill:#dd8452;stroke:#333333;\" x=\"98.888029\" xlink:href=\"#m57bc58b30e\" y=\"51.399993\"/>\n     <use style=\"fill:#dd8452;stroke:#333333;\" x=\"110.839939\" xlink:href=\"#m57bc58b30e\" y=\"61.578541\"/>\n     <use style=\"fill:#dd8452;stroke:#333333;\" x=\"109.239359\" xlink:href=\"#m57bc58b30e\" y=\"64.816787\"/>\n     <use style=\"fill:#dd8452;stroke:#333333;\" x=\"237.390927\" xlink:href=\"#m57bc58b30e\" y=\"177.171327\"/>\n     <use style=\"fill:#dd8452;stroke:#333333;\" x=\"245.348705\" xlink:href=\"#m57bc58b30e\" y=\"167.950176\"/>\n     <use style=\"fill:#dd8452;stroke:#333333;\" x=\"254.203911\" xlink:href=\"#m57bc58b30e\" y=\"185.179964\"/>\n     <use style=\"fill:#dd8452;stroke:#333333;\" x=\"141.672506\" xlink:href=\"#m57bc58b30e\" y=\"59.304711\"/>\n     <use style=\"fill:#dd8452;stroke:#333333;\" x=\"220.590559\" xlink:href=\"#m57bc58b30e\" y=\"213.578161\"/>\n     <use style=\"fill:#dd8452;stroke:#333333;\" x=\"272.079389\" xlink:href=\"#m57bc58b30e\" y=\"212.626448\"/>\n     <use style=\"fill:#dd8452;stroke:#333333;\" x=\"233.703348\" xlink:href=\"#m57bc58b30e\" y=\"209.593202\"/>\n     <use style=\"fill:#dd8452;stroke:#333333;\" x=\"95.318892\" xlink:href=\"#m57bc58b30e\" y=\"69.802283\"/>\n     <use style=\"fill:#dd8452;stroke:#333333;\" x=\"93.064547\" xlink:href=\"#m57bc58b30e\" y=\"59.30147\"/>\n     <use style=\"fill:#dd8452;stroke:#333333;\" x=\"256.572474\" xlink:href=\"#m57bc58b30e\" y=\"212.467168\"/>\n     <use style=\"fill:#dd8452;stroke:#333333;\" x=\"93.50362\" xlink:href=\"#m57bc58b30e\" y=\"66.734504\"/>\n     <use style=\"fill:#dd8452;stroke:#333333;\" x=\"79.412994\" xlink:href=\"#m57bc58b30e\" y=\"61.78785\"/>\n     <use style=\"fill:#dd8452;stroke:#333333;\" x=\"123.191141\" xlink:href=\"#m57bc58b30e\" y=\"48.616483\"/>\n     <use style=\"fill:#dd8452;stroke:#333333;\" x=\"96.488538\" xlink:href=\"#m57bc58b30e\" y=\"51.591563\"/>\n     <use style=\"fill:#dd8452;stroke:#333333;\" x=\"264.233882\" xlink:href=\"#m57bc58b30e\" y=\"209.982902\"/>\n     <use style=\"fill:#dd8452;stroke:#333333;\" x=\"216.198134\" xlink:href=\"#m57bc58b30e\" y=\"191.955712\"/>\n     <use style=\"fill:#dd8452;stroke:#333333;\" x=\"105.002662\" xlink:href=\"#m57bc58b30e\" y=\"44.566278\"/>\n     <use style=\"fill:#dd8452;stroke:#333333;\" x=\"261.482984\" xlink:href=\"#m57bc58b30e\" y=\"207.56031\"/>\n     <use style=\"fill:#dd8452;stroke:#333333;\" x=\"90.809902\" xlink:href=\"#m57bc58b30e\" y=\"39.922817\"/>\n     <use style=\"fill:#dd8452;stroke:#333333;\" x=\"237.61833\" xlink:href=\"#m57bc58b30e\" y=\"198.28613\"/>\n     <use style=\"fill:#dd8452;stroke:#333333;\" x=\"224.462873\" xlink:href=\"#m57bc58b30e\" y=\"209.933145\"/>\n     <use style=\"fill:#dd8452;stroke:#333333;\" x=\"257.347825\" xlink:href=\"#m57bc58b30e\" y=\"195.071812\"/>\n    </g>\n   </g>\n   <g id=\"patch_3\">\n    <path d=\"M 59.024844 239.758125 \nL 59.024844 22.318125 \n\" style=\"fill:none;stroke:#ffffff;stroke-linecap:square;stroke-linejoin:miter;stroke-width:1.25;\"/>\n   </g>\n   <g id=\"patch_4\">\n    <path d=\"M 282.224844 239.758125 \nL 282.224844 22.318125 \n\" style=\"fill:none;stroke:#ffffff;stroke-linecap:square;stroke-linejoin:miter;stroke-width:1.25;\"/>\n   </g>\n   <g id=\"patch_5\">\n    <path d=\"M 59.024844 239.758125 \nL 282.224844 239.758125 \n\" style=\"fill:none;stroke:#ffffff;stroke-linecap:square;stroke-linejoin:miter;stroke-width:1.25;\"/>\n   </g>\n   <g id=\"patch_6\">\n    <path d=\"M 59.024844 22.318125 \nL 282.224844 22.318125 \n\" style=\"fill:none;stroke:#ffffff;stroke-linecap:square;stroke-linejoin:miter;stroke-width:1.25;\"/>\n   </g>\n   <g id=\"text_14\">\n    <!-- Dataset samples -->\n    <defs>\n     <path d=\"M 19.671875 64.796875 \nL 19.671875 8.109375 \nL 31.59375 8.109375 \nQ 46.6875 8.109375 53.6875 14.9375 \nQ 60.6875 21.78125 60.6875 36.53125 \nQ 60.6875 51.171875 53.6875 57.984375 \nQ 46.6875 64.796875 31.59375 64.796875 \nz\nM 9.8125 72.90625 \nL 30.078125 72.90625 \nQ 51.265625 72.90625 61.171875 64.09375 \nQ 71.09375 55.28125 71.09375 36.53125 \nQ 71.09375 17.671875 61.125 8.828125 \nQ 51.171875 0 30.078125 0 \nL 9.8125 0 \nz\n\" id=\"DejaVuSans-68\"/>\n     <path d=\"M 34.28125 27.484375 \nQ 23.390625 27.484375 19.1875 25 \nQ 14.984375 22.515625 14.984375 16.5 \nQ 14.984375 11.71875 18.140625 8.90625 \nQ 21.296875 6.109375 26.703125 6.109375 \nQ 34.1875 6.109375 38.703125 11.40625 \nQ 43.21875 16.703125 43.21875 25.484375 \nL 43.21875 27.484375 \nz\nM 52.203125 31.203125 \nL 52.203125 0 \nL 43.21875 0 \nL 43.21875 8.296875 \nQ 40.140625 3.328125 35.546875 0.953125 \nQ 30.953125 -1.421875 24.3125 -1.421875 \nQ 15.921875 -1.421875 10.953125 3.296875 \nQ 6 8.015625 6 15.921875 \nQ 6 25.140625 12.171875 29.828125 \nQ 18.359375 34.515625 30.609375 34.515625 \nL 43.21875 34.515625 \nL 43.21875 35.40625 \nQ 43.21875 41.609375 39.140625 45 \nQ 35.0625 48.390625 27.6875 48.390625 \nQ 23 48.390625 18.546875 47.265625 \nQ 14.109375 46.140625 10.015625 43.890625 \nL 10.015625 52.203125 \nQ 14.9375 54.109375 19.578125 55.046875 \nQ 24.21875 56 28.609375 56 \nQ 40.484375 56 46.34375 49.84375 \nQ 52.203125 43.703125 52.203125 31.203125 \nz\n\" id=\"DejaVuSans-97\"/>\n     <path d=\"M 18.3125 70.21875 \nL 18.3125 54.6875 \nL 36.8125 54.6875 \nL 36.8125 47.703125 \nL 18.3125 47.703125 \nL 18.3125 18.015625 \nQ 18.3125 11.328125 20.140625 9.421875 \nQ 21.96875 7.515625 27.59375 7.515625 \nL 36.8125 7.515625 \nL 36.8125 0 \nL 27.59375 0 \nQ 17.1875 0 13.234375 3.875 \nQ 9.28125 7.765625 9.28125 18.015625 \nL 9.28125 47.703125 \nL 2.6875 47.703125 \nL 2.6875 54.6875 \nL 9.28125 54.6875 \nL 9.28125 70.21875 \nz\n\" id=\"DejaVuSans-116\"/>\n     <path d=\"M 44.28125 53.078125 \nL 44.28125 44.578125 \nQ 40.484375 46.53125 36.375 47.5 \nQ 32.28125 48.484375 27.875 48.484375 \nQ 21.1875 48.484375 17.84375 46.4375 \nQ 14.5 44.390625 14.5 40.28125 \nQ 14.5 37.15625 16.890625 35.375 \nQ 19.28125 33.59375 26.515625 31.984375 \nL 29.59375 31.296875 \nQ 39.15625 29.25 43.1875 25.515625 \nQ 47.21875 21.78125 47.21875 15.09375 \nQ 47.21875 7.46875 41.1875 3.015625 \nQ 35.15625 -1.421875 24.609375 -1.421875 \nQ 20.21875 -1.421875 15.453125 -0.5625 \nQ 10.6875 0.296875 5.421875 2 \nL 5.421875 11.28125 \nQ 10.40625 8.6875 15.234375 7.390625 \nQ 20.0625 6.109375 24.8125 6.109375 \nQ 31.15625 6.109375 34.5625 8.28125 \nQ 37.984375 10.453125 37.984375 14.40625 \nQ 37.984375 18.0625 35.515625 20.015625 \nQ 33.0625 21.96875 24.703125 23.78125 \nL 21.578125 24.515625 \nQ 13.234375 26.265625 9.515625 29.90625 \nQ 5.8125 33.546875 5.8125 39.890625 \nQ 5.8125 47.609375 11.28125 51.796875 \nQ 16.75 56 26.8125 56 \nQ 31.78125 56 36.171875 55.265625 \nQ 40.578125 54.546875 44.28125 53.078125 \nz\n\" id=\"DejaVuSans-115\"/>\n     <path d=\"M 56.203125 29.59375 \nL 56.203125 25.203125 \nL 14.890625 25.203125 \nQ 15.484375 15.921875 20.484375 11.0625 \nQ 25.484375 6.203125 34.421875 6.203125 \nQ 39.59375 6.203125 44.453125 7.46875 \nQ 49.3125 8.734375 54.109375 11.28125 \nL 54.109375 2.78125 \nQ 49.265625 0.734375 44.1875 -0.34375 \nQ 39.109375 -1.421875 33.890625 -1.421875 \nQ 20.796875 -1.421875 13.15625 6.1875 \nQ 5.515625 13.8125 5.515625 26.8125 \nQ 5.515625 40.234375 12.765625 48.109375 \nQ 20.015625 56 32.328125 56 \nQ 43.359375 56 49.78125 48.890625 \nQ 56.203125 41.796875 56.203125 29.59375 \nz\nM 47.21875 32.234375 \nQ 47.125 39.59375 43.09375 43.984375 \nQ 39.0625 48.390625 32.421875 48.390625 \nQ 24.90625 48.390625 20.390625 44.140625 \nQ 15.875 39.890625 15.1875 32.171875 \nz\n\" id=\"DejaVuSans-101\"/>\n     <path id=\"DejaVuSans-32\"/>\n     <path d=\"M 52 44.1875 \nQ 55.375 50.25 60.0625 53.125 \nQ 64.75 56 71.09375 56 \nQ 79.640625 56 84.28125 50.015625 \nQ 88.921875 44.046875 88.921875 33.015625 \nL 88.921875 0 \nL 79.890625 0 \nL 79.890625 32.71875 \nQ 79.890625 40.578125 77.09375 44.375 \nQ 74.3125 48.1875 68.609375 48.1875 \nQ 61.625 48.1875 57.5625 43.546875 \nQ 53.515625 38.921875 53.515625 30.90625 \nL 53.515625 0 \nL 44.484375 0 \nL 44.484375 32.71875 \nQ 44.484375 40.625 41.703125 44.40625 \nQ 38.921875 48.1875 33.109375 48.1875 \nQ 26.21875 48.1875 22.15625 43.53125 \nQ 18.109375 38.875 18.109375 30.90625 \nL 18.109375 0 \nL 9.078125 0 \nL 9.078125 54.6875 \nL 18.109375 54.6875 \nL 18.109375 46.1875 \nQ 21.1875 51.21875 25.484375 53.609375 \nQ 29.78125 56 35.6875 56 \nQ 41.65625 56 45.828125 52.96875 \nQ 50 49.953125 52 44.1875 \nz\n\" id=\"DejaVuSans-109\"/>\n     <path d=\"M 18.109375 8.203125 \nL 18.109375 -20.796875 \nL 9.078125 -20.796875 \nL 9.078125 54.6875 \nL 18.109375 54.6875 \nL 18.109375 46.390625 \nQ 20.953125 51.265625 25.265625 53.625 \nQ 29.59375 56 35.59375 56 \nQ 45.5625 56 51.78125 48.09375 \nQ 58.015625 40.1875 58.015625 27.296875 \nQ 58.015625 14.40625 51.78125 6.484375 \nQ 45.5625 -1.421875 35.59375 -1.421875 \nQ 29.59375 -1.421875 25.265625 0.953125 \nQ 20.953125 3.328125 18.109375 8.203125 \nz\nM 48.6875 27.296875 \nQ 48.6875 37.203125 44.609375 42.84375 \nQ 40.53125 48.484375 33.40625 48.484375 \nQ 26.265625 48.484375 22.1875 42.84375 \nQ 18.109375 37.203125 18.109375 27.296875 \nQ 18.109375 17.390625 22.1875 11.75 \nQ 26.265625 6.109375 33.40625 6.109375 \nQ 40.53125 6.109375 44.609375 11.75 \nQ 48.6875 17.390625 48.6875 27.296875 \nz\n\" id=\"DejaVuSans-112\"/>\n     <path d=\"M 9.421875 75.984375 \nL 18.40625 75.984375 \nL 18.40625 0 \nL 9.421875 0 \nz\n\" id=\"DejaVuSans-108\"/>\n    </defs>\n    <g style=\"fill:#262626;\" transform=\"translate(120.282031 16.318125)scale(0.12 -0.12)\">\n     <use xlink:href=\"#DejaVuSans-68\"/>\n     <use x=\"77.001953\" xlink:href=\"#DejaVuSans-97\"/>\n     <use x=\"138.28125\" xlink:href=\"#DejaVuSans-116\"/>\n     <use x=\"177.490234\" xlink:href=\"#DejaVuSans-97\"/>\n     <use x=\"238.769531\" xlink:href=\"#DejaVuSans-115\"/>\n     <use x=\"290.869141\" xlink:href=\"#DejaVuSans-101\"/>\n     <use x=\"352.392578\" xlink:href=\"#DejaVuSans-116\"/>\n     <use x=\"391.601562\" xlink:href=\"#DejaVuSans-32\"/>\n     <use x=\"423.388672\" xlink:href=\"#DejaVuSans-115\"/>\n     <use x=\"475.488281\" xlink:href=\"#DejaVuSans-97\"/>\n     <use x=\"536.767578\" xlink:href=\"#DejaVuSans-109\"/>\n     <use x=\"634.179688\" xlink:href=\"#DejaVuSans-112\"/>\n     <use x=\"697.65625\" xlink:href=\"#DejaVuSans-108\"/>\n     <use x=\"725.439453\" xlink:href=\"#DejaVuSans-101\"/>\n     <use x=\"786.962891\" xlink:href=\"#DejaVuSans-115\"/>\n    </g>\n   </g>\n   <g id=\"legend_1\">\n    <g id=\"patch_7\">\n     <path d=\"M 199.891562 148.834063 \nL 274.524844 148.834063 \nQ 276.724844 148.834063 276.724844 146.634063 \nL 276.724844 115.442187 \nQ 276.724844 113.242188 274.524844 113.242188 \nL 199.891562 113.242188 \nQ 197.691562 113.242188 197.691562 115.442187 \nL 197.691562 146.634063 \nQ 197.691562 148.834063 199.891562 148.834063 \nz\n\" style=\"fill:#eaeaf2;opacity:0.8;stroke:#cccccc;stroke-linejoin:miter;\"/>\n    </g>\n    <g id=\"PathCollection_3\">\n     <g>\n      <use style=\"fill:#4c72b0;stroke:#333333;\" x=\"213.091562\" xlink:href=\"#m3f20e1e04e\" y=\"123.112969\"/>\n     </g>\n    </g>\n    <g id=\"text_15\">\n     <!-- Class 0 -->\n     <defs>\n      <path d=\"M 64.40625 67.28125 \nL 64.40625 56.890625 \nQ 59.421875 61.53125 53.78125 63.8125 \nQ 48.140625 66.109375 41.796875 66.109375 \nQ 29.296875 66.109375 22.65625 58.46875 \nQ 16.015625 50.828125 16.015625 36.375 \nQ 16.015625 21.96875 22.65625 14.328125 \nQ 29.296875 6.6875 41.796875 6.6875 \nQ 48.140625 6.6875 53.78125 8.984375 \nQ 59.421875 11.28125 64.40625 15.921875 \nL 64.40625 5.609375 \nQ 59.234375 2.09375 53.4375 0.328125 \nQ 47.65625 -1.421875 41.21875 -1.421875 \nQ 24.65625 -1.421875 15.125 8.703125 \nQ 5.609375 18.84375 5.609375 36.375 \nQ 5.609375 53.953125 15.125 64.078125 \nQ 24.65625 74.21875 41.21875 74.21875 \nQ 47.75 74.21875 53.53125 72.484375 \nQ 59.328125 70.75 64.40625 67.28125 \nz\n\" id=\"DejaVuSans-67\"/>\n     </defs>\n     <g style=\"fill:#262626;\" transform=\"translate(232.891562 126.000469)scale(0.11 -0.11)\">\n      <use xlink:href=\"#DejaVuSans-67\"/>\n      <use x=\"69.824219\" xlink:href=\"#DejaVuSans-108\"/>\n      <use x=\"97.607422\" xlink:href=\"#DejaVuSans-97\"/>\n      <use x=\"158.886719\" xlink:href=\"#DejaVuSans-115\"/>\n      <use x=\"210.986328\" xlink:href=\"#DejaVuSans-115\"/>\n      <use x=\"263.085938\" xlink:href=\"#DejaVuSans-32\"/>\n      <use x=\"294.873047\" xlink:href=\"#DejaVuSans-48\"/>\n     </g>\n    </g>\n    <g id=\"PathCollection_4\">\n     <g>\n      <use style=\"fill:#dd8452;stroke:#333333;\" x=\"213.091562\" xlink:href=\"#m57bc58b30e\" y=\"139.258906\"/>\n     </g>\n    </g>\n    <g id=\"text_16\">\n     <!-- Class 1 -->\n     <g style=\"fill:#262626;\" transform=\"translate(232.891562 142.146406)scale(0.11 -0.11)\">\n      <use xlink:href=\"#DejaVuSans-67\"/>\n      <use x=\"69.824219\" xlink:href=\"#DejaVuSans-108\"/>\n      <use x=\"97.607422\" xlink:href=\"#DejaVuSans-97\"/>\n      <use x=\"158.886719\" xlink:href=\"#DejaVuSans-115\"/>\n      <use x=\"210.986328\" xlink:href=\"#DejaVuSans-115\"/>\n      <use x=\"263.085938\" xlink:href=\"#DejaVuSans-32\"/>\n      <use x=\"294.873047\" xlink:href=\"#DejaVuSans-49\"/>\n     </g>\n    </g>\n   </g>\n  </g>\n </g>\n <defs>\n  <clipPath id=\"pbe26521939\">\n   <rect height=\"217.44\" width=\"223.2\" x=\"59.024844\" y=\"22.318125\"/>\n  </clipPath>\n </defs>\n</svg>\n",
            "application/pdf": "[encoded data removed]"
          },
          "metadata": {}
        }
      ],
      "source": [
        "visualize_samples(dataset.data, dataset.label)\n",
        "plt.show()"
      ]
    },
    {
      "cell_type": "markdown",
      "metadata": {
        "id": "BT2qhFE14kws"
      },
      "source": [
        "#### The data loader class\n",
        "\n",
        "The class `torch.utils.data.DataLoader` represents a Python iterable over a dataset with support for automatic batching, multi-process data loading and many more features. The data loader communicates with the dataset using the function `__getitem__`, and stacks its outputs as tensors over the first dimension to form a batch.\n",
        "In contrast to the dataset class, we usually don't have to define our own data loader class, but can just create an object of it with the dataset as input. Additionally, we can configure our data loader with the following input arguments (only a selection, see full list [here](https://pytorch.org/docs/stable/data.html#torch.utils.data.DataLoader)):\n",
        "\n",
        "* `batch_size`: Number of samples to stack per batch\n",
        "* `shuffle`: If True, the data is returned in a random order. This is important during training for introducing stochasticity. \n",
        "* `num_workers`: Number of subprocesses to use for data loading. The default, 0, means that the data will be loaded in the main process which can slow down training for datasets where loading a data point takes a considerable amount of time (e.g. large images). More workers are recommended for those, but can cause issues on Windows computers. For tiny datasets as ours, 0 workers are usually faster.\n",
        "* `pin_memory`: If True, the data loader will copy Tensors into CUDA pinned memory before returning them. This can save some time for large data points on GPUs. Usually a good practice to use for a training set, but not necessarily for validation and test to save memory on the GPU.\n",
        "* `drop_last`: If True, the last batch is dropped in case it is smaller than the specified batch size. This occurs when the dataset size is not a multiple of the batch size. Only potentially helpful during training to keep a consistent batch size.\n",
        "\n",
        "Let's create a simple data loader below:"
      ]
    },
    {
      "cell_type": "code",
      "execution_count": 43,
      "metadata": {
        "id": "srz730EJ4kws"
      },
      "outputs": [],
      "source": [
        "data_loader = data.DataLoader(dataset, batch_size=8, shuffle=True)"
      ]
    },
    {
      "cell_type": "code",
      "execution_count": 44,
      "metadata": {
        "id": "55hqGxHU4kws",
        "colab": {
          "base_uri": "https://localhost:8080/"
        },
        "outputId": "17e673f9-fa51-40f1-e587-b800e1a43e8b"
      },
      "outputs": [
        {
          "output_type": "stream",
          "name": "stdout",
          "text": [
            "Data inputs torch.Size([8, 2]) \n",
            " tensor([[ 0.0368,  0.9528],\n",
            "        [ 1.0728,  1.0110],\n",
            "        [ 0.8631,  1.0804],\n",
            "        [ 0.9852, -0.0393],\n",
            "        [ 1.0955,  0.7728],\n",
            "        [-0.0171,  0.0521],\n",
            "        [-0.0926,  1.0179],\n",
            "        [ 1.0990, -0.1169]])\n",
            "Data labels torch.Size([8]) \n",
            " tensor([1, 0, 0, 1, 0, 0, 1, 1])\n"
          ]
        }
      ],
      "source": [
        "# next(iter(...)) catches the first batch of the data loader\n",
        "# If shuffle is True, this will return a different batch every time we run this cell\n",
        "# For iterating over the whole dataset, we can simple use \"for batch in data_loader: ...\"\n",
        "data_inputs, data_labels = next(iter(data_loader))\n",
        "\n",
        "# The shape of the outputs are [batch_size, d_1,...,d_N] where d_1,...,d_N are the \n",
        "# dimensions of the data point returned from the dataset class\n",
        "print(\"Data inputs\", data_inputs.shape, \"\\n\", data_inputs)\n",
        "print(\"Data labels\", data_labels.shape, \"\\n\", data_labels)"
      ]
    },
    {
      "cell_type": "markdown",
      "metadata": {
        "id": "atrINo-F4kws"
      },
      "source": [
        "### Optimization\n",
        "\n",
        "After defining the model and the dataset, it is time to prepare the optimization of the model. During training, we will perform the following steps:\n",
        "\n",
        "1. Get a batch from the data loader\n",
        "2. Obtain the predictions from the model for the batch\n",
        "3. Calculate the loss based on the difference between predictions and labels\n",
        "4. Backpropagation: calculate the gradients for every parameter with respect to the loss\n",
        "5. Update the parameters of the model in the direction of the gradients\n",
        "\n",
        "We have seen how we can do step 1, 2 and 4 in PyTorch. Now, we will look at step 3 and 5."
      ]
    },
    {
      "cell_type": "markdown",
      "metadata": {
        "id": "ltyN_dXz4kws"
      },
      "source": [
        "#### Loss modules\n",
        "\n",
        "We can calculate the loss for a batch by simply performing a few tensor operations as those are automatically added to the computation graph. For instance, for binary classification, we can use Binary Cross Entropy (BCE) which is defined as follows:\n",
        "\n",
        "$$\\mathcal{L}_{BCE} = \\sum_i y_i \\log x_i + (1 - y_i) \\log (1 - x_i)$$\n",
        "\n",
        "where $y$ are our labels, and $x$ our predictions, both in the range of $[0,1]$. However, PyTorch already provides a list of predefined loss functions which we can use (see [here](https://pytorch.org/docs/stable/nn.html#loss-functions) for a full list). For instance, for BCE, PyTorch has two modules: `nn.BCELoss()`, `nn.BCEWithLogitsLoss()`. While `nn.BCELoss` expects the inputs $x$ to be in the range $[0,1]$, i.e. the output of a sigmoid, `nn.BCEWithLogitsLoss` combines a sigmoid layer and the BCE loss in a single class. This version is numerically more stable than using a plain Sigmoid followed by a BCE loss because of the logarithms applied in the loss function. Hence, it is adviced to use loss functions applied on \"logits\" where possible (remember to not apply a sigmoid on the output of the model in this case!). For our model defined above, we therefore use the module `nn.BCEWithLogitsLoss`. "
      ]
    },
    {
      "cell_type": "code",
      "execution_count": 45,
      "metadata": {
        "id": "TaV9r_zE4kws"
      },
      "outputs": [],
      "source": [
        "loss_module = nn.BCEWithLogitsLoss()"
      ]
    },
    {
      "cell_type": "markdown",
      "metadata": {
        "id": "70G7Q5DJ4kws"
      },
      "source": [
        "#### Stochastic Gradient Descent\n",
        "\n",
        "For updating the parameters, PyTorch provides the package `torch.optim` that has most popular optimizers implemented. We will discuss the specific optimizers and their differences later in the course, but will for now use the simplest of them: `torch.optim.SGD`. Stochastic Gradient Descent updates parameters by multiplying the gradients with a small constant, called learning rate, and subtracting those from the parameters (hence minimizing the loss). Therefore, we slowly move towards the direction of minimizing the loss. A good default value of the learning rate for a small network as ours is 0.1. "
      ]
    },
    {
      "cell_type": "code",
      "execution_count": 46,
      "metadata": {
        "id": "awRdaDdl4kws"
      },
      "outputs": [],
      "source": [
        "# Input to the optimizer are the parameters of the model: model.parameters()\n",
        "optimizer = torch.optim.SGD(model.parameters(), lr=0.1)"
      ]
    },
    {
      "cell_type": "markdown",
      "metadata": {
        "id": "XbUC7dd64kws"
      },
      "source": [
        "The optimizer provides two useful functions: `optimizer.step()`, and `optimizer.zero_grad()`. The step function updates the parameters based on the gradients as explained above. The function `optimizer.zero_grad()` sets the gradients of all parameters to zero. While this function seems less relevant at first, it is a crucial pre-step before performing backpropagation. If we would call the `backward` function on the loss while the parameter gradients are non-zero from the previous batch, the new gradients would actually be added to the previous ones instead of overwriting them. This is done because a parameter might occur multiple times in a computation graph, and we need to sum the gradients in this case instead of replacing them. Hence, remember to call `optimizer.zero_grad()` before calculating the gradients of a batch."
      ]
    },
    {
      "cell_type": "markdown",
      "metadata": {
        "id": "kH-vTWeo4kws"
      },
      "source": [
        "### Training\n",
        "\n",
        "Finally, we are ready to train our model. As a first step, we create a slightly larger dataset and specify a data loader with a larger batch size. "
      ]
    },
    {
      "cell_type": "code",
      "execution_count": 47,
      "metadata": {
        "id": "iKeex2VD4kws"
      },
      "outputs": [],
      "source": [
        "train_dataset = XORDataset(size=1000)\n",
        "train_data_loader = data.DataLoader(train_dataset, batch_size=128, shuffle=True)"
      ]
    },
    {
      "cell_type": "markdown",
      "metadata": {
        "id": "Wlc_8u-b4kws"
      },
      "source": [
        "Now, we can write a small training function. Remember our five steps: load a batch, obtain the predictions, calculate the loss, backpropagate, and update. Additionally, we have to push all data and model parameters to the device of our choice (GPU if available). For the tiny neural network we have, communicating the data to the GPU actually takes much more time than we could save from running the operation on GPU. For large networks, the communication time is significantly smaller than the actual runtime making a GPU crucial in these cases. Still, to practice, we will push the data to GPU here. "
      ]
    },
    {
      "cell_type": "code",
      "execution_count": 48,
      "metadata": {
        "id": "f_fXp4964kws",
        "colab": {
          "base_uri": "https://localhost:8080/"
        },
        "outputId": "46cf5964-1eed-4e8e-870c-2a07d49d6b8c"
      },
      "outputs": [
        {
          "output_type": "execute_result",
          "data": {
            "text/plain": [
              "SimpleClassifier(\n",
              "  (linear1): Linear(in_features=2, out_features=4, bias=True)\n",
              "  (linear2): Linear(in_features=4, out_features=1, bias=True)\n",
              "  (act_fn): Tanh()\n",
              ")"
            ]
          },
          "metadata": {},
          "execution_count": 48
        }
      ],
      "source": [
        "# Push model to device. Has to be only done once\n",
        "model.to(device)"
      ]
    },
    {
      "cell_type": "markdown",
      "metadata": {
        "id": "aal36nkq4kwt"
      },
      "source": [
        "In addition, we set our model to training mode. This is done by calling `model.train()`. There exist certain modules that need to perform a different forward step during training than during testing (e.g. BatchNorm and Dropout), and we can switch between them using `model.train()` and `model.eval()`."
      ]
    },
    {
      "cell_type": "code",
      "execution_count": 49,
      "metadata": {
        "id": "gb4cykUN4kwt"
      },
      "outputs": [],
      "source": [
        "def train_model(model, optimizer, data_loader, loss_module, num_epochs=100):\n",
        "    # Set model to train mode\n",
        "    model.train() \n",
        "    \n",
        "    # Training loop\n",
        "    for epoch in tqdm(range(num_epochs)):\n",
        "        for data_inputs, data_labels in data_loader:\n",
        "            \n",
        "            ## TODO: Step 1 - Move input data to device\n",
        "            data_inputs = data_inputs.to(device) \n",
        "            data_labels = data_labels.to(device)\n",
        "            \n",
        "            ## TODO: Step 2 - Run the model on the input data\n",
        "            preds = model(data_inputs)\n",
        "            preds = preds.squeeze(dim=1)\n",
        "            \n",
        "            ## TODO: Step 3 - Calculate the loss using the module loss_module\n",
        "            loss = loss_module(preds, data_labels.float())\n",
        "            \n",
        "            ## TODO: Step 4 - Perform backpropagation\n",
        "            optimizer.zero_grad()\n",
        "            loss.backward()\n",
        "            \n",
        "            ## TODO: Step 5 - Update parameters\n",
        "            optimizer.step()\n",
        "            "
      ]
    },
    {
      "cell_type": "code",
      "execution_count": 50,
      "metadata": {
        "id": "KTG0hzap4kwt",
        "colab": {
          "base_uri": "https://localhost:8080/",
          "height": 49,
          "referenced_widgets": [
            "822628f71a754cae85cf44853b90c9d6",
            "331f58448d7c4f54905c2b466d51bc45",
            "13eab5de01f0475db5bf2ebac475586e",
            "d6b894eccebf44d7ab55df8cd80e09be",
            "9afec861c5914bc78c9dba6f7364a355",
            "3fbcd0684230479e8bee5626dce8c152",
            "93405906b9df41bdb803ca0264b7e212",
            "bd0f8ea928b943e2ab0bc67996983c6e",
            "66ac217eb7cc45328b854a24ae1f491d",
            "dd49a9db63544b86acf999b33cdc3e94",
            "fd6f9a9d02ed4591942b4bb0489cf42e"
          ]
        },
        "outputId": "79c81d2b-b3ea-422b-a1d2-036dcaf32d16"
      },
      "outputs": [
        {
          "output_type": "display_data",
          "data": {
            "text/plain": [
              "  0%|          | 0/100 [00:00<?, ?it/s]"
            ],
            "application/vnd.jupyter.widget-view+json": {
              "version_major": 2,
              "version_minor": 0,
              "model_id": "822628f71a754cae85cf44853b90c9d6"
            }
          },
          "metadata": {}
        }
      ],
      "source": [
        "train_model(model, optimizer, train_data_loader, loss_module)"
      ]
    },
    {
      "cell_type": "markdown",
      "metadata": {
        "id": "N4QtkNAq4kwt"
      },
      "source": [
        "#### Saving a model\n",
        "\n",
        "After finish training a model, we save the model to disk so that we can load the same weights at a later time. For this, we extract the so-called `state_dict` from the model which contains all learnable parameters. For our simple model, the state dict contains the following entries:"
      ]
    },
    {
      "cell_type": "code",
      "execution_count": 51,
      "metadata": {
        "id": "y3RSoCsg4kwt",
        "colab": {
          "base_uri": "https://localhost:8080/"
        },
        "outputId": "11cef7cf-99fb-426c-c772-5b6eec473b29"
      },
      "outputs": [
        {
          "output_type": "stream",
          "name": "stdout",
          "text": [
            "OrderedDict([('linear1.weight', tensor([[-0.3450, -0.4762],\n",
            "        [ 1.3620, -1.5140],\n",
            "        [ 0.0322,  0.2357],\n",
            "        [-0.7214,  0.1117]], device='cuda:0')), ('linear1.bias', tensor([-0.5844, -1.0293, -0.3893,  0.3043], device='cuda:0')), ('linear2.weight', tensor([[-0.4856,  1.3813,  0.0419,  0.4016]], device='cuda:0')), ('linear2.bias', tensor([0.3751], device='cuda:0'))])\n"
          ]
        }
      ],
      "source": [
        "state_dict = model.state_dict()\n",
        "print(state_dict)"
      ]
    },
    {
      "cell_type": "markdown",
      "metadata": {
        "id": "Gfa5ra5X4kwt"
      },
      "source": [
        "To save the state dictionary, we can use `torch.save`:"
      ]
    },
    {
      "cell_type": "code",
      "execution_count": 52,
      "metadata": {
        "id": "ZGRnEwDl4kwt"
      },
      "outputs": [],
      "source": [
        "# torch.save(object, filename). For the filename, any extension can be used\n",
        "torch.save(state_dict, \"our_model.tar\")"
      ]
    },
    {
      "cell_type": "markdown",
      "metadata": {
        "id": "z8w9UBRm4kwt"
      },
      "source": [
        "To load a model from a state dict, we use the function `torch.load` to load the state dict from the disk, and the module function `load_state_dict` to overwrite our parameters with the new values:"
      ]
    },
    {
      "cell_type": "code",
      "execution_count": 53,
      "metadata": {
        "id": "7s8MZcQZ4kwt",
        "colab": {
          "base_uri": "https://localhost:8080/"
        },
        "outputId": "c76231d8-cca7-4c8d-c231-2659dd71a94a"
      },
      "outputs": [
        {
          "output_type": "stream",
          "name": "stdout",
          "text": [
            "Original model\n",
            " OrderedDict([('linear1.weight', tensor([[-0.3450, -0.4762],\n",
            "        [ 1.3620, -1.5140],\n",
            "        [ 0.0322,  0.2357],\n",
            "        [-0.7214,  0.1117]], device='cuda:0')), ('linear1.bias', tensor([-0.5844, -1.0293, -0.3893,  0.3043], device='cuda:0')), ('linear2.weight', tensor([[-0.4856,  1.3813,  0.0419,  0.4016]], device='cuda:0')), ('linear2.bias', tensor([0.3751], device='cuda:0'))])\n",
            "\n",
            "Loaded model\n",
            " OrderedDict([('linear1.weight', tensor([[-0.3450, -0.4762],\n",
            "        [ 1.3620, -1.5140],\n",
            "        [ 0.0322,  0.2357],\n",
            "        [-0.7214,  0.1117]])), ('linear1.bias', tensor([-0.5844, -1.0293, -0.3893,  0.3043])), ('linear2.weight', tensor([[-0.4856,  1.3813,  0.0419,  0.4016]])), ('linear2.bias', tensor([0.3751]))])\n"
          ]
        }
      ],
      "source": [
        "# Load state dict from the disk (make sure it is the same name as above)\n",
        "state_dict = torch.load(\"our_model.tar\")\n",
        "\n",
        "# Create a new model and load the state\n",
        "new_model = SimpleClassifier(num_inputs=2, num_hidden=4, num_outputs=1)\n",
        "new_model.load_state_dict(state_dict)\n",
        "\n",
        "# Verify that the parameters are the same\n",
        "print(\"Original model\\n\", model.state_dict())\n",
        "print(\"\\nLoaded model\\n\", new_model.state_dict())"
      ]
    },
    {
      "cell_type": "markdown",
      "metadata": {
        "id": "kl-DCkXG4kwt"
      },
      "source": [
        "A detailed tutorial on saving and loading models in PyTorch can be found [here](https://pytorch.org/tutorials/beginner/saving_loading_models.html)."
      ]
    },
    {
      "cell_type": "markdown",
      "metadata": {
        "id": "e4PmCHgG4kwt"
      },
      "source": [
        "### Evaluation\n",
        "\n",
        "Once we have trained a model, it is time to evaluate it on a held-out test set. As our dataset consist of randomly generated data points, we need to first create a test set with a corresponding data loader."
      ]
    },
    {
      "cell_type": "code",
      "execution_count": 54,
      "metadata": {
        "id": "tGaGl9Mk4kwt"
      },
      "outputs": [],
      "source": [
        "test_dataset = XORDataset(size=500)\n",
        "# drop_last -> Don't drop the last batch although it is smaller than 128\n",
        "test_data_loader = data.DataLoader(test_dataset, batch_size=128, shuffle=False, drop_last=False) "
      ]
    },
    {
      "cell_type": "markdown",
      "metadata": {
        "id": "B0o_JMV04kwt"
      },
      "source": [
        "As metric, we will use accuracy which is calculated as follows:\n",
        "\n",
        "$$acc = \\frac{\\#\\text{correct predictions}}{\\#\\text{all predictions}} = \\frac{TP+TN}{TP+TN+FP+FN}$$\n",
        "\n",
        "where TP are the true positives, TN true negatives, FP false positives, and FN the fale negatives. \n",
        "\n",
        "When evaluating the model, we don't need to keep track of the computation graph as we don't intend to calculate the gradients. This reduces the required memory and speed up the model. In PyTorch, we can deactivate the computation graph using `with torch.no_grad(): ...`. Remember to additionally set the model to eval mode."
      ]
    },
    {
      "cell_type": "code",
      "execution_count": 55,
      "metadata": {
        "id": "u0fxnvz-4kwt"
      },
      "outputs": [],
      "source": [
        "def eval_model(model, data_loader):\n",
        "    model.eval() # Set model to eval mode\n",
        "    true_preds, num_preds = 0., 0.\n",
        "    \n",
        "    with torch.no_grad(): # Deactivate gradients for the following code\n",
        "        for data_inputs, data_labels in data_loader:\n",
        "            \n",
        "            ## TODO: Step 1 - Move data to device\n",
        "            data_inputs, data_labels = data_inputs.to(device), data_labels.to(device)\n",
        "            \n",
        "            ## TODO: Step 2 - Run the model on the input data\n",
        "            preds = model(data_inputs)\n",
        "\n",
        "            ## TODO: Step 3 - Determine binary predictions of the model\n",
        "            preds = preds.squeeze(dim=1)\n",
        "            preds = torch.sigmoid(preds) # Sigmoid to map predictions between 0 and 1\n",
        "            pred_labels = (preds >= 0.5).long() # Binarize predictions to 0 and 1\n",
        "            \n",
        "            ## TODO: Step 4 - Keep records of predictions for the accuracy metric (true_preds=TP+TN, num_preds=TP+TN+FP+FN)\n",
        "            eval = pred_labels == data_labels\n",
        "            true_preds += eval.sum()\n",
        "            num_preds += pred_labels.shape[0]\n",
        "            \n",
        "    acc = true_preds / num_preds\n",
        "    print(\"Accuracy of the model: %4.2f%%\" % (100.0*acc))"
      ]
    },
    {
      "cell_type": "code",
      "execution_count": 56,
      "metadata": {
        "id": "68FmKBeF4kwt",
        "colab": {
          "base_uri": "https://localhost:8080/"
        },
        "outputId": "b654a8d3-8c27-41e2-9cb5-29c9d08a93cd"
      },
      "outputs": [
        {
          "output_type": "stream",
          "name": "stdout",
          "text": [
            "Accuracy of the model: 74.60%\n"
          ]
        }
      ],
      "source": [
        "eval_model(model, test_data_loader)"
      ]
    },
    {
      "cell_type": "markdown",
      "metadata": {
        "id": "9k5HQQwS4kwt"
      },
      "source": [
        "If we trained our model correctly, we should see a score close to 100% accuracy. However, this is only possible because of our simple task, and unfortunately, we usually don't get such high scores on test sets of more complex tasks."
      ]
    },
    {
      "cell_type": "markdown",
      "metadata": {
        "id": "m3Lgr5-Z4kwt"
      },
      "source": [
        "#### Visualizing classification boundaries\n",
        "\n",
        "To visualize what our model has learned, we can perform a prediction for every data point in a range of $[-0.5, 1.5]$, and visualize the predicted class as in the sample figure at the beginning of this section. This shows where the model has created decision boundaries, and which points would be classified as $0$, and which as $1$. We therefore get a background image out of blue (class 0) and orange (class 1). The spots where the model is uncertain we will see a blurry overlap. The specific code is less relevant compared to the output figure which should hopefully show us a clear separation of classes:"
      ]
    },
    {
      "cell_type": "code",
      "execution_count": null,
      "metadata": {
        "id": "-u23eDj94kwt"
      },
      "outputs": [],
      "source": [
        "@torch.no_grad() # Decorator, same effect as \"with torch.no_grad(): ...\" over the whole function.\n",
        "def visualize_classification(model, data, label):\n",
        "    if isinstance(data, torch.Tensor):\n",
        "        data = data.cpu().numpy()\n",
        "    if isinstance(label, torch.Tensor):\n",
        "        label = label.cpu().numpy()\n",
        "    data_0 = data[label == 0]\n",
        "    data_1 = data[label == 1]\n",
        "    \n",
        "    plt.figure(figsize=(4,4))\n",
        "    plt.scatter(data_0[:,0], data_0[:,1], edgecolor=\"#333\", label=\"Class 0\")\n",
        "    plt.scatter(data_1[:,0], data_1[:,1], edgecolor=\"#333\", label=\"Class 1\")\n",
        "    plt.title(\"Dataset samples\")\n",
        "    plt.ylabel(r\"$x_2$\")\n",
        "    plt.xlabel(r\"$x_1$\")\n",
        "    plt.legend()\n",
        "    \n",
        "    # Let's make use of a lot of operations we have learned above\n",
        "    model.to(device)\n",
        "    c0 = torch.Tensor(to_rgba(\"C0\")).to(device)\n",
        "    c1 = torch.Tensor(to_rgba(\"C1\")).to(device)\n",
        "    x1 = torch.arange(-0.5, 1.5, step=0.01, device=device)\n",
        "    x2 = torch.arange(-0.5, 1.5, step=0.01, device=device)\n",
        "    xx1, xx2 = torch.meshgrid(x1, x2) # Meshgrid function as in numpy\n",
        "    model_inputs = torch.stack([xx1, xx2], dim=-1)\n",
        "    preds = model(model_inputs)\n",
        "    preds = torch.sigmoid(preds)\n",
        "    output_image = preds * c0[None,None] + (1 - preds) * c1[None,None] # Specifying \"None\" in a dimension creates a new one\n",
        "    output_image = output_image.cpu().numpy() # Convert to numpy array. This only works for tensors on CPU, hence first push to CPU\n",
        "    plt.imshow(output_image, origin='upper', extent=(-0.5, 1.5, -0.5, 1.5))\n",
        "    plt.grid(False)\n",
        "\n",
        "visualize_classification(model, dataset.data, dataset.label)\n",
        "plt.show()"
      ]
    },
    {
      "cell_type": "markdown",
      "metadata": {
        "id": "bM_uuNp_4kwu"
      },
      "source": [
        "The decision boundaries might not look exactly as in the figure in the preamble of this section which can be caused by running it on CPU or a different GPU architecture. Nevertheless, the result on the accuracy metric should be the approximately the same. "
      ]
    },
    {
      "cell_type": "markdown",
      "metadata": {
        "id": "DG3Kdjqm4kwu"
      },
      "source": [
        "## Additional features we didn't get to discuss yet\n",
        "\n",
        "Finally, you are all set to start with your own PyTorch project! In summary, we have looked at how we can build neural networks in PyTorch, and train and test them on data. However, there is still much more to PyTorch we haven't discussed yet. In the comming series of Jupyter notebooks, we will discover more and more functionalities of PyTorch, so that you also get familiar to PyTorch concepts beyond the basics. If you are already interested in learning more of PyTorch, we recommend the official [tutorial website](https://pytorch.org/tutorials/) that contains many tutorials on various topics. Especially logging with Tensorboard ([tutorial here](https://pytorch.org/tutorials/intermediate/tensorboard_tutorial.html)) is a good practice that we will explore from Tutorial 5 on. "
      ]
    }
  ],
  "metadata": {
    "kernelspec": {
      "display_name": "Python 3",
      "language": "python",
      "name": "python3"
    },
    "language_info": {
      "codemirror_mode": {
        "name": "ipython",
        "version": 3
      },
      "file_extension": ".py",
      "mimetype": "text/x-python",
      "name": "python",
      "nbconvert_exporter": "python",
      "pygments_lexer": "ipython3",
      "version": "3.7.3"
    },
    "colab": {
      "provenance": [],
      "include_colab_link": true
    },
    "accelerator": "GPU",
    "gpuClass": "standard",
    "widgets": {
      "application/vnd.jupyter.widget-state+json": {
        "822628f71a754cae85cf44853b90c9d6": {
          "model_module": "@jupyter-widgets/controls",
          "model_name": "HBoxModel",
          "model_module_version": "1.5.0",
          "state": {
            "_dom_classes": [],
            "_model_module": "@jupyter-widgets/controls",
            "_model_module_version": "1.5.0",
            "_model_name": "HBoxModel",
            "_view_count": null,
            "_view_module": "@jupyter-widgets/controls",
            "_view_module_version": "1.5.0",
            "_view_name": "HBoxView",
            "box_style": "",
            "children": [
              "IPY_MODEL_331f58448d7c4f54905c2b466d51bc45",
              "IPY_MODEL_13eab5de01f0475db5bf2ebac475586e",
              "IPY_MODEL_d6b894eccebf44d7ab55df8cd80e09be"
            ],
            "layout": "IPY_MODEL_9afec861c5914bc78c9dba6f7364a355"
          }
        },
        "331f58448d7c4f54905c2b466d51bc45": {
          "model_module": "@jupyter-widgets/controls",
          "model_name": "HTMLModel",
          "model_module_version": "1.5.0",
          "state": {
            "_dom_classes": [],
            "_model_module": "@jupyter-widgets/controls",
            "_model_module_version": "1.5.0",
            "_model_name": "HTMLModel",
            "_view_count": null,
            "_view_module": "@jupyter-widgets/controls",
            "_view_module_version": "1.5.0",
            "_view_name": "HTMLView",
            "description": "",
            "description_tooltip": null,
            "layout": "IPY_MODEL_3fbcd0684230479e8bee5626dce8c152",
            "placeholder": "​",
            "style": "IPY_MODEL_93405906b9df41bdb803ca0264b7e212",
            "value": "100%"
          }
        },
        "13eab5de01f0475db5bf2ebac475586e": {
          "model_module": "@jupyter-widgets/controls",
          "model_name": "FloatProgressModel",
          "model_module_version": "1.5.0",
          "state": {
            "_dom_classes": [],
            "_model_module": "@jupyter-widgets/controls",
            "_model_module_version": "1.5.0",
            "_model_name": "FloatProgressModel",
            "_view_count": null,
            "_view_module": "@jupyter-widgets/controls",
            "_view_module_version": "1.5.0",
            "_view_name": "ProgressView",
            "bar_style": "success",
            "description": "",
            "description_tooltip": null,
            "layout": "IPY_MODEL_bd0f8ea928b943e2ab0bc67996983c6e",
            "max": 100,
            "min": 0,
            "orientation": "horizontal",
            "style": "IPY_MODEL_66ac217eb7cc45328b854a24ae1f491d",
            "value": 100
          }
        },
        "d6b894eccebf44d7ab55df8cd80e09be": {
          "model_module": "@jupyter-widgets/controls",
          "model_name": "HTMLModel",
          "model_module_version": "1.5.0",
          "state": {
            "_dom_classes": [],
            "_model_module": "@jupyter-widgets/controls",
            "_model_module_version": "1.5.0",
            "_model_name": "HTMLModel",
            "_view_count": null,
            "_view_module": "@jupyter-widgets/controls",
            "_view_module_version": "1.5.0",
            "_view_name": "HTMLView",
            "description": "",
            "description_tooltip": null,
            "layout": "IPY_MODEL_dd49a9db63544b86acf999b33cdc3e94",
            "placeholder": "​",
            "style": "IPY_MODEL_fd6f9a9d02ed4591942b4bb0489cf42e",
            "value": " 100/100 [00:01&lt;00:00, 81.02it/s]"
          }
        },
        "9afec861c5914bc78c9dba6f7364a355": {
          "model_module": "@jupyter-widgets/base",
          "model_name": "LayoutModel",
          "model_module_version": "1.2.0",
          "state": {
            "_model_module": "@jupyter-widgets/base",
            "_model_module_version": "1.2.0",
            "_model_name": "LayoutModel",
            "_view_count": null,
            "_view_module": "@jupyter-widgets/base",
            "_view_module_version": "1.2.0",
            "_view_name": "LayoutView",
            "align_content": null,
            "align_items": null,
            "align_self": null,
            "border": null,
            "bottom": null,
            "display": null,
            "flex": null,
            "flex_flow": null,
            "grid_area": null,
            "grid_auto_columns": null,
            "grid_auto_flow": null,
            "grid_auto_rows": null,
            "grid_column": null,
            "grid_gap": null,
            "grid_row": null,
            "grid_template_areas": null,
            "grid_template_columns": null,
            "grid_template_rows": null,
            "height": null,
            "justify_content": null,
            "justify_items": null,
            "left": null,
            "margin": null,
            "max_height": null,
            "max_width": null,
            "min_height": null,
            "min_width": null,
            "object_fit": null,
            "object_position": null,
            "order": null,
            "overflow": null,
            "overflow_x": null,
            "overflow_y": null,
            "padding": null,
            "right": null,
            "top": null,
            "visibility": null,
            "width": null
          }
        },
        "3fbcd0684230479e8bee5626dce8c152": {
          "model_module": "@jupyter-widgets/base",
          "model_name": "LayoutModel",
          "model_module_version": "1.2.0",
          "state": {
            "_model_module": "@jupyter-widgets/base",
            "_model_module_version": "1.2.0",
            "_model_name": "LayoutModel",
            "_view_count": null,
            "_view_module": "@jupyter-widgets/base",
            "_view_module_version": "1.2.0",
            "_view_name": "LayoutView",
            "align_content": null,
            "align_items": null,
            "align_self": null,
            "border": null,
            "bottom": null,
            "display": null,
            "flex": null,
            "flex_flow": null,
            "grid_area": null,
            "grid_auto_columns": null,
            "grid_auto_flow": null,
            "grid_auto_rows": null,
            "grid_column": null,
            "grid_gap": null,
            "grid_row": null,
            "grid_template_areas": null,
            "grid_template_columns": null,
            "grid_template_rows": null,
            "height": null,
            "justify_content": null,
            "justify_items": null,
            "left": null,
            "margin": null,
            "max_height": null,
            "max_width": null,
            "min_height": null,
            "min_width": null,
            "object_fit": null,
            "object_position": null,
            "order": null,
            "overflow": null,
            "overflow_x": null,
            "overflow_y": null,
            "padding": null,
            "right": null,
            "top": null,
            "visibility": null,
            "width": null
          }
        },
        "93405906b9df41bdb803ca0264b7e212": {
          "model_module": "@jupyter-widgets/controls",
          "model_name": "DescriptionStyleModel",
          "model_module_version": "1.5.0",
          "state": {
            "_model_module": "@jupyter-widgets/controls",
            "_model_module_version": "1.5.0",
            "_model_name": "DescriptionStyleModel",
            "_view_count": null,
            "_view_module": "@jupyter-widgets/base",
            "_view_module_version": "1.2.0",
            "_view_name": "StyleView",
            "description_width": ""
          }
        },
        "bd0f8ea928b943e2ab0bc67996983c6e": {
          "model_module": "@jupyter-widgets/base",
          "model_name": "LayoutModel",
          "model_module_version": "1.2.0",
          "state": {
            "_model_module": "@jupyter-widgets/base",
            "_model_module_version": "1.2.0",
            "_model_name": "LayoutModel",
            "_view_count": null,
            "_view_module": "@jupyter-widgets/base",
            "_view_module_version": "1.2.0",
            "_view_name": "LayoutView",
            "align_content": null,
            "align_items": null,
            "align_self": null,
            "border": null,
            "bottom": null,
            "display": null,
            "flex": null,
            "flex_flow": null,
            "grid_area": null,
            "grid_auto_columns": null,
            "grid_auto_flow": null,
            "grid_auto_rows": null,
            "grid_column": null,
            "grid_gap": null,
            "grid_row": null,
            "grid_template_areas": null,
            "grid_template_columns": null,
            "grid_template_rows": null,
            "height": null,
            "justify_content": null,
            "justify_items": null,
            "left": null,
            "margin": null,
            "max_height": null,
            "max_width": null,
            "min_height": null,
            "min_width": null,
            "object_fit": null,
            "object_position": null,
            "order": null,
            "overflow": null,
            "overflow_x": null,
            "overflow_y": null,
            "padding": null,
            "right": null,
            "top": null,
            "visibility": null,
            "width": null
          }
        },
        "66ac217eb7cc45328b854a24ae1f491d": {
          "model_module": "@jupyter-widgets/controls",
          "model_name": "ProgressStyleModel",
          "model_module_version": "1.5.0",
          "state": {
            "_model_module": "@jupyter-widgets/controls",
            "_model_module_version": "1.5.0",
            "_model_name": "ProgressStyleModel",
            "_view_count": null,
            "_view_module": "@jupyter-widgets/base",
            "_view_module_version": "1.2.0",
            "_view_name": "StyleView",
            "bar_color": null,
            "description_width": ""
          }
        },
        "dd49a9db63544b86acf999b33cdc3e94": {
          "model_module": "@jupyter-widgets/base",
          "model_name": "LayoutModel",
          "model_module_version": "1.2.0",
          "state": {
            "_model_module": "@jupyter-widgets/base",
            "_model_module_version": "1.2.0",
            "_model_name": "LayoutModel",
            "_view_count": null,
            "_view_module": "@jupyter-widgets/base",
            "_view_module_version": "1.2.0",
            "_view_name": "LayoutView",
            "align_content": null,
            "align_items": null,
            "align_self": null,
            "border": null,
            "bottom": null,
            "display": null,
            "flex": null,
            "flex_flow": null,
            "grid_area": null,
            "grid_auto_columns": null,
            "grid_auto_flow": null,
            "grid_auto_rows": null,
            "grid_column": null,
            "grid_gap": null,
            "grid_row": null,
            "grid_template_areas": null,
            "grid_template_columns": null,
            "grid_template_rows": null,
            "height": null,
            "justify_content": null,
            "justify_items": null,
            "left": null,
            "margin": null,
            "max_height": null,
            "max_width": null,
            "min_height": null,
            "min_width": null,
            "object_fit": null,
            "object_position": null,
            "order": null,
            "overflow": null,
            "overflow_x": null,
            "overflow_y": null,
            "padding": null,
            "right": null,
            "top": null,
            "visibility": null,
            "width": null
          }
        },
        "fd6f9a9d02ed4591942b4bb0489cf42e": {
          "model_module": "@jupyter-widgets/controls",
          "model_name": "DescriptionStyleModel",
          "model_module_version": "1.5.0",
          "state": {
            "_model_module": "@jupyter-widgets/controls",
            "_model_module_version": "1.5.0",
            "_model_name": "DescriptionStyleModel",
            "_view_count": null,
            "_view_module": "@jupyter-widgets/base",
            "_view_module_version": "1.2.0",
            "_view_name": "StyleView",
            "description_width": ""
          }
        }
      }
    }
  },
  "nbformat": 4,
  "nbformat_minor": 0
}